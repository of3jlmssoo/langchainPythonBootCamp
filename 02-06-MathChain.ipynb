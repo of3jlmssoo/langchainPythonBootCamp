{
 "cells": [
  {
   "cell_type": "code",
   "execution_count": 1,
   "id": "7a766d75-1aca-42f4-8d8d-b7de5a140600",
   "metadata": {},
   "outputs": [
    {
     "data": {
      "text/plain": [
       "34271896307633"
      ]
     },
     "execution_count": 1,
     "metadata": {},
     "output_type": "execute_result"
    }
   ],
   "source": [
    "eval('17**11')"
   ]
  },
  {
   "cell_type": "code",
   "execution_count": 2,
   "id": "cd3d33fa-113b-41c1-870f-68d281fc2587",
   "metadata": {},
   "outputs": [],
   "source": [
    "# from langchain.chat_models import ChatOpenAI\n",
    "from langchain_google_genai import ChatGoogleGenerativeAI\n",
    "from langchain.prompts import ChatPromptTemplate, HumanMessagePromptTemplate\n",
    "\n",
    "from langchain.schema import (\n",
    "    AIMessage,\n",
    "    HumanMessage,\n",
    "    SystemMessage\n",
    ")"
   ]
  },
  {
   "cell_type": "code",
   "execution_count": 4,
   "id": "781c65fc-b139-43e0-95d3-714ad4220205",
   "metadata": {},
   "outputs": [],
   "source": [
    "model = ChatGoogleGenerativeAI(model=\"gemini-1.5-flash\") # type: ignore"
   ]
  },
  {
   "cell_type": "code",
   "execution_count": 6,
   "id": "f3e75218-d45b-4329-a176-861734d03447",
   "metadata": {},
   "outputs": [
    {
     "data": {
      "text/plain": [
       "\"17 raised to the power of 11 is a very large number! Here's how to calculate it:\\n\\n17¹¹ = 17 * 17 * 17 * 17 * 17 * 17 * 17 * 17 * 17 * 17 * 17\\n\\nThis equals **1,667,718,169,966,656**. \\n\""
      ]
     },
     "execution_count": 6,
     "metadata": {},
     "output_type": "execute_result"
    }
   ],
   "source": [
    "# result = model([HumanMessage(content=\"What is 17 raised to the power of 11?\")])\n",
    "# result.content # UH OH!"
   ]
  },
  {
   "cell_type": "code",
   "execution_count": 26,
   "id": "fa6be395",
   "metadata": {},
   "outputs": [],
   "source": [
    "result = model.invoke([HumanMessage(content=\"What is 17 raised to the power of 11?\")])"
   ]
  },
  {
   "cell_type": "code",
   "execution_count": 27,
   "id": "12d62442",
   "metadata": {},
   "outputs": [
    {
     "name": "stdout",
     "output_type": "stream",
     "text": [
      "17 raised to the power of 11 is a very large number! Here's how to calculate it:\n",
      "\n",
      "17¹¹ = 17 * 17 * 17 * 17 * 17 * 17 * 17 * 17 * 17 * 17 * 17 \n",
      "\n",
      "This equals **1,667,718,169,966,656**. \n",
      "\n"
     ]
    }
   ],
   "source": [
    "print(result.content)"
   ]
  },
  {
   "cell_type": "code",
   "execution_count": 32,
   "id": "2831050d-0d17-4ba7-be5c-e269067c8fe1",
   "metadata": {},
   "outputs": [
    {
     "name": "stdout",
     "output_type": "stream",
     "text": [
      "17**11 \n",
      "\n"
     ]
    }
   ],
   "source": [
    "# result = model([HumanMessage(content=\"Give me the Python formula that represents: What is 17 raised to the power of 11? Only reply with the formula, nothing else!\")])\n",
    "result = model([HumanMessage(content=\"Give me the Python formula that represents: What is 17 raised to the power of 11? Only the fomula as a text please\")])\n",
    "\n",
    "print(result.content) # UH OH!"
   ]
  },
  {
   "cell_type": "code",
   "execution_count": 33,
   "id": "9cde5056",
   "metadata": {},
   "outputs": [],
   "source": [
    "# result = model.invoke([HumanMessage(content=\"Give me the Python formula that represents: What is 17 raised to the power of 11? Only reply with the formula, nothing else!\")])"
   ]
  },
  {
   "cell_type": "code",
   "execution_count": 34,
   "id": "32eb2ed0",
   "metadata": {},
   "outputs": [
    {
     "name": "stdout",
     "output_type": "stream",
     "text": [
      "17**11 \n",
      "\n"
     ]
    }
   ],
   "source": [
    "print(result.content)"
   ]
  },
  {
   "cell_type": "code",
   "execution_count": 35,
   "id": "43fa0e3a-7d2a-4f27-9a48-fc4fed306bb4",
   "metadata": {},
   "outputs": [
    {
     "data": {
      "text/plain": [
       "34271896307633"
      ]
     },
     "execution_count": 35,
     "metadata": {},
     "output_type": "execute_result"
    }
   ],
   "source": [
    "eval(result.content)"
   ]
  },
  {
   "cell_type": "markdown",
   "id": "4cfd180e-3fba-4839-93d6-317d708e2039",
   "metadata": {},
   "source": [
    "### Easier Way!"
   ]
  },
  {
   "cell_type": "code",
   "execution_count": 36,
   "id": "9b942aac-db7e-4a76-8a19-a887c1b5dd35",
   "metadata": {},
   "outputs": [],
   "source": [
    "from langchain import LLMMathChain"
   ]
  },
  {
   "cell_type": "code",
   "execution_count": 38,
   "id": "cd2cffa5-ced1-4793-b1e7-0ed2047a06a0",
   "metadata": {},
   "outputs": [],
   "source": [
    "llm_math_model = LLMMathChain.from_llm(model)"
   ]
  },
  {
   "cell_type": "code",
   "execution_count": 41,
   "id": "9afa5dec-46a2-42ae-bfef-841eb80a677f",
   "metadata": {},
   "outputs": [
    {
     "data": {
      "text/plain": [
       "{'question': 'What is 17 raised to the power of 11?',\n",
       " 'answer': 'Answer: 34271896307633'}"
      ]
     },
     "execution_count": 41,
     "metadata": {},
     "output_type": "execute_result"
    }
   ],
   "source": [
    "llm_math_model.invoke(\"What is 17 raised to the power of 11?\")"
   ]
  },
  {
   "cell_type": "code",
   "execution_count": null,
   "id": "c8bfcf2b",
   "metadata": {},
   "outputs": [],
   "source": []
  }
 ],
 "metadata": {
  "kernelspec": {
   "display_name": "Python 3 (ipykernel)",
   "language": "python",
   "name": "python3"
  },
  "language_info": {
   "codemirror_mode": {
    "name": "ipython",
    "version": 3
   },
   "file_extension": ".py",
   "mimetype": "text/x-python",
   "name": "python",
   "nbconvert_exporter": "python",
   "pygments_lexer": "ipython3",
   "version": "3.10.12"
  }
 },
 "nbformat": 4,
 "nbformat_minor": 5
}
