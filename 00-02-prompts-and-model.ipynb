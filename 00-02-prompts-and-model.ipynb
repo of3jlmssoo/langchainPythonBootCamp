{
 "cells": [
  {
   "cell_type": "markdown",
   "id": "ede50d4d-6b9b-46b4-946c-edc6bde899c7",
   "metadata": {},
   "source": [
    "<a href = \"https://www.pieriantraining.com\"><img src=\"../PT Centered Purple.png\"> </a>\n",
    "\n",
    "<em style=\"text-align:center\">Copyrighted by Pierian Training</em>"
   ]
  },
  {
   "cell_type": "markdown",
   "id": "6c706772-7bbb-41a9-ab96-6480bc3ef2a3",
   "metadata": {
    "tags": []
   },
   "source": [
    "# Prompts and Models Exercise\n",
    "\n",
    "### NOTE: FEEL FREE TO JUST TREAT THIS AS A CODE ALONG EXAMPLE IF YOU DONT WANT AN EXERCISE BUT RATHER WATCH AN EXAMPLE.\n",
    "\n",
    "**TASK: Create a Python function that uses Prompts and Chat internally to give travel ideas related to two variables:**\n",
    "\n",
    "    * An Interest or Hobby\n",
    "    * A Budget\n",
    "    \n",
    "Remember that you should also decide on a system prompt. The end function will just be a nice wrapper on top of all the previous LangChain components we've discussed earlier."
   ]
  },
  {
   "cell_type": "markdown",
   "id": "18665a64",
   "metadata": {},
   "source": [
    "まず直前のレクチャーを参考に{interest_hobby}と{budget}をSystemMessageとHumanMessageにセットして処理してみる。\n",
    "\n",
    "Google Geminiの場合system messageがサポートされていないので、\n",
    "- system message + human message\n",
    "- human messageだけ\n",
    "のいずれかとなる。"
   ]
  },
  {
   "cell_type": "code",
   "execution_count": 3,
   "id": "3e0fa3ee",
   "metadata": {},
   "outputs": [],
   "source": [
    "from langchain.prompts import (\n",
    "    ChatPromptTemplate,\n",
    "    PromptTemplate,\n",
    "    SystemMessagePromptTemplate,\n",
    "    AIMessagePromptTemplate,\n",
    "    HumanMessagePromptTemplate,\n",
    ")\n",
    "from langchain.schema import (\n",
    "    AIMessage,\n",
    "    HumanMessage,\n",
    "    SystemMessage\n",
    ")"
   ]
  },
  {
   "cell_type": "code",
   "execution_count": 4,
   "id": "f80799ee",
   "metadata": {},
   "outputs": [
    {
     "data": {
      "text/plain": [
       "['interest_hobby']"
      ]
     },
     "execution_count": 4,
     "metadata": {},
     "output_type": "execute_result"
    }
   ],
   "source": [
    "system_template=\"You are an AI travel adviser that specializes in {interest_hobby}.\"\n",
    "system_message_prompt = SystemMessagePromptTemplate.from_template(system_template)\n",
    "system_message_prompt.input_variables"
   ]
  },
  {
   "cell_type": "code",
   "execution_count": null,
   "id": "a15d0780",
   "metadata": {},
   "outputs": [
    {
     "data": {
      "text/plain": [
       "['budget', 'interest_hobby']"
      ]
     },
     "metadata": {},
     "output_type": "display_data"
    }
   ],
   "source": [
    "# system_template=\"You are an AI travel adviser that specializes in {interest_hobby} that consts less than {budget}.\"\n",
    "# system_message_prompt = SystemMessagePromptTemplate.from_template(system_template)\n",
    "# system_message_prompt.input_variables"
   ]
  },
  {
   "cell_type": "code",
   "execution_count": 5,
   "id": "06f67bf3",
   "metadata": {},
   "outputs": [
    {
     "data": {
      "text/plain": [
       "['budget']"
      ]
     },
     "execution_count": 5,
     "metadata": {},
     "output_type": "execute_result"
    }
   ],
   "source": [
    "human_template = \"I want you make me a nice trip plan that costs under {budget}\"\n",
    "human_message_prompt = HumanMessagePromptTemplate.from_template(human_template)\n",
    "human_message_prompt.input_variables"
   ]
  },
  {
   "cell_type": "code",
   "execution_count": 6,
   "id": "8b1510d8",
   "metadata": {},
   "outputs": [],
   "source": [
    "chat_prompt = ChatPromptTemplate.from_messages([system_message_prompt,human_message_prompt])"
   ]
  },
  {
   "cell_type": "code",
   "execution_count": 7,
   "id": "2adc5dad",
   "metadata": {},
   "outputs": [
    {
     "data": {
      "text/plain": [
       "['budget', 'interest_hobby']"
      ]
     },
     "execution_count": 7,
     "metadata": {},
     "output_type": "execute_result"
    }
   ],
   "source": [
    "chat_prompt.input_variables"
   ]
  },
  {
   "cell_type": "code",
   "execution_count": 11,
   "id": "6bae8fd2",
   "metadata": {},
   "outputs": [],
   "source": [
    "# request = chat_prompt.format_prompt(interest_hobby=\"fishing\", budget=\"$1,000\").to_messages()\n",
    "interest_hobby = \"fishing\"\n",
    "budget = \"$1,000\"\n",
    "request = chat_prompt.format_prompt(interest_hobby=interest_hobby, budget=budget).to_messages()"
   ]
  },
  {
   "cell_type": "code",
   "execution_count": 12,
   "id": "c76c01b8",
   "metadata": {},
   "outputs": [
    {
     "name": "stderr",
     "output_type": "stream",
     "text": [
      "/home/hiroshisakuma/projects/.py312env/lib/python3.12/site-packages/langchain_google_genai/chat_models.py:352: UserWarning: Convert_system_message_to_human will be deprecated!\n",
      "  warnings.warn(\"Convert_system_message_to_human will be deprecated!\")\n"
     ]
    }
   ],
   "source": [
    "from langchain_google_genai import ChatGoogleGenerativeAI\n",
    "\n",
    "chat = ChatGoogleGenerativeAI(model=\"gemini-1.5-flash\",convert_system_message_to_human=True)\n",
    "# chat.invoke(\"tell me about gold price\")       \n",
    "result = chat.invoke(request)"
   ]
  },
  {
   "cell_type": "code",
   "execution_count": 13,
   "id": "51cd8461",
   "metadata": {},
   "outputs": [
    {
     "name": "stdout",
     "output_type": "stream",
     "text": [
      "## Your Budget-Friendly Fishing Adventure:  A 3-Day Trip to the Great Smoky Mountains\n",
      "\n",
      "**Destination:**  Gatlinburg, Tennessee\n",
      "\n",
      "**Cost:**  Under $1,000 (excluding travel to/from Gatlinburg)\n",
      "\n",
      "**Trip Focus:**  A relaxing and scenic trip with opportunities for trout fishing in beautiful mountain streams.\n",
      "\n",
      "**Itinerary:**\n",
      "\n",
      "**Day 1:**\n",
      "\n",
      "* **Morning:** Arrive in Gatlinburg and check into your cozy cabin.  [Consider a cabin rental like \"The Ridge\" on Airbnb for under $100/night.]\n",
      "* **Afternoon:**  Explore the charming town of Gatlinburg, browsing local shops and grabbing a bite at a family-friendly restaurant.  [Try \"The Peddler\" for a delicious and affordable meal.]\n",
      "* **Evening:**  Enjoy a relaxing evening in your cabin, preparing a campfire meal and enjoying the mountain views.\n",
      "\n",
      "**Day 2:**\n",
      "\n",
      "* **Morning:**  Head to the Great Smoky Mountains National Park.  [Entrance fee is $30 per vehicle, valid for 7 days.]  Drive to the Roaring Fork Motor Nature Trail, a scenic drive with several fishing spots along the way.\n",
      "* **Afternoon:**  Spend the afternoon fishing in the pristine waters of Roaring Fork.  [You can purchase a daily fishing license for around $5.]  Pack a picnic lunch to enjoy by the stream.\n",
      "* **Evening:**  Return to your cabin, enjoy a barbecue dinner, and stargaze under the clear mountain skies.\n",
      "\n",
      "**Day 3:**\n",
      "\n",
      "* **Morning:**  Wake up early and explore the park's trails.  [Try the Gatlinburg Trail for an easy hike with stunning views.]\n",
      "* **Afternoon:**  Visit the Gatlinburg Aquarium for a unique experience.  [Admission is around $30 per person.]\n",
      "* **Evening:**  Enjoy a final meal at a local restaurant, reflecting on your fishing adventure before heading back home.\n",
      "\n",
      "**Tips:**\n",
      "\n",
      "* **Bring your own fishing gear.**  This will save you money compared to renting.\n",
      "* **Pack light clothing and comfortable shoes.**  You'll be doing a lot of walking and hiking.\n",
      "* **Check the weather forecast and pack accordingly.**  The weather in the mountains can be unpredictable.\n",
      "* **Research fishing regulations and obtain the necessary licenses before your trip.**\n",
      "* **Leave no trace.**  Pack out everything you pack in to keep the environment clean.\n",
      "\n",
      "**This trip offers a budget-friendly way to experience the beauty of the Great Smoky Mountains and enjoy some relaxing trout fishing.  With a little planning, you can have an unforgettable adventure under $1,000!** \n",
      "\n"
     ]
    }
   ],
   "source": [
    "print(result.content)"
   ]
  },
  {
   "cell_type": "code",
   "execution_count": 1,
   "id": "b4e6adae-ddfa-403f-afbc-eac1ff964c54",
   "metadata": {},
   "outputs": [],
   "source": [
    "def travel_idea(interest,budget):\n",
    "    '''\n",
    "    INPUTS:\n",
    "        interest: A str interest or hobby (e.g. fishing)\n",
    "        budget: A str budget (e.g. $10,000)\n",
    "    '''\n",
    "    pass"
   ]
  },
  {
   "cell_type": "markdown",
   "id": "34d0ecc5-a526-4a9b-933f-e7785f9401df",
   "metadata": {},
   "source": [
    "**Example Solution**\n",
    "\n",
    "Keep in mind your solution may differ slightly, but as long as it works, that's ok!"
   ]
  },
  {
   "cell_type": "code",
   "execution_count": 2,
   "id": "320be1cb-a639-460d-8472-fb6def536b19",
   "metadata": {},
   "outputs": [],
   "source": [
    "# DONT FORGET TO SETUP YOUR API KEY!"
   ]
  },
  {
   "cell_type": "code",
   "execution_count": 8,
   "id": "df2fd2ad-66f9-4462-9436-5cc5e7ea2d7f",
   "metadata": {},
   "outputs": [],
   "source": [
    "# DON\"T FORGET YOUR IMPORTS!\n",
    "from langchain.prompts import (\n",
    "    ChatPromptTemplate,\n",
    "    PromptTemplate,\n",
    "    SystemMessagePromptTemplate,\n",
    "    AIMessagePromptTemplate,\n",
    "    HumanMessagePromptTemplate,\n",
    ")\n",
    "from langchain.schema import (\n",
    "    AIMessage,\n",
    "    HumanMessage,\n",
    "    SystemMessage\n",
    ")\n",
    "from langchain_google_genai import ChatGoogleGenerativeAI\n",
    "\n",
    "def travel_idea(interest_hobby,budget):\n",
    "    '''\n",
    "    INPUTS:\n",
    "        interest: A str interest or hobby (e.g. fishing)\n",
    "        budget: A str budget (e.g. $10,000)\n",
    "    '''\n",
    "    system_template=\"You are an AI travel adviser that specializes in {interest_hobby}.\"\n",
    "    system_message_prompt = SystemMessagePromptTemplate.from_template(system_template)\n",
    "    human_template = \"I want you make me a nice trip plan that costs under {budget}\"\n",
    "    human_message_prompt = HumanMessagePromptTemplate.from_template(human_template)\n",
    "    \n",
    "    chat_prompt = ChatPromptTemplate.from_messages([system_message_prompt,human_message_prompt])\n",
    "    request = chat_prompt.format_prompt(interest_hobby=interest_hobby, budget=\"$1,000\").to_messages()\n",
    "    \n",
    "    \n",
    "    chat = ChatGoogleGenerativeAI(model=\"gemini-1.5-flash\",convert_system_message_to_human=True)\n",
    "    result = chat.invoke(request)\n",
    "    \n",
    "    return result.content"
   ]
  },
  {
   "cell_type": "code",
   "execution_count": null,
   "id": "f7e240b6-96cf-4163-ad19-90a44cf7ef24",
   "metadata": {},
   "outputs": [],
   "source": [
    "print(travel_idea('anime','$10,000'))"
   ]
  }
 ],
 "metadata": {
  "kernelspec": {
   "display_name": "Python 3 (ipykernel)",
   "language": "python",
   "name": "python3"
  },
  "language_info": {
   "codemirror_mode": {
    "name": "ipython",
    "version": 3
   },
   "file_extension": ".py",
   "mimetype": "text/x-python",
   "name": "python",
   "nbconvert_exporter": "python",
   "pygments_lexer": "ipython3",
   "version": "3.12.4"
  }
 },
 "nbformat": 4,
 "nbformat_minor": 5
}
