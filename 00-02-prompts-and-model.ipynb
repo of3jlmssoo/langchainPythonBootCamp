{
 "cells": [
  {
   "cell_type": "markdown",
   "id": "ede50d4d-6b9b-46b4-946c-edc6bde899c7",
   "metadata": {},
   "source": [
    "<a href = \"https://www.pieriantraining.com\"><img src=\"../PT Centered Purple.png\"> </a>\n",
    "\n",
    "<em style=\"text-align:center\">Copyrighted by Pierian Training</em>"
   ]
  },
  {
   "cell_type": "markdown",
   "id": "6c706772-7bbb-41a9-ab96-6480bc3ef2a3",
   "metadata": {
    "tags": []
   },
   "source": [
    "# Prompts and Models Exercise\n",
    "\n",
    "### NOTE: FEEL FREE TO JUST TREAT THIS AS A CODE ALONG EXAMPLE IF YOU DONT WANT AN EXERCISE BUT RATHER WATCH AN EXAMPLE.\n",
    "\n",
    "**TASK: Create a Python function that uses Prompts and Chat internally to give travel ideas related to two variables:**\n",
    "\n",
    "    * An Interest or Hobby\n",
    "    * A Budget\n",
    "    \n",
    "Remember that you should also decide on a system prompt. The end function will just be a nice wrapper on top of all the previous LangChain components we've discussed earlier."
   ]
  },
  {
   "cell_type": "markdown",
   "id": "18665a64",
   "metadata": {},
   "source": [
    "まず直前のレクチャーを参考に{interest_hobby}と{budget}をSystemMessageとHumanMessageにセットして処理してみる。\n",
    "\n",
    "Google Geminiの場合system messageがサポートされていないので、\n",
    "- system message + human message\n",
    "- human messageだけ\n",
    "のいずれかとなる。"
   ]
  },
  {
   "cell_type": "code",
   "execution_count": 1,
   "id": "3e0fa3ee",
   "metadata": {},
   "outputs": [],
   "source": [
    "from langchain.prompts import (\n",
    "    ChatPromptTemplate,\n",
    "    PromptTemplate,\n",
    "    SystemMessagePromptTemplate,\n",
    "    AIMessagePromptTemplate,\n",
    "    HumanMessagePromptTemplate,\n",
    ")\n",
    "from langchain.schema import (\n",
    "    AIMessage,\n",
    "    HumanMessage,\n",
    "    SystemMessage\n",
    ")"
   ]
  },
  {
   "cell_type": "code",
   "execution_count": 2,
   "id": "f80799ee",
   "metadata": {},
   "outputs": [
    {
     "data": {
      "text/plain": [
       "['interest_hobby']"
      ]
     },
     "execution_count": 2,
     "metadata": {},
     "output_type": "execute_result"
    }
   ],
   "source": [
    "system_template=\"You are an AI travel adviser that specializes in {interest_hobby}.\"\n",
    "system_message_prompt = SystemMessagePromptTemplate.from_template(system_template)\n",
    "system_message_prompt.input_variables"
   ]
  },
  {
   "cell_type": "code",
   "execution_count": 3,
   "id": "a15d0780",
   "metadata": {},
   "outputs": [],
   "source": [
    "# system_template=\"You are an AI travel adviser that specializes in {interest_hobby} that consts less than {budget}.\"\n",
    "# system_message_prompt = SystemMessagePromptTemplate.from_template(system_template)\n",
    "# system_message_prompt.input_variables"
   ]
  },
  {
   "cell_type": "code",
   "execution_count": 4,
   "id": "06f67bf3",
   "metadata": {},
   "outputs": [
    {
     "data": {
      "text/plain": [
       "['budget']"
      ]
     },
     "execution_count": 4,
     "metadata": {},
     "output_type": "execute_result"
    }
   ],
   "source": [
    "human_template = \"I want you make me a nice trip plan that costs under {budget}\"\n",
    "human_message_prompt = HumanMessagePromptTemplate.from_template(human_template)\n",
    "human_message_prompt.input_variables"
   ]
  },
  {
   "cell_type": "code",
   "execution_count": 5,
   "id": "8b1510d8",
   "metadata": {},
   "outputs": [],
   "source": [
    "chat_prompt = ChatPromptTemplate.from_messages([system_message_prompt,human_message_prompt])"
   ]
  },
  {
   "cell_type": "code",
   "execution_count": 6,
   "id": "2adc5dad",
   "metadata": {},
   "outputs": [
    {
     "data": {
      "text/plain": [
       "['budget', 'interest_hobby']"
      ]
     },
     "execution_count": 6,
     "metadata": {},
     "output_type": "execute_result"
    }
   ],
   "source": [
    "chat_prompt.input_variables"
   ]
  },
  {
   "cell_type": "code",
   "execution_count": 7,
   "id": "6bae8fd2",
   "metadata": {},
   "outputs": [],
   "source": [
    "# request = chat_prompt.format_prompt(interest_hobby=\"fishing\", budget=\"$1,000\").to_messages()\n",
    "interest_hobby = \"fishing\"\n",
    "budget = \"$1,000\"\n",
    "request = chat_prompt.format_prompt(interest_hobby=interest_hobby, budget=budget).to_messages()"
   ]
  },
  {
   "cell_type": "code",
   "execution_count": 8,
   "id": "c76c01b8",
   "metadata": {},
   "outputs": [],
   "source": [
    "from langchain_google_genai import ChatGoogleGenerativeAI\n",
    "\n",
    "chat = ChatGoogleGenerativeAI(model=\"gemini-1.5-flash\",convert_system_message_to_human=True)\n",
    "# chat.invoke(\"tell me about gold price\")       \n",
    "result = chat.invoke(request)"
   ]
  },
  {
   "cell_type": "code",
   "execution_count": 9,
   "id": "51cd8461",
   "metadata": {},
   "outputs": [
    {
     "name": "stdout",
     "output_type": "stream",
     "text": [
      "<class 'langchain_core.messages.ai.AIMessage'>\n",
      "##  Your Budget-Friendly Fishing Adventure: A Trip to the Great Smoky Mountains\n",
      "\n",
      "**Destination:**  Gatlinburg, Tennessee, nestled in the Great Smoky Mountains National Park.\n",
      "\n",
      "**Cost:**  Under $1,000 (flexible depending on your preferences)\n",
      "\n",
      "**Why this trip?**\n",
      "\n",
      "* **Abundant fishing opportunities:** The Smokies boast numerous rivers, streams, and lakes teeming with trout, bass, catfish, and more.\n",
      "* **Stunning natural beauty:** Surrounded by majestic mountains and lush forests, the Smokies offer breathtaking scenery.\n",
      "* **Affordable:** Gatlinburg offers a range of budget-friendly accommodations and dining options.\n",
      "\n",
      "**Trip Itinerary (5 days/4 nights):**\n",
      "\n",
      "**Day 1:**\n",
      "\n",
      "* **Morning:** Arrive in Gatlinburg and check into your budget-friendly hotel or cabin. Explore the town and grab lunch at a local diner.\n",
      "* **Afternoon:** Head to the **Great Smoky Mountains National Park** and explore the **Sugarlands Visitor Center** for information on fishing spots and permits. \n",
      "* **Evening:** Enjoy a delicious dinner at a local restaurant and try some authentic Southern cuisine.\n",
      "\n",
      "**Day 2:**\n",
      "\n",
      "* **Morning:**  Drive to **Little Pigeon River** and try your luck at catching rainbow trout. This river is known for its scenic beauty and accessible fishing spots.\n",
      "* **Afternoon:**  Explore the **Gatlinburg Trail** for a scenic hike and enjoy the surrounding nature.\n",
      "* **Evening:**  Relax at your accommodation, enjoy a barbecue, and share fishing stories with your fellow anglers.\n",
      "\n",
      "**Day 3:**\n",
      "\n",
      "* **Morning:**  Head to **Douglas Lake**, a popular spot for bass fishing. Rent a boat or kayak and explore the lake's many fishing spots.\n",
      "* **Afternoon:**  Visit the **Dollywood**, an amusement park with rides, shows, and delicious food.\n",
      "* **Evening:**  Enjoy a quiet evening at your accommodation, maybe try a local craft beer, and plan your next fishing adventure.\n",
      "\n",
      "**Day 4:**\n",
      "\n",
      "* **Morning:**  Explore the **Pigeon Forge** area and visit the **Titanic Museum Attraction** for a unique experience.\n",
      "* **Afternoon:**  Try your hand at fly fishing in the **West Prong of the Little Pigeon River**. This area is known for its beautiful scenery and challenging fishing.\n",
      "* **Evening:**  Enjoy a final meal at a local restaurant and reflect on your fishing adventure.\n",
      "\n",
      "**Day 5:**\n",
      "\n",
      "* **Morning:**  Depart from Gatlinburg, taking home memories and perhaps a few fish tales.\n",
      "\n",
      "**Budget Breakdown:**\n",
      "\n",
      "* **Accommodation:** $200 - $300 (4 nights)\n",
      "* **Food:** $200 - $250\n",
      "* **Gas/Transportation:** $100 - $150\n",
      "* **Fishing Licenses/Permits:** $20 - $40\n",
      "* **Fishing Gear (if needed):** $100 - $200\n",
      "* **Activities/Attractions:** $50 - $100\n",
      "\n",
      "**Total:** **Under $1,000**\n",
      "\n",
      "**Tips for Saving Money:**\n",
      "\n",
      "* **Travel during the off-season:** Avoid peak season (summer) for cheaper accommodations and fewer crowds.\n",
      "* **Cook some meals:** Stock up on groceries and enjoy picnics by the river.\n",
      "* **Look for deals and discounts:**  Check for online coupons and promotions for attractions and activities.\n",
      "* **Bring your own fishing gear:**  If you already have your equipment, you can save money on rentals.\n",
      "* **Consider camping:**  Camping can be a budget-friendly alternative to hotels.\n",
      "\n",
      "**Remember:**\n",
      "\n",
      "* **Get your fishing license:**  It is required in Tennessee for anyone fishing in state waters.\n",
      "* **Respect the environment:**  Practice catch and release for sustainable fishing. \n",
      "* **Check weather conditions:**  Be prepared for changing weather in the mountains.\n",
      "* **Have fun!**  Enjoy the beauty of the Smokies and the thrill of catching a fish.\n",
      "\n",
      "This is just a sample itinerary, feel free to customize it to your preferences and budget. Happy fishing!\n"
     ]
    }
   ],
   "source": [
    "print(type(result))\n",
    "print(result.content)"
   ]
  },
  {
   "cell_type": "code",
   "execution_count": 10,
   "id": "b4e6adae-ddfa-403f-afbc-eac1ff964c54",
   "metadata": {},
   "outputs": [],
   "source": [
    "def travel_idea(interest,budget):\n",
    "    '''\n",
    "    INPUTS:\n",
    "        interest: A str interest or hobby (e.g. fishing)\n",
    "        budget: A str budget (e.g. $10,000)\n",
    "    '''\n",
    "    pass"
   ]
  },
  {
   "cell_type": "code",
   "execution_count": 11,
   "id": "320be1cb-a639-460d-8472-fb6def536b19",
   "metadata": {},
   "outputs": [],
   "source": [
    "# DONT FORGET TO SETUP YOUR API KEY!"
   ]
  },
  {
   "cell_type": "code",
   "execution_count": 12,
   "id": "df2fd2ad-66f9-4462-9436-5cc5e7ea2d7f",
   "metadata": {},
   "outputs": [],
   "source": [
    "# DON\"T FORGET YOUR IMPORTS!\n",
    "from langchain.prompts import (\n",
    "    ChatPromptTemplate,\n",
    "    PromptTemplate,\n",
    "    SystemMessagePromptTemplate,\n",
    "    AIMessagePromptTemplate,\n",
    "    HumanMessagePromptTemplate,\n",
    ")\n",
    "from langchain.schema import (\n",
    "    AIMessage,\n",
    "    HumanMessage,\n",
    "    SystemMessage\n",
    ")\n",
    "from langchain_google_genai import ChatGoogleGenerativeAI\n",
    "\n",
    "def travel_idea(interest_hobby,budget):\n",
    "    '''\n",
    "    INPUTS:\n",
    "        interest: A str interest or hobby (e.g. fishing)\n",
    "        budget: A str budget (e.g. $10,000)\n",
    "    '''\n",
    "    system_template=\"You are an AI travel adviser that specializes in {interest_hobby}.\"\n",
    "    system_message_prompt = SystemMessagePromptTemplate.from_template(system_template)\n",
    "    human_template = \"I want you make me a nice trip plan that costs under {budget}\"\n",
    "    human_message_prompt = HumanMessagePromptTemplate.from_template(human_template)\n",
    "    \n",
    "    chat_prompt = ChatPromptTemplate.from_messages([system_message_prompt,human_message_prompt])\n",
    "    request = chat_prompt.format_prompt(interest_hobby=interest_hobby, budget=\"$1,000\").to_messages()\n",
    "    \n",
    "    \n",
    "    chat = ChatGoogleGenerativeAI(model=\"gemini-1.5-flash\",convert_system_message_to_human=True)\n",
    "    result = chat.invoke(request)\n",
    "    \n",
    "    return result.content"
   ]
  },
  {
   "cell_type": "code",
   "execution_count": null,
   "id": "f7e240b6-96cf-4163-ad19-90a44cf7ef24",
   "metadata": {},
   "outputs": [],
   "source": [
    "print(travel_idea('anime','$10,000'))"
   ]
  },
  {
   "cell_type": "code",
   "execution_count": null,
   "id": "d8500b1c",
   "metadata": {},
   "outputs": [],
   "source": []
  }
 ],
 "metadata": {
  "kernelspec": {
   "display_name": "Python 3 (ipykernel)",
   "language": "python",
   "name": "python3"
  },
  "language_info": {
   "codemirror_mode": {
    "name": "ipython",
    "version": 3
   },
   "file_extension": ".py",
   "mimetype": "text/x-python",
   "name": "python",
   "nbconvert_exporter": "python",
   "pygments_lexer": "ipython3",
   "version": "3.10.12"
  }
 },
 "nbformat": 4,
 "nbformat_minor": 5
}
