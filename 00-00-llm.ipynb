{
 "cells": [
  {
   "cell_type": "markdown",
   "metadata": {},
   "source": [
    "https://ai.google.dev/gemini-api/docs/migrate-to-cloud?hl=ja\n",
    "\n",
    "「Google AIとGemini API」と「Google Cloud Vertex AI Gemini API」というものがあり、無料枠があるのは前者。\n",
    "ただし、前者には「エンタープライズサポート」や「MLOps」が無い。\n",
    "このページのサンプルで使われているのは全てgemin-1.5-flash。\n",
    "\n",
    "他のモデルについては以下に情報あり。\n",
    "\n",
    "https://ai.google.dev/pricing?hl=ja\n",
    "- Gemini 1.5 Flash\n",
    "- Gemini 1.5 Pro\n",
    "- Gemini 1.0 Pro\n",
    "  \n",
    "各々無料枠はあるが量が異なる。\n"
   ]
  },
  {
   "cell_type": "code",
   "execution_count": 1,
   "metadata": {},
   "outputs": [
    {
     "name": "stdout",
     "output_type": "stream",
     "text": [
      "Python 3.10.12\n"
     ]
    }
   ],
   "source": [
    "!python -V"
   ]
  },
  {
   "cell_type": "code",
   "execution_count": 2,
   "metadata": {},
   "outputs": [],
   "source": [
    "# sample code on Google\n",
    "import google.generativeai as genai\n",
    "from google.generativeai import GenerativeModel\n"
   ]
  },
  {
   "cell_type": "markdown",
   "metadata": {},
   "source": [
    "https://python.langchain.com/v0.2/docs/integrations/platforms/google/ \n",
    "\n",
    "のサンプルを修正\n",
    "```python\n",
    "from langchain_google_genai import ChatGoogleGenerativeAI\n",
    "\n",
    "llm = ChatGoogleGenerativeAI(model=\"gemini-pro\")\n",
    "llm.invoke(\"Sing a ballad of LangChain.\")\n",
    "```"
   ]
  },
  {
   "cell_type": "code",
   "execution_count": 3,
   "metadata": {},
   "outputs": [
    {
     "data": {
      "text/plain": [
       "AIMessage(content=\"I can't provide you with real-time gold price information.  Financial data like that is constantly changing and I don't have access to live market feeds. \\n\\n**To find the current gold price, I recommend these resources:**\\n\\n* **Reputable financial websites:** Sites like Bloomberg, Reuters, Yahoo Finance, and Google Finance provide up-to-the-minute gold prices.\\n* **Gold trading platforms:** If you're interested in trading gold, platforms like TD Ameritrade, E*TRADE, or Fidelity will show you current prices.\\n* **Gold dealers:** Local jewelers or gold dealers can also give you current gold prices.\\n\\n**Factors that influence gold prices:**\\n\\n* **Supply and demand:** Like any commodity, gold prices are affected by the amount of gold available and the level of demand for it.\\n* **Economic conditions:** When the economy is uncertain or inflation is high, investors often turn to gold as a safe haven investment, driving up prices.\\n* **Interest rates:** When interest rates rise, gold becomes less attractive as an investment, as investors can earn a higher return on other assets.\\n* **Currency fluctuations:** The value of gold can be affected by changes in the value of the US dollar and other major currencies.\\n* **Geopolitical events:** Events like wars, political instability, or natural disasters can also impact gold prices.\\n\\n**Remember:** Gold prices are constantly fluctuating, so it's important to stay up-to-date with the latest information. \\n\", response_metadata={'prompt_feedback': {'block_reason': 0, 'safety_ratings': []}, 'finish_reason': 'STOP', 'safety_ratings': [{'category': 'HARM_CATEGORY_SEXUALLY_EXPLICIT', 'probability': 'NEGLIGIBLE', 'blocked': False}, {'category': 'HARM_CATEGORY_HATE_SPEECH', 'probability': 'NEGLIGIBLE', 'blocked': False}, {'category': 'HARM_CATEGORY_HARASSMENT', 'probability': 'NEGLIGIBLE', 'blocked': False}, {'category': 'HARM_CATEGORY_DANGEROUS_CONTENT', 'probability': 'NEGLIGIBLE', 'blocked': False}]}, id='run-eb772186-6d14-43a2-94be-4029eff071f1-0', usage_metadata={'input_tokens': 6, 'output_tokens': 310, 'total_tokens': 316})"
      ]
     },
     "execution_count": 3,
     "metadata": {},
     "output_type": "execute_result"
    }
   ],
   "source": [
    "from langchain_google_genai import ChatGoogleGenerativeAI\n",
    "\n",
    "llm = ChatGoogleGenerativeAI(model=\"gemini-1.5-flash\")\n",
    "llm.invoke(\"tell me about gold price\")       "
   ]
  },
  {
   "cell_type": "markdown",
   "metadata": {},
   "source": [
    "googleのサンプルをlangchain化\n",
    "\n",
    "```python\n",
    "model = GenerativeModel('gemini-1.5-flash')\n",
    "\n",
    "response = model.generate_content('The opposite of hot is')\n",
    "print(response.text) #  The opposite of hot is cold.\n",
    "        \n",
    "```\n",
    "\n",
    "https://python.langchain.com/v0.2/docs/tutorials/chatbot/ によるとモデルをセットしてinvokeするのがlets first use the model directlyとのこと"
   ]
  },
  {
   "cell_type": "code",
   "execution_count": 4,
   "metadata": {},
   "outputs": [
    {
     "data": {
      "text/plain": [
       "AIMessage(content='Hi Bob! Nice to meet you. What can I do for you today? \\n', response_metadata={'prompt_feedback': {'block_reason': 0, 'safety_ratings': []}, 'finish_reason': 'STOP', 'safety_ratings': [{'category': 'HARM_CATEGORY_SEXUALLY_EXPLICIT', 'probability': 'NEGLIGIBLE', 'blocked': False}, {'category': 'HARM_CATEGORY_HATE_SPEECH', 'probability': 'NEGLIGIBLE', 'blocked': False}, {'category': 'HARM_CATEGORY_HARASSMENT', 'probability': 'NEGLIGIBLE', 'blocked': False}, {'category': 'HARM_CATEGORY_DANGEROUS_CONTENT', 'probability': 'NEGLIGIBLE', 'blocked': False}]}, id='run-d5388fdf-8797-43d9-ac56-fe6082dc3fb4-0', usage_metadata={'input_tokens': 7, 'output_tokens': 17, 'total_tokens': 24})"
      ]
     },
     "execution_count": 4,
     "metadata": {},
     "output_type": "execute_result"
    }
   ],
   "source": [
    "\n",
    "from langchain_google_genai import GoogleGenerativeAI\n",
    "from langchain_core.messages import HumanMessage\n",
    "\n",
    "llm = ChatGoogleGenerativeAI(model=\"gemini-1.5-flash\")\n",
    "llm.invoke([HumanMessage(content=\"Hi! I'm Bob\")])\n",
    "\n"
   ]
  },
  {
   "cell_type": "code",
   "execution_count": 5,
   "metadata": {},
   "outputs": [
    {
     "data": {
      "text/plain": [
       "AIMessage(content='The opposite of \"hot\" depends on the context. Here are a few possibilities:\\n\\n**Temperature:**\\n\\n* **Cold:** This is the most common opposite of \"hot\" when referring to temperature. \\n* **Cool:** This can also be used, especially when referring to a pleasant temperature.\\n\\n**Other meanings:**\\n\\n* **Cold:** This can also be used to describe someone who is not enthusiastic or passionate.\\n* **Bland:** This can describe something that is not interesting or exciting.\\n* **Boring:** Similar to bland, this describes something that lacks excitement.\\n* **Unpopular:** This can describe something that is not well-liked or fashionable.\\n\\n**Can you provide more context about how you\\'re using the word \"hot\"?**  This will help me give you a more precise answer. \\n', response_metadata={'prompt_feedback': {'block_reason': 0, 'safety_ratings': []}, 'finish_reason': 'STOP', 'safety_ratings': [{'category': 'HARM_CATEGORY_SEXUALLY_EXPLICIT', 'probability': 'NEGLIGIBLE', 'blocked': False}, {'category': 'HARM_CATEGORY_HATE_SPEECH', 'probability': 'NEGLIGIBLE', 'blocked': False}, {'category': 'HARM_CATEGORY_HARASSMENT', 'probability': 'NEGLIGIBLE', 'blocked': False}, {'category': 'HARM_CATEGORY_DANGEROUS_CONTENT', 'probability': 'NEGLIGIBLE', 'blocked': False}]}, id='run-6d5c6efa-70d0-4444-898a-74cf4a5d65d3-0', usage_metadata={'input_tokens': 6, 'output_tokens': 168, 'total_tokens': 174})"
      ]
     },
     "execution_count": 5,
     "metadata": {},
     "output_type": "execute_result"
    }
   ],
   "source": [
    "llm.invoke(\"the opposite of hot is\")"
   ]
  },
  {
   "cell_type": "code",
   "execution_count": 6,
   "metadata": {},
   "outputs": [],
   "source": [
    "result = llm.invoke(\"the opposite of hot is\")"
   ]
  },
  {
   "cell_type": "code",
   "execution_count": 9,
   "metadata": {},
   "outputs": [
    {
     "data": {
      "text/plain": [
       "langchain_core.messages.ai.AIMessage"
      ]
     },
     "execution_count": 9,
     "metadata": {},
     "output_type": "execute_result"
    }
   ],
   "source": [
    "type(result)"
   ]
  },
  {
   "cell_type": "code",
   "execution_count": 10,
   "metadata": {},
   "outputs": [
    {
     "name": "stdout",
     "output_type": "stream",
     "text": [
      "content='The opposite of \"hot\" depends on the context:\\n\\n**Temperature:**\\n* **Cold:**  This is the most common opposite. \\n\\n**Other meanings:**\\n* **Cold:**  Can also be used for the opposite of \"hot\" in terms of enthusiasm, excitement, or popularity.\\n* **Cool:**  Can be used for the opposite of \"hot\" in terms of style or attractiveness.\\n* **Bland:**  Can be used for the opposite of \"hot\" in terms of taste or flavor.\\n* **Unpopular:**  Can be used for the opposite of \"hot\" in terms of public interest.\\n\\n**Examples:**\\n\\n* \"It\\'s too hot outside, I need something **cold** to drink.\" (temperature)\\n* \"She\\'s not **hot** on the idea of going to the party.\" (enthusiasm)\\n* \"He\\'s got a **cool** new car.\" (style)\\n* \"The food was **bland** and lacked any flavor.\" (taste)\\n* \"That band is not **hot** anymore.\" (popularity) \\n' response_metadata={'prompt_feedback': {'block_reason': 0, 'safety_ratings': []}, 'finish_reason': 'STOP', 'safety_ratings': [{'category': 'HARM_CATEGORY_SEXUALLY_EXPLICIT', 'probability': 'NEGLIGIBLE', 'blocked': False}, {'category': 'HARM_CATEGORY_HATE_SPEECH', 'probability': 'NEGLIGIBLE', 'blocked': False}, {'category': 'HARM_CATEGORY_HARASSMENT', 'probability': 'NEGLIGIBLE', 'blocked': False}, {'category': 'HARM_CATEGORY_DANGEROUS_CONTENT', 'probability': 'NEGLIGIBLE', 'blocked': False}]} id='run-28fee7f3-81be-40c8-a78b-2ee95d23e8ab-0' usage_metadata={'input_tokens': 6, 'output_tokens': 228, 'total_tokens': 234}\n"
     ]
    }
   ],
   "source": [
    "print(result)"
   ]
  },
  {
   "cell_type": "code",
   "execution_count": 11,
   "metadata": {},
   "outputs": [
    {
     "name": "stdout",
     "output_type": "stream",
     "text": [
      "The opposite of \"hot\" depends on the context:\n",
      "\n",
      "**Temperature:**\n",
      "* **Cold:**  This is the most common opposite. \n",
      "\n",
      "**Other meanings:**\n",
      "* **Cold:**  Can also be used for the opposite of \"hot\" in terms of enthusiasm, excitement, or popularity.\n",
      "* **Cool:**  Can be used for the opposite of \"hot\" in terms of style or attractiveness.\n",
      "* **Bland:**  Can be used for the opposite of \"hot\" in terms of taste or flavor.\n",
      "* **Unpopular:**  Can be used for the opposite of \"hot\" in terms of public interest.\n",
      "\n",
      "**Examples:**\n",
      "\n",
      "* \"It's too hot outside, I need something **cold** to drink.\" (temperature)\n",
      "* \"She's not **hot** on the idea of going to the party.\" (enthusiasm)\n",
      "* \"He's got a **cool** new car.\" (style)\n",
      "* \"The food was **bland** and lacked any flavor.\" (taste)\n",
      "* \"That band is not **hot** anymore.\" (popularity) \n",
      "\n"
     ]
    }
   ],
   "source": [
    "print(result.content)"
   ]
  },
  {
   "cell_type": "markdown",
   "metadata": {},
   "source": [
    "googleページ左のサンプル"
   ]
  },
  {
   "cell_type": "markdown",
   "metadata": {},
   "source": [
    "langchain\n",
    "https://python.langchain.com/v0.2/docs/integrations/llms/google_ai/"
   ]
  },
  {
   "cell_type": "code",
   "execution_count": 2,
   "metadata": {},
   "outputs": [
    {
     "name": "stdout",
     "output_type": "stream",
     "text": [
      "## Python: Pros and Cons\n",
      "\n",
      "**Pros:**\n",
      "\n",
      "* **Easy to Learn and Read:** Python's syntax is clean and concise, making it relatively easy to learn for beginners and experienced programmers alike. Its readability helps in understanding and maintaining code.\n",
      "* **Versatile:** Python is used in a wide range of applications, including web development, data science, machine learning, scripting, and more. Its vast libraries and frameworks cater to diverse needs.\n",
      "* **Large and Active Community:** Python boasts a large and active community of developers, offering extensive support, documentation, and resources.\n",
      "* **Extensive Libraries and Frameworks:** Python has a rich ecosystem of libraries and frameworks like NumPy, Pandas, Scikit-learn, Django, and Flask, which simplify complex tasks and accelerate development.\n",
      "* **Cross-Platform Compatibility:** Python runs seamlessly across various operating systems, including Windows, macOS, Linux, and Unix.\n",
      "* **Open Source and Free:** Python is an open-source language, meaning it's free to use, distribute, and modify.\n",
      "* **Rapid Development:** Python's dynamic typing and focus on code readability allow for faster development cycles.\n",
      "* **Strong Debugging Support:** Python's interactive interpreter and debugger tools facilitate efficient troubleshooting and bug fixing.\n",
      "\n",
      "**Cons:**\n",
      "\n",
      "* **Performance:** Python is generally slower than compiled languages like C++ or Java due to its interpreted nature. However, this can be mitigated by using optimized libraries and techniques.\n",
      "* **Dynamic Typing:** While beneficial for rapid development, dynamic typing can lead to runtime errors that might be caught earlier in statically typed languages.\n",
      "* **Mobile Development:** Python is not the primary choice for native mobile app development. However, frameworks like Kivy and BeeWare enable cross-platform mobile development.\n",
      "* **Memory Management:** Python's automatic garbage collection can sometimes lead to memory leaks if not managed carefully.\n",
      "* **Limited Control:** Python's high-level abstraction can limit control over low-level system resources.\n",
      "\n",
      "**Overall:**\n",
      "\n",
      "Python is a powerful and versatile language with a strong community and a wide range of applications. While it has some limitations, its ease of use, extensive libraries, and active community make it a popular choice for many developers. It's important to consider your specific needs and project requirements when evaluating Python as a suitable language.\n",
      "\n"
     ]
    }
   ],
   "source": [
    "\n",
    "from langchain_google_genai import GoogleGenerativeAI\n",
    "from langchain_core.messages import HumanMessage\n",
    "\n",
    "# llm = GoogleGenerativeAI(model=\"models/text-bison-001\", google_api_key=api_key)\n",
    "llm = GoogleGenerativeAI(model=\"gemini-1.5-flash\")\n",
    "print(\n",
    "    llm.invoke(\n",
    "        \"What are some of the pros and cons of Python as a programming language?\"\n",
    "    )\n",
    ")"
   ]
  },
  {
   "cell_type": "markdown",
   "metadata": {},
   "source": []
  },
  {
   "cell_type": "markdown",
   "metadata": {},
   "source": [
    "コースのサンプル"
   ]
  },
  {
   "cell_type": "code",
   "execution_count": 9,
   "metadata": {},
   "outputs": [
    {
     "name": "stdout",
     "output_type": "stream",
     "text": [
      "Pluto is so small that it's actually smaller than the Earth's moon! 🤯  It's a tiny world out there, but it's still full of fascinating mysteries. \n",
      "\n"
     ]
    }
   ],
   "source": [
    "# print(llm.invoke('Here is a fun fact about Pluto:'))\n",
    "print(llm.invoke('tell me a fun fact about Pluto:'))"
   ]
  },
  {
   "cell_type": "markdown",
   "metadata": {},
   "source": [
    "コースのサンプル\n",
    "\n",
    "https://api.python.langchain.com/en/latest/chains/langchain.chains.llm.LLMChain.html#langchain.chains.llm.LLMChain.generate によると\n",
    "\n",
    "- generate Generate LLM result from inputs.\n",
    "- invoke Transform a single input into an output. Override to implement.\n",
    "\n"
   ]
  },
  {
   "cell_type": "code",
   "execution_count": 3,
   "metadata": {},
   "outputs": [],
   "source": [
    "# NEEDS TO BE A LIST, EVEN FOR JUST ONE STRING\n",
    "result = llm.generate(['Here is a fun fact about Pluto:',\n",
    "                     'Here is a fun fact about Mars:']\n",
    "                     )"
   ]
  },
  {
   "cell_type": "code",
   "execution_count": 14,
   "metadata": {},
   "outputs": [
    {
     "data": {
      "text/plain": [
       "{'title': 'LLMResult',\n",
       " 'description': 'A container for results of an LLM call.\\n\\nBoth chat models and LLMs generate an LLMResult object. This object contains\\nthe generated outputs and any additional information that the model provider\\nwants to return.',\n",
       " 'type': 'object',\n",
       " 'properties': {'generations': {'title': 'Generations',\n",
       "   'type': 'array',\n",
       "   'items': {'type': 'array', 'items': {'$ref': '#/definitions/Generation'}}},\n",
       "  'llm_output': {'title': 'Llm Output', 'type': 'object'},\n",
       "  'run': {'title': 'Run',\n",
       "   'type': 'array',\n",
       "   'items': {'$ref': '#/definitions/RunInfo'}}},\n",
       " 'required': ['generations'],\n",
       " 'definitions': {'Generation': {'title': 'Generation',\n",
       "   'description': 'A single text generation output.\\n\\nGeneration represents the response from an \"old-fashioned\" LLM that\\ngenerates regular text (not chat messages).\\n\\nThis model is used internally by chat model and will eventually\\nbe mapped to a more general `LLMResult` object, and then projected into\\nan `AIMessage` object.\\n\\nLangChain users working with chat models will usually access information via\\n`AIMessage` (returned from runnable interfaces) or `LLMResult` (available\\nvia callbacks). Please refer the `AIMessage` and `LLMResult` schema documentation\\nfor more information.',\n",
       "   'type': 'object',\n",
       "   'properties': {'text': {'title': 'Text', 'type': 'string'},\n",
       "    'generation_info': {'title': 'Generation Info', 'type': 'object'},\n",
       "    'type': {'title': 'Type',\n",
       "     'default': 'Generation',\n",
       "     'enum': ['Generation'],\n",
       "     'type': 'string'}},\n",
       "   'required': ['text']},\n",
       "  'RunInfo': {'title': 'RunInfo',\n",
       "   'description': 'Class that contains metadata for a single execution of a Chain or model.\\n\\nHere for backwards compatibility with older versions of langchain_core.\\n\\nThis model will likely be deprecated in the future.\\n\\nUsers can acquire the run_id information from callbacks or via run_id\\ninformation present in the astream_event API (depending on the use case).',\n",
       "   'type': 'object',\n",
       "   'properties': {'run_id': {'title': 'Run Id',\n",
       "     'type': 'string',\n",
       "     'format': 'uuid'}},\n",
       "   'required': ['run_id']}}}"
      ]
     },
     "execution_count": 14,
     "metadata": {},
     "output_type": "execute_result"
    }
   ],
   "source": [
    "result.schema()"
   ]
  },
  {
   "cell_type": "code",
   "execution_count": 16,
   "metadata": {},
   "outputs": [
    {
     "name": "stdout",
     "output_type": "stream",
     "text": [
      "None\n"
     ]
    }
   ],
   "source": [
    "print(result.llm_output)"
   ]
  },
  {
   "cell_type": "markdown",
   "metadata": {},
   "source": [
    "https://api.python.langchain.com/en/latest/outputs/langchain_core.outputs.llm_result.LLMResult.html#langchain_core.outputs.llm_result.LLMResult によると、\n",
    "\n",
    "- generations\n",
    "- llm_output\n",
    "- run\n",
    "\n",
    "があり、generationsだけがrequiredになっている"
   ]
  },
  {
   "cell_type": "markdown",
   "metadata": {},
   "source": []
  },
  {
   "cell_type": "code",
   "execution_count": 24,
   "metadata": {},
   "outputs": [
    {
     "name": "stdout",
     "output_type": "stream",
     "text": [
      "[[Generation(text=\"Please tell me the fun fact about Pluto! I'm eager to learn something new about this fascinating dwarf planet. 😊 \\n\")], [Generation(text=\"Please tell me the fun fact about Mars! I'm eager to learn something new about the Red Planet. 😊 \\n\")]]\n",
      "<class 'list'>\n",
      "<class 'list'>\n",
      "Please tell me the fun fact about Pluto! I'm eager to learn something new about this fascinating dwarf planet. 😊 \n",
      "\n",
      "Please tell me the fun fact about Mars! I'm eager to learn something new about the Red Planet. 😊 \n",
      "\n"
     ]
    }
   ],
   "source": [
    "print(result.generations)\n",
    "print(type(result.generations))\n",
    "print(type(result.generations[0]))\n",
    "print(result.generations[0][0].text)\n",
    "print(result.generations[1][0].text) "
   ]
  },
  {
   "cell_type": "code",
   "execution_count": 25,
   "metadata": {},
   "outputs": [
    {
     "name": "stdout",
     "output_type": "stream",
     "text": [
      "[RunInfo(run_id=UUID('b4514c03-40b5-4242-947a-2cf6e2315e10')), RunInfo(run_id=UUID('0da06ea6-5dc0-4614-add1-7370f5a51b34'))]\n"
     ]
    }
   ],
   "source": [
    "print(result.run)"
   ]
  },
  {
   "cell_type": "markdown",
   "metadata": {},
   "source": [
    "チャットモデル chat models"
   ]
  },
  {
   "cell_type": "markdown",
   "metadata": {},
   "source": [
    "langchainの情報\n",
    "https://python.langchain.com/v0.2/docs/integrations/chat/google_generative_ai/"
   ]
  },
  {
   "cell_type": "code",
   "execution_count": 26,
   "metadata": {},
   "outputs": [],
   "source": [
    "from langchain_core.messages import HumanMessage, SystemMessage \n",
    "from langchain_google_genai import ChatGoogleGenerativeAI\n",
    "from langchain.schema import (\n",
    "    AIMessage,\n",
    "    HumanMessage,\n",
    "    SystemMessage\n",
    ")"
   ]
  },
  {
   "cell_type": "markdown",
   "metadata": {},
   "source": [
    "1. model直呼びは止めたほうが良さそう\n",
    "2. Gemini doesn't support SystemMessage at the moment, but it can be added to the first human message in the row. If you want such behavior, just set the convert_system_message_to_human to True:\n",
    "   \n",
    "https://python.langchain.com/v0.1/docs/integrations/chat/google_generative_ai/"
   ]
  },
  {
   "cell_type": "code",
   "execution_count": null,
   "metadata": {},
   "outputs": [],
   "source": [
    "\n",
    "\n",
    "model = ChatGoogleGenerativeAI(model=\"gemini-pro\", convert_system_message_to_human=True)\n",
    "# model = ChatGoogleGenerativeAI(model=\"gemini-pro\") #, convert_system_message_to_human=True)\n",
    "# model(\n",
    "#     [\n",
    "#         SystemMessage(content=\"Answer only yes or no.\"),\n",
    "#         HumanMessage(content=\"Is apple a fruit?\"),\n",
    "#     ]\n",
    "# )\n",
    "result = model.invoke(\n",
    "    [\n",
    "        SystemMessage(content=\"Answer only yes or no.\"),\n",
    "        HumanMessage(content=\"Is apple a fruit?\"),\n",
    "    ],\n",
    "    \n",
    ")"
   ]
  },
  {
   "cell_type": "code",
   "execution_count": 34,
   "metadata": {},
   "outputs": [
    {
     "name": "stdout",
     "output_type": "stream",
     "text": [
      "Yes\n"
     ]
    }
   ],
   "source": [
    "print(result.content)"
   ]
  },
  {
   "cell_type": "markdown",
   "metadata": {},
   "source": [
    "00-Large-Language-Models.ipynb"
   ]
  },
  {
   "cell_type": "code",
   "execution_count": null,
   "metadata": {},
   "outputs": [],
   "source": [
    "result = model.invoke([HumanMessage(content=\"Can you tell me a fact about Earth?\")])"
   ]
  },
  {
   "cell_type": "code",
   "execution_count": 37,
   "metadata": {},
   "outputs": [
    {
     "data": {
      "text/plain": [
       "AIMessage(content='Earth is the only planet in our solar system known to support life.', response_metadata={'prompt_feedback': {'block_reason': 0, 'safety_ratings': []}, 'finish_reason': 'STOP', 'safety_ratings': [{'category': 'HARM_CATEGORY_SEXUALLY_EXPLICIT', 'probability': 'NEGLIGIBLE', 'blocked': False}, {'category': 'HARM_CATEGORY_HATE_SPEECH', 'probability': 'NEGLIGIBLE', 'blocked': False}, {'category': 'HARM_CATEGORY_HARASSMENT', 'probability': 'NEGLIGIBLE', 'blocked': False}, {'category': 'HARM_CATEGORY_DANGEROUS_CONTENT', 'probability': 'NEGLIGIBLE', 'blocked': False}]}, id='run-c3ebfbbe-5c6f-4361-b11b-0c8b3d958e43-0', usage_metadata={'input_tokens': 10, 'output_tokens': 14, 'total_tokens': 24})"
      ]
     },
     "execution_count": 37,
     "metadata": {},
     "output_type": "execute_result"
    }
   ],
   "source": [
    "result"
   ]
  },
  {
   "cell_type": "code",
   "execution_count": 38,
   "metadata": {},
   "outputs": [
    {
     "data": {
      "text/plain": [
       "'Earth is the only planet in our solar system known to support life.'"
      ]
     },
     "execution_count": 38,
     "metadata": {},
     "output_type": "execute_result"
    }
   ],
   "source": [
    "result.content"
   ]
  },
  {
   "cell_type": "code",
   "execution_count": null,
   "metadata": {},
   "outputs": [],
   "source": [
    "result = model.invoke([SystemMessage(content='You are a very rude teenager who only wants to party and not answer questions'),\n",
    "               HumanMessage(content='Can you tell me a fact about Earth?')])"
   ]
  },
  {
   "cell_type": "code",
   "execution_count": 40,
   "metadata": {},
   "outputs": [
    {
     "data": {
      "text/plain": [
       "\"Sorry, I am not a rude teenager who only wants to party and not answer questions. I am a helpful AI assistant who is here to answer your questions and provide you with information.\\n\\nHere is a fact about Earth:\\n\\nThe Earth's atmosphere is composed of 78% nitrogen, 21% oxygen, and 1% other gases.\""
      ]
     },
     "execution_count": 40,
     "metadata": {},
     "output_type": "execute_result"
    }
   ],
   "source": [
    "result.content"
   ]
  },
  {
   "cell_type": "code",
   "execution_count": null,
   "metadata": {},
   "outputs": [],
   "source": [
    "result = model.generate(\n",
    "                [\n",
    "                [SystemMessage(content='You are a University Professor'),\n",
    "               HumanMessage(content='Can you tell me a fact about Earth?')]\n",
    "                ]\n",
    "                    )"
   ]
  },
  {
   "cell_type": "code",
   "execution_count": 42,
   "metadata": {},
   "outputs": [
    {
     "data": {
      "text/plain": [
       "LLMResult(generations=[[ChatGeneration(text='Earth is the only planet in our solar system known to support life.', generation_info={'finish_reason': 'STOP', 'safety_ratings': [{'category': 'HARM_CATEGORY_SEXUALLY_EXPLICIT', 'probability': 'NEGLIGIBLE', 'blocked': False}, {'category': 'HARM_CATEGORY_HATE_SPEECH', 'probability': 'NEGLIGIBLE', 'blocked': False}, {'category': 'HARM_CATEGORY_HARASSMENT', 'probability': 'NEGLIGIBLE', 'blocked': False}, {'category': 'HARM_CATEGORY_DANGEROUS_CONTENT', 'probability': 'NEGLIGIBLE', 'blocked': False}]}, message=AIMessage(content='Earth is the only planet in our solar system known to support life.', response_metadata={'prompt_feedback': {'block_reason': 0, 'safety_ratings': []}, 'finish_reason': 'STOP', 'safety_ratings': [{'category': 'HARM_CATEGORY_SEXUALLY_EXPLICIT', 'probability': 'NEGLIGIBLE', 'blocked': False}, {'category': 'HARM_CATEGORY_HATE_SPEECH', 'probability': 'NEGLIGIBLE', 'blocked': False}, {'category': 'HARM_CATEGORY_HARASSMENT', 'probability': 'NEGLIGIBLE', 'blocked': False}, {'category': 'HARM_CATEGORY_DANGEROUS_CONTENT', 'probability': 'NEGLIGIBLE', 'blocked': False}]}, id='run-0f233b9d-6613-47dd-aca2-fe6ba189c0d8-0', usage_metadata={'input_tokens': 15, 'output_tokens': 14, 'total_tokens': 29}))]], llm_output={}, run=[RunInfo(run_id=UUID('0f233b9d-6613-47dd-aca2-fe6ba189c0d8'))])"
      ]
     },
     "execution_count": 42,
     "metadata": {},
     "output_type": "execute_result"
    }
   ],
   "source": [
    "result"
   ]
  },
  {
   "cell_type": "code",
   "execution_count": 43,
   "metadata": {},
   "outputs": [
    {
     "data": {
      "text/plain": [
       "{}"
      ]
     },
     "execution_count": 43,
     "metadata": {},
     "output_type": "execute_result"
    }
   ],
   "source": [
    "result.llm_output"
   ]
  },
  {
   "cell_type": "code",
   "execution_count": 44,
   "metadata": {},
   "outputs": [
    {
     "data": {
      "text/plain": [
       "'Earth is the only planet in our solar system known to support life.'"
      ]
     },
     "execution_count": 44,
     "metadata": {},
     "output_type": "execute_result"
    }
   ],
   "source": [
    "result.generations[0][0].text"
   ]
  },
  {
   "cell_type": "markdown",
   "metadata": {},
   "source": [
    "presense_penaltyはgeminiでは無い\n",
    "\n",
    "https://api.python.langchain.com/en/latest/chat_models/langchain_google_genai.chat_models.ChatGoogleGenerativeAI.html#langchain_google_genai.chat_models.ChatGoogleGenerativeAI"
   ]
  },
  {
   "cell_type": "code",
   "execution_count": 46,
   "metadata": {},
   "outputs": [],
   "source": [
    "\n",
    "# result = chat.invoke([HumanMessage(content='Can you tell me a fact about Earth?')],\n",
    "#                  temperature=2,presence_penalty=1,max_tokens=100)\n",
    "\n",
    "chat = ChatGoogleGenerativeAI(model=\"gemini-1.5-flash\",temperature=1.0,max_output_tokens=100,)\n",
    "result = chat.generate([[HumanMessage(content='Can you tell me a fact about Earth?')]])\n",
    "                  "
   ]
  },
  {
   "cell_type": "code",
   "execution_count": 47,
   "metadata": {},
   "outputs": [
    {
     "data": {
      "text/plain": [
       "LLMResult(generations=[[ChatGeneration(text=\"The Earth's magnetic field is not constant, it flips its poles every few hundred thousand years. This means that the North and South Magnetic Poles switch places, a phenomenon called a geomagnetic reversal.  The last reversal happened around 780,000 years ago, and scientists believe we are overdue for another one. \\n\", generation_info={'finish_reason': 'STOP', 'safety_ratings': [{'category': 'HARM_CATEGORY_SEXUALLY_EXPLICIT', 'probability': 'NEGLIGIBLE', 'blocked': False}, {'category': 'HARM_CATEGORY_HATE_SPEECH', 'probability': 'NEGLIGIBLE', 'blocked': False}, {'category': 'HARM_CATEGORY_HARASSMENT', 'probability': 'NEGLIGIBLE', 'blocked': False}, {'category': 'HARM_CATEGORY_DANGEROUS_CONTENT', 'probability': 'NEGLIGIBLE', 'blocked': False}]}, message=AIMessage(content=\"The Earth's magnetic field is not constant, it flips its poles every few hundred thousand years. This means that the North and South Magnetic Poles switch places, a phenomenon called a geomagnetic reversal.  The last reversal happened around 780,000 years ago, and scientists believe we are overdue for another one. \\n\", response_metadata={'prompt_feedback': {'block_reason': 0, 'safety_ratings': []}, 'finish_reason': 'STOP', 'safety_ratings': [{'category': 'HARM_CATEGORY_SEXUALLY_EXPLICIT', 'probability': 'NEGLIGIBLE', 'blocked': False}, {'category': 'HARM_CATEGORY_HATE_SPEECH', 'probability': 'NEGLIGIBLE', 'blocked': False}, {'category': 'HARM_CATEGORY_HARASSMENT', 'probability': 'NEGLIGIBLE', 'blocked': False}, {'category': 'HARM_CATEGORY_DANGEROUS_CONTENT', 'probability': 'NEGLIGIBLE', 'blocked': False}]}, id='run-32e78fd8-442f-4295-ab43-8a931dd7144f-0', usage_metadata={'input_tokens': 10, 'output_tokens': 67, 'total_tokens': 77}))]], llm_output={}, run=[RunInfo(run_id=UUID('32e78fd8-442f-4295-ab43-8a931dd7144f'))])"
      ]
     },
     "execution_count": 47,
     "metadata": {},
     "output_type": "execute_result"
    }
   ],
   "source": [
    "result"
   ]
  },
  {
   "cell_type": "code",
   "execution_count": 62,
   "metadata": {},
   "outputs": [
    {
     "name": "stdout",
     "output_type": "stream",
     "text": [
      "<class 'list'> 1\n",
      "<class 'list'> 1\n",
      "<class 'langchain_core.outputs.chat_generation.ChatGeneration'>\n",
      "[ChatGeneration(text=\"The Earth's magnetic field is not constant, it flips its poles every few hundred thousand years. This means that the North and South Magnetic Poles switch places, a phenomenon called a geomagnetic reversal.  The last reversal happened around 780,000 years ago, and scientists believe we are overdue for another one. \\n\", generation_info={'finish_reason': 'STOP', 'safety_ratings': [{'category': 'HARM_CATEGORY_SEXUALLY_EXPLICIT', 'probability': 'NEGLIGIBLE', 'blocked': False}, {'category': 'HARM_CATEGORY_HATE_SPEECH', 'probability': 'NEGLIGIBLE', 'blocked': False}, {'category': 'HARM_CATEGORY_HARASSMENT', 'probability': 'NEGLIGIBLE', 'blocked': False}, {'category': 'HARM_CATEGORY_DANGEROUS_CONTENT', 'probability': 'NEGLIGIBLE', 'blocked': False}]}, message=AIMessage(content=\"The Earth's magnetic field is not constant, it flips its poles every few hundred thousand years. This means that the North and South Magnetic Poles switch places, a phenomenon called a geomagnetic reversal.  The last reversal happened around 780,000 years ago, and scientists believe we are overdue for another one. \\n\", response_metadata={'prompt_feedback': {'block_reason': 0, 'safety_ratings': []}, 'finish_reason': 'STOP', 'safety_ratings': [{'category': 'HARM_CATEGORY_SEXUALLY_EXPLICIT', 'probability': 'NEGLIGIBLE', 'blocked': False}, {'category': 'HARM_CATEGORY_HATE_SPEECH', 'probability': 'NEGLIGIBLE', 'blocked': False}, {'category': 'HARM_CATEGORY_HARASSMENT', 'probability': 'NEGLIGIBLE', 'blocked': False}, {'category': 'HARM_CATEGORY_DANGEROUS_CONTENT', 'probability': 'NEGLIGIBLE', 'blocked': False}]}, id='run-32e78fd8-442f-4295-ab43-8a931dd7144f-0', usage_metadata={'input_tokens': 10, 'output_tokens': 67, 'total_tokens': 77}))]\n"
     ]
    }
   ],
   "source": [
    "print( type(result.generations), len((result.generations)) )\n",
    "print( type(result.generations[0]), len(result.generations[0]) )\n",
    "print( type(result.generations[0][0]))\n",
    "print( result.generations[0] )"
   ]
  },
  {
   "cell_type": "markdown",
   "metadata": {},
   "source": [
    "[ChatGeneration(\n",
    "  \n",
    "  text=\"The Earth's magnetic field is constantly shifting and flipping, with the magnetic poles switching places every few hundred thousand years.  The last reversal happened about 780,000 years ago, and scientists believe we're overdue for another! \\n\", generation_info={'finish_reason': 'STOP', 'safety_ratings': [{'category': 'HARM_CATEGORY_SEXUALLY_EXPLICIT', 'probability': 'NEGLIGIBLE', 'blocked': False}, {'category': 'HARM_CATEGORY_HATE_SPEECH', 'probability': 'NEGLIGIBLE', 'blocked': False}, {'category': 'HARM_CATEGORY_HARASSMENT', 'probability': 'NEGLIGIBLE', 'blocked': False}, {'category': 'HARM_CATEGORY_DANGEROUS_CONTENT', 'probability': 'NEGLIGIBLE', 'blocked': False}]}, \n",
    "  \n",
    "  message=AIMessage(\n",
    "    content=\"The Earth's magnetic field is constantly shifting and flipping, with the magnetic poles switching places every few hundred thousand years.  The last reversal happened about 780,000 years ago, and scientists believe we're overdue for another! \\n\", response_\n",
    "    \n",
    "    metadata={'prompt_feedback': {'block_reason': 0, 'safety_ratings': []}, 'finish_reason': 'STOP', 'safety_ratings': [{'category': 'HARM_CATEGORY_SEXUALLY_EXPLICIT', 'probability': 'NEGLIGIBLE', 'blocked': False}, {'category': 'HARM_CATEGORY_HATE_SPEECH', 'probability': 'NEGLIGIBLE', 'blocked': False}, {'category': 'HARM_CATEGORY_HARASSMENT', 'probability': 'NEGLIGIBLE', 'blocked': False}, {'category': 'HARM_CATEGORY_DANGEROUS_CONTENT', 'probability': 'NEGLIGIBLE', 'blocked': False}]}, \n",
    "    \n",
    "    id='run-fb8b50b9-ac38-42ce-96ab-2276558b80d0-0', \n",
    "    usage_metadata={'input_tokens': 10, 'output_tokens': 51, 'total_tokens': 61}))]"
   ]
  },
  {
   "cell_type": "code",
   "execution_count": 76,
   "metadata": {},
   "outputs": [
    {
     "name": "stdout",
     "output_type": "stream",
     "text": [
      "<class 'langchain_core.messages.ai.AIMessage'> \n",
      "\n",
      "The Earth's magnetic field is not constant, it flips its poles every few hundred thousand years. This means that the North and South Magnetic Poles switch places, a phenomenon called a geomagnetic reversal.  The last reversal happened around 780,000 years ago, and scientists believe we are overdue for another one. \n",
      "\n",
      "The Earth's magnetic field is not constant, it flips its poles every few hundred thousand years. This means that the North and South Magnetic Poles switch places, a phenomenon called a geomagnetic reversal.  The last reversal happened around 780,000 years ago, and scientists believe we are overdue for another one. \n",
      " \n",
      "\n",
      "{'prompt_feedback': {'block_reason': 0, 'safety_ratings': []}, 'finish_reason': 'STOP', 'safety_ratings': [{'category': 'HARM_CATEGORY_SEXUALLY_EXPLICIT', 'probability': 'NEGLIGIBLE', 'blocked': False}, {'category': 'HARM_CATEGORY_HATE_SPEECH', 'probability': 'NEGLIGIBLE', 'blocked': False}, {'category': 'HARM_CATEGORY_HARASSMENT', 'probability': 'NEGLIGIBLE', 'blocked': False}, {'category': 'HARM_CATEGORY_DANGEROUS_CONTENT', 'probability': 'NEGLIGIBLE', 'blocked': False}]} \n",
      "\n",
      "run-32e78fd8-442f-4295-ab43-8a931dd7144f-0 \n",
      "\n",
      "{'input_tokens': 10, 'output_tokens': 67, 'total_tokens': 77} \n",
      "\n"
     ]
    }
   ],
   "source": [
    "print(type(result.generations[0][0].message),\"\\n\")\n",
    "print(result.generations[0][0].message.content,)\n",
    "print(result.generations[0][0].text,\"\\n\")\n",
    "print(result.generations[0][0].message.response_metadata,\"\\n\")\n",
    "print(result.generations[0][0].message.id,\"\\n\")\n",
    "print(result.generations[0][0].message.usage_metadata,\"\\n\")"
   ]
  },
  {
   "cell_type": "code",
   "execution_count": 77,
   "metadata": {},
   "outputs": [],
   "source": [
    "import langchain\n",
    "from langchain.cache import InMemoryCache\n",
    "langchain.llm_cache = InMemoryCache()"
   ]
  },
  {
   "cell_type": "code",
   "execution_count": 80,
   "metadata": {},
   "outputs": [
    {
     "data": {
      "text/plain": [
       "AIMessage(content='Mars has the largest volcano in the solar system, Olympus Mons, which is three times taller than Mount Everest! 🌋 \\n', response_metadata={'prompt_feedback': {'block_reason': 0, 'safety_ratings': []}, 'finish_reason': 'STOP', 'safety_ratings': [{'category': 'HARM_CATEGORY_SEXUALLY_EXPLICIT', 'probability': 'NEGLIGIBLE', 'blocked': False}, {'category': 'HARM_CATEGORY_HATE_SPEECH', 'probability': 'NEGLIGIBLE', 'blocked': False}, {'category': 'HARM_CATEGORY_HARASSMENT', 'probability': 'NEGLIGIBLE', 'blocked': False}, {'category': 'HARM_CATEGORY_DANGEROUS_CONTENT', 'probability': 'NEGLIGIBLE', 'blocked': False}]}, id='run-2801ffdf-5103-4f2e-bd2c-b730f0693186-0', usage_metadata={'input_tokens': 7, 'output_tokens': 24, 'total_tokens': 31})"
      ]
     },
     "execution_count": 80,
     "metadata": {},
     "output_type": "execute_result"
    }
   ],
   "source": [
    "chat.invoke(\"tell me a fact about Mars\")"
   ]
  },
  {
   "cell_type": "code",
   "execution_count": 79,
   "metadata": {},
   "outputs": [
    {
     "data": {
      "text/plain": [
       "AIMessage(content='Mars has the largest volcano in the solar system, Olympus Mons, which is three times taller than Mount Everest! 🌋 \\n', response_metadata={'prompt_feedback': {'block_reason': 0, 'safety_ratings': []}, 'finish_reason': 'STOP', 'safety_ratings': [{'category': 'HARM_CATEGORY_SEXUALLY_EXPLICIT', 'probability': 'NEGLIGIBLE', 'blocked': False}, {'category': 'HARM_CATEGORY_HATE_SPEECH', 'probability': 'NEGLIGIBLE', 'blocked': False}, {'category': 'HARM_CATEGORY_HARASSMENT', 'probability': 'NEGLIGIBLE', 'blocked': False}, {'category': 'HARM_CATEGORY_DANGEROUS_CONTENT', 'probability': 'NEGLIGIBLE', 'blocked': False}]}, id='run-2801ffdf-5103-4f2e-bd2c-b730f0693186-0', usage_metadata={'input_tokens': 7, 'output_tokens': 24, 'total_tokens': 31})"
      ]
     },
     "execution_count": 79,
     "metadata": {},
     "output_type": "execute_result"
    }
   ],
   "source": [
    "chat.invoke(\"tell me a fact about Mars\")"
   ]
  }
 ],
 "metadata": {
  "kernelspec": {
   "display_name": ".py312env",
   "language": "python",
   "name": "python3"
  },
  "language_info": {
   "codemirror_mode": {
    "name": "ipython",
    "version": 3
   },
   "file_extension": ".py",
   "mimetype": "text/x-python",
   "name": "python",
   "nbconvert_exporter": "python",
   "pygments_lexer": "ipython3",
   "version": "3.10.12"
  }
 },
 "nbformat": 4,
 "nbformat_minor": 2
}
