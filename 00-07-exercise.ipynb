{
 "cells": [
  {
   "cell_type": "markdown",
   "metadata": {},
   "source": [
    "exerciseにあたってのメモ\n",
    "\n",
    "インプットはtopicのみでsystem_templateで以下のようにするつもりだった。\n",
    "- system_template = \"you are a quiz producer who specializes in {topics}\"\n",
    "\n",
    "上のsystem_templateはコメントにして以下のものとした。\n",
    "- system_template = \"you are a quiz producer who specializes in a historical event\"\n",
    "\n",
    "ペアとなるhuman_templateは以下。\n",
    "- human_template = \"i want you make only one quiz which ask a specific date of a historical event in the following format.\\n{format_instruction}\"\n",
    "\n",
    "\n",
    "質問への回答はdatetimeフォーマットで、datatimeoutparseを使う\n",
    "\n",
    "ユーザーがタイプする年、月、日をdatetimeフォーマットに変換\n",
    "\n",
    "2つのdatetimeフォーマットのデータを比較して差を提示\n"
   ]
  },
  {
   "cell_type": "code",
   "execution_count": 2,
   "metadata": {},
   "outputs": [],
   "source": [
    "from langchain.prompts import PromptTemplate, SystemMessagePromptTemplate,ChatPromptTemplate, HumanMessagePromptTemplate\n",
    "from langchain_google_genai import ChatGoogleGenerativeAI\n",
    "chat = ChatGoogleGenerativeAI(model=\"gemini-1.5-flash\",convert_system_message_to_human=True,temperature=0)\n",
    "from langchain.output_parsers import PydanticOutputParser\n",
    "from langchain.output_parsers import DatetimeOutputParser\n",
    "from pydantic import BaseModel, Field\n",
    "from datetime import datetime"
   ]
  },
  {
   "cell_type": "code",
   "execution_count": 3,
   "metadata": {},
   "outputs": [],
   "source": [
    "class Quiz(BaseModel):\n",
    "  question: str = Field(description=\"Question about a specific date of an event\")\n",
    "  answer: datetime | None"
   ]
  },
  {
   "cell_type": "code",
   "execution_count": 4,
   "metadata": {},
   "outputs": [],
   "source": [
    "parser = PydanticOutputParser(pydantic_object=Quiz)"
   ]
  },
  {
   "cell_type": "code",
   "execution_count": 5,
   "metadata": {},
   "outputs": [],
   "source": [
    "# system_template = \"you are a quiz producer who specializes in {topics}\"\n",
    "system_template = \"you are a quiz producer who specializes in a historical event\"\n",
    "system_message_prompt = SystemMessagePromptTemplate.from_template(system_template)\n",
    "human_template = \"i want you make only one quiz which ask a specific date of a historical event in the following format.\\n{format_instruction}\"\n",
    "human_message_prompt = HumanMessagePromptTemplate.from_template(human_template)\n",
    "\n",
    "chat_prompt = ChatPromptTemplate.from_messages([system_message_prompt,human_message_prompt])\n",
    "\n",
    "request = chat_prompt.format_prompt(topics=\"world war 2\", format_instruction=parser.get_format_instructions()).to_messages()\n",
    "    \n"
   ]
  },
  {
   "cell_type": "code",
   "execution_count": null,
   "metadata": {},
   "outputs": [],
   "source": [
    "chat1 = ChatGoogleGenerativeAI(model=\"gemini-1.5-flash\",convert_system_message_to_human=True)\n",
    "result1 = chat1.invoke(request)"
   ]
  },
  {
   "cell_type": "code",
   "execution_count": 7,
   "metadata": {},
   "outputs": [
    {
     "name": "stdout",
     "output_type": "stream",
     "text": [
      "```json\n",
      "{\n",
      "  \"question\": \"On what date did the signing of the Declaration of Independence take place?\",\n",
      "  \"answer\": \"1776-07-04\"\n",
      "}\n",
      "```\n"
     ]
    }
   ],
   "source": [
    "print(result1.content)"
   ]
  },
  {
   "cell_type": "code",
   "execution_count": 8,
   "metadata": {},
   "outputs": [
    {
     "data": {
      "text/plain": [
       "__main__.Quiz"
      ]
     },
     "execution_count": 8,
     "metadata": {},
     "output_type": "execute_result"
    }
   ],
   "source": [
    "type(parser.parse(result1.content))"
   ]
  },
  {
   "cell_type": "code",
   "execution_count": 9,
   "metadata": {},
   "outputs": [
    {
     "name": "stdout",
     "output_type": "stream",
     "text": [
      "On what date did the signing of the Declaration of Independence take place?\n"
     ]
    }
   ],
   "source": [
    "print(parser.parse(result1.content).question)"
   ]
  },
  {
   "cell_type": "code",
   "execution_count": 10,
   "metadata": {},
   "outputs": [],
   "source": [
    "output_parser = DatetimeOutputParser()"
   ]
  },
  {
   "cell_type": "code",
   "execution_count": 47,
   "metadata": {},
   "outputs": [],
   "source": [
    "# template_text = \"on what date did {request} end?\\n{format_instructions}\"\n",
    "# human_prompt=HumanMessagePromptTemplate.from_template(template_text)"
   ]
  },
  {
   "cell_type": "code",
   "execution_count": 48,
   "metadata": {},
   "outputs": [],
   "source": [
    "# chat_prompt = ChatPromptTemplate.from_messages([human_prompt])"
   ]
  },
  {
   "cell_type": "code",
   "execution_count": 49,
   "metadata": {},
   "outputs": [],
   "source": [
    "# topics = \"world war 2\"\n",
    "# topics = \"japanese meiji period\"\n",
    "# request = chat_prompt.format_prompt(request=topics,\n",
    "#                    format_instructions=output_parser.get_format_instructions()\n",
    "#                    ).to_messages();"
   ]
  },
  {
   "cell_type": "code",
   "execution_count": null,
   "metadata": {},
   "outputs": [],
   "source": [
    "# result = chat.invoke(request);\n"
   ]
  },
  {
   "cell_type": "code",
   "execution_count": 51,
   "metadata": {},
   "outputs": [],
   "source": [
    "# result.content"
   ]
  },
  {
   "cell_type": "code",
   "execution_count": 52,
   "metadata": {},
   "outputs": [],
   "source": [
    "# ai_date = output_parser.parse(str(result.content))"
   ]
  },
  {
   "cell_type": "code",
   "execution_count": 55,
   "metadata": {},
   "outputs": [
    {
     "name": "stdout",
     "output_type": "stream",
     "text": [
      "on what date did world war 2 end?\n",
      "1980-08-08 00:00:00  and  <class 'datetime.datetime'>\n"
     ]
    }
   ],
   "source": [
    "print(\"on what date did world war 2 end?\")\n",
    "y = input('enter the year:')\n",
    "m = input('enter the month:')\n",
    "d = input('enter the date:')\n",
    "input_user_date = y+'/'+m+'/'+d\n",
    "user_date = datetime.strptime(input_user_date, '%Y/%m/%d')\n",
    "\n",
    "print(user_date, \" and \", type(user_date))\n"
   ]
  },
  {
   "cell_type": "code",
   "execution_count": 56,
   "metadata": {},
   "outputs": [
    {
     "name": "stdout",
     "output_type": "stream",
     "text": [
      "the difference between the dates:  -24846 days, 0:00:00\n"
     ]
    }
   ],
   "source": [
    "# print('the difference between the dates: ', ai_date-user_date)"
   ]
  },
  {
   "cell_type": "code",
   "execution_count": 57,
   "metadata": {},
   "outputs": [],
   "source": [
    "# from langchain.prompts import (\n",
    "#     ChatPromptTemplate,\n",
    "#     PromptTemplate,\n",
    "#     SystemMessagePromptTemplate,\n",
    "#     AIMessagePromptTemplate,\n",
    "#     HumanMessagePromptTemplate,\n",
    "# )\n",
    "# from datetime import datetime\n",
    "# # from langchain_openai import OpenAI\n",
    "# from langchain.output_parsers import DatetimeOutputParser\n",
    "# # from langchain.chat_models import ChatOpenAI"
   ]
  },
  {
   "cell_type": "code",
   "execution_count": 58,
   "metadata": {},
   "outputs": [],
   "source": [
    "# from langchain_google_genai import ChatGoogleGenerativeAI\n",
    "# chat = ChatGoogleGenerativeAI(model=\"gemini-1.5-flash\",temperature=0)"
   ]
  },
  {
   "cell_type": "code",
   "execution_count": 44,
   "metadata": {},
   "outputs": [],
   "source": [
    "class HistoryQuiz():\n",
    "    \n",
    "    def create_history_question(self,topic):\n",
    "        '''\n",
    "        This method should output a historical question about the topic that has a date as the correct answer.\n",
    "        For example:\n",
    "        \n",
    "            \"On what date did World War 2 end?\"\n",
    "            \n",
    "        '''\n",
    "        from langchain.prompts import PromptTemplate, SystemMessagePromptTemplate,ChatPromptTemplate, HumanMessagePromptTemplate\n",
    "        from langchain_google_genai import ChatGoogleGenerativeAI\n",
    "        chat = ChatGoogleGenerativeAI(model=\"gemini-1.5-flash\",convert_system_message_to_human=True,temperature=0)\n",
    "        from langchain.output_parsers import PydanticOutputParser\n",
    "        from langchain.output_parsers import DatetimeOutputParser\n",
    "        from pydantic import BaseModel, Field\n",
    "        from datetime import datetime\n",
    "       \n",
    "        class Quiz(BaseModel):\n",
    "            question: str = Field(description=\"Question about a specific date of an event\")\n",
    "            answer: datetime | None\n",
    "        \n",
    "        parser = PydanticOutputParser(pydantic_object=Quiz)\n",
    "        \n",
    "        # system_template = \"you are a quiz producer who specializes in {topics}\"\n",
    "        system_template = \"you are a quiz producer who specializes in a historical event\"\n",
    "        system_message_prompt = SystemMessagePromptTemplate.from_template(system_template)\n",
    "        human_template = \"i want you make only one quiz which ask a specific date of a historical event in the following format.\\n{format_instruction}\"\n",
    "        human_message_prompt = HumanMessagePromptTemplate.from_template(human_template)\n",
    "\n",
    "        chat_prompt = ChatPromptTemplate.from_messages([system_message_prompt,human_message_prompt])\n",
    "\n",
    "        request = chat_prompt.format_prompt(format_instruction=parser.get_format_instructions()).to_messages()\n",
    "            \n",
    "    \n",
    "        chat1 = ChatGoogleGenerativeAI(model=\"gemini-1.5-flash\",convert_system_message_to_human=True)\n",
    "        result1 = chat1.invoke(request) \n",
    "        print(\"create_history_question()\", result1)\n",
    "        question = parser.parse(result1.content).question\n",
    "        \n",
    "        return question\n",
    "    \n",
    "    def get_AI_answer(self,question):\n",
    "        '''\n",
    "        This method should get the answer to the historical question from the method above.\n",
    "        Note: This answer must be in datetime format! Use DateTimeOutputParser to confirm!\n",
    "        \n",
    "        September 2, 1945 --> datetime.datetime(1945, 9, 2, 0, 0)\n",
    "        '''\n",
    "         \n",
    "        class Answer(BaseModel):\n",
    "            answer: datetime | None\n",
    "        parser = PydanticOutputParser(pydantic_object=Answer)\n",
    "        \n",
    "        system_template = \"you are a quiz professional who specialized in a historical event\"\n",
    "        system_message_prompt = SystemMessagePromptTemplate.from_template(system_template)\n",
    "        human_template = \"i want you answer my question, {question}, whick ask a specific date of a historical event in the following format.\\n{format_instruction}\"\n",
    "        human_message_prompt = HumanMessagePromptTemplate.from_template(human_template)\n",
    "        \n",
    "        chat_prompt = ChatPromptTemplate.from_messages([system_message_prompt,human_message_prompt])\n",
    "\n",
    "        request = chat_prompt.format_prompt(question=question,format_instruction=parser.get_format_instructions()).to_messages()\n",
    "            \n",
    "    \n",
    "        chat1 = ChatGoogleGenerativeAI(model=\"gemini-1.5-flash\",convert_system_message_to_human=True)\n",
    "        result1 = chat1.invoke(request) \n",
    "        correct_datetime = parser.parse(result1.content).answer\n",
    "\n",
    "        return correct_datetime\n",
    "    \n",
    "    def get_user_answer(self,question):\n",
    "        '''\n",
    "        This method should grab a user answer and convert it to datetime. It should collect a Year, Month, and Day.\n",
    "        You can just use input() for this.\n",
    "        '''\n",
    "        print(question)\n",
    "        y = input('enter the year:')\n",
    "        m = input('enter the month:')\n",
    "        d = input('enter the date:')\n",
    "        input_user_date = y+'/'+m+'/'+d\n",
    "        user_datetime = datetime.strptime(input_user_date, '%Y/%m/%d')        \n",
    "\n",
    "        \n",
    "        return user_datetime\n",
    "        \n",
    "        \n",
    "    def check_user_answer(self,user_answer,ai_answer):\n",
    "        '''\n",
    "        Should check the user answer against the AI answer and return the difference between them\n",
    "        '''\n",
    "        # print or return the difference between the answers here!\n",
    "        print(\"The difference between the dates is: \", user_answer-ai_answer)\n",
    "        "
   ]
  },
  {
   "cell_type": "markdown",
   "metadata": {},
   "source": [
    "### Example Usage\n",
    "\n",
    "Feel free to expand or edit this project. To keep things simple we have every method return an object that will then feed into a new method!"
   ]
  },
  {
   "cell_type": "code",
   "execution_count": 45,
   "metadata": {},
   "outputs": [],
   "source": [
    "quiz_bot = HistoryQuiz()"
   ]
  },
  {
   "cell_type": "code",
   "execution_count": null,
   "metadata": {},
   "outputs": [],
   "source": [
    "# topic is not used in the function\n",
    "question = quiz_bot.create_history_question(topic='World War 2')\n"
   ]
  },
  {
   "cell_type": "code",
   "execution_count": 47,
   "metadata": {},
   "outputs": [
    {
     "data": {
      "text/plain": [
       "'On what date did the Berlin Wall fall?'"
      ]
     },
     "execution_count": 47,
     "metadata": {},
     "output_type": "execute_result"
    }
   ],
   "source": [
    "question"
   ]
  },
  {
   "cell_type": "code",
   "execution_count": null,
   "metadata": {},
   "outputs": [],
   "source": [
    "ai_answer = quiz_bot.get_AI_answer(question)"
   ]
  },
  {
   "cell_type": "code",
   "execution_count": 49,
   "metadata": {},
   "outputs": [
    {
     "data": {
      "text/plain": [
       "datetime.datetime(1989, 11, 9, 0, 0)"
      ]
     },
     "execution_count": 49,
     "metadata": {},
     "output_type": "execute_result"
    }
   ],
   "source": [
    "# Day After Pearl Harbor\n",
    "ai_answer"
   ]
  },
  {
   "cell_type": "code",
   "execution_count": 50,
   "metadata": {},
   "outputs": [
    {
     "name": "stdout",
     "output_type": "stream",
     "text": [
      "On what date did the Berlin Wall fall?\n"
     ]
    }
   ],
   "source": [
    "user_answer = quiz_bot.get_user_answer(question)"
   ]
  },
  {
   "cell_type": "code",
   "execution_count": null,
   "metadata": {},
   "outputs": [
    {
     "data": {
      "text/plain": [
       "datetime.datetime(1941, 12, 1, 0, 0)"
      ]
     },
     "metadata": {},
     "output_type": "display_data"
    }
   ],
   "source": [
    "user_answer"
   ]
  },
  {
   "cell_type": "code",
   "execution_count": null,
   "metadata": {},
   "outputs": [
    {
     "name": "stdout",
     "output_type": "stream",
     "text": [
      "The difference between the dates is: -7 days, 0:00:00\n"
     ]
    }
   ],
   "source": [
    "quiz_bot.check_user_answer(user_answer,ai_answer)"
   ]
  }
 ],
 "metadata": {
  "kernelspec": {
   "display_name": ".py310env",
   "language": "python",
   "name": "python3"
  },
  "language_info": {
   "codemirror_mode": {
    "name": "ipython",
    "version": 3
   },
   "file_extension": ".py",
   "mimetype": "text/x-python",
   "name": "python",
   "nbconvert_exporter": "python",
   "pygments_lexer": "ipython3",
   "version": "3.10.12"
  }
 },
 "nbformat": 4,
 "nbformat_minor": 2
}
