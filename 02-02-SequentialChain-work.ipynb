{
 "cells": [
  {
   "cell_type": "markdown",
   "id": "b95bacb6",
   "metadata": {},
   "source": [
    "1. 長文のemployee_reviewをサマリー\n",
    "2. 弱みを識別\n",
    "3. 弱みを克服するパーソナライズされたプランを作成\n",
    "の3つをSequentialChainで連続実行する"
   ]
  },
  {
   "cell_type": "code",
   "execution_count": 1,
   "id": "8a482e73-7d0c-407f-bd88-9f3c1c7eb559",
   "metadata": {},
   "outputs": [],
   "source": [
    "from langchain_google_genai import ChatGoogleGenerativeAI\n",
    "from langchain.prompts import ChatPromptTemplate\n",
    "from langchain.chains import SequentialChain, LLMChain"
   ]
  },
  {
   "cell_type": "code",
   "execution_count": 2,
   "id": "dda2db90-b54b-422e-baff-2bd96faeaaeb",
   "metadata": {},
   "outputs": [],
   "source": [
    "llm = ChatGoogleGenerativeAI(model=\"gemini-1.5-flash\") # type: ignore"
   ]
  },
  {
   "cell_type": "code",
   "execution_count": 3,
   "id": "cfce69cf",
   "metadata": {},
   "outputs": [],
   "source": [
    "from langchain.prompts import PromptTemplate"
   ]
  },
  {
   "cell_type": "code",
   "execution_count": 4,
   "id": "0e6013f5-40c9-401b-9d45-98b52de1bb3f",
   "metadata": {},
   "outputs": [],
   "source": [
    "employee_review = '''\n",
    "Employee Information:\n",
    "Name: Joe Schmo\n",
    "Position: Software Engineer\n",
    "Date of Review: July 14, 2023\n",
    "\n",
    "Strengths:\n",
    "Joe is a highly skilled software engineer with a deep understanding of programming languages, algorithms, and software development best practices. His technical expertise shines through in his ability to efficiently solve complex problems and deliver high-quality code.\n",
    "\n",
    "One of Joe's greatest strengths is his collaborative nature. He actively engages with cross-functional teams, contributing valuable insights and seeking input from others. His open-mindedness and willingness to learn from colleagues make him a true team player.\n",
    "\n",
    "Joe consistently demonstrates initiative and self-motivation. He takes the lead in seeking out new projects and challenges, and his proactive attitude has led to significant improvements in existing processes and systems. His dedication to self-improvement and growth is commendable.\n",
    "\n",
    "Another notable strength is Joe's adaptability. He has shown great flexibility in handling changing project requirements and learning new technologies. This adaptability allows him to seamlessly transition between different projects and tasks, making him a valuable asset to the team.\n",
    "\n",
    "Joe's problem-solving skills are exceptional. He approaches issues with a logical mindset and consistently finds effective solutions, often thinking outside the box. His ability to break down complex problems into manageable parts is key to his success in resolving issues efficiently.\n",
    "\n",
    "Weaknesses:\n",
    "While Joe possesses numerous strengths, there are a few areas where he could benefit from improvement. One such area is time management. Occasionally, Joe struggles with effectively managing his time, resulting in missed deadlines or the need for additional support to complete tasks on time. Developing better prioritization and time management techniques would greatly enhance his efficiency.\n",
    "\n",
    "Another area for improvement is Joe's written communication skills. While he communicates well verbally, there have been instances where his written documentation lacked clarity, leading to confusion among team members. Focusing on enhancing his written communication abilities will help him effectively convey ideas and instructions.\n",
    "\n",
    "Additionally, Joe tends to take on too many responsibilities and hesitates to delegate tasks to others. This can result in an excessive workload and potential burnout. Encouraging him to delegate tasks appropriately will not only alleviate his own workload but also foster a more balanced and productive team environment.\n",
    "'''"
   ]
  },
  {
   "cell_type": "code",
   "execution_count": 5,
   "id": "c2db5816-b29d-4567-b6aa-12e0c74e9331",
   "metadata": {},
   "outputs": [],
   "source": [
    "template1 = \"Give a summary of this employee's performance review:\\n{review}\"\n",
    "prompt1 = PromptTemplate.from_template(template1)\n",
    "# prompt1 = ChatPromptTemplate.from_template(template1)\n",
    "# chain_1 = LLMChain(llm=llm,\n",
    "#                      prompt=prompt1,\n",
    "#                      output_key=\"review_summary\")\n",
    "# chain_1 = prompt1 | llm\n",
    "                     "
   ]
  },
  {
   "cell_type": "code",
   "execution_count": 6,
   "id": "2a6c1d04-1fe0-4386-8b3a-4535cbfaff43",
   "metadata": {},
   "outputs": [],
   "source": [
    "template2 = \"Identify key employee weaknesses in this review summary:\\n{review_summary}\"\n",
    "prompt2 = PromptTemplate.from_template(template2)\n",
    "# prompt2 = ChatPromptTemplate.from_template(template2)\n",
    "# chain_2 = LLMChain(llm=llm,\n",
    "#                      prompt=prompt2,\n",
    "#                      output_key=\"weaknesses\")\n",
    "# chain_2 = prompt2 | llm"
   ]
  },
  {
   "cell_type": "code",
   "execution_count": 7,
   "id": "8031844b-586e-44b5-ac74-23b3767a9413",
   "metadata": {},
   "outputs": [],
   "source": [
    "template3 = \"Create a personalized plan to help address and fix these weaknesses:\\n{weaknesses}\"\n",
    "prompt3 = PromptTemplate.from_template(template3)\n",
    "# prompt3 = ChatPromptTemplate.from_template(template3)\n",
    "# chain_3 = LLMChain(llm=llm,\n",
    "#                      prompt=prompt3,\n",
    "#                      output_key=\"final_plan\")\n",
    "# chain_3 = prompt3 | llm"
   ]
  },
  {
   "cell_type": "code",
   "execution_count": 8,
   "id": "40609766",
   "metadata": {},
   "outputs": [],
   "source": [
    "# chain = (\n",
    "    \n",
    "#     chain_1\n",
    "#     | chain_2\n",
    "#     | chain_3\n",
    "# )"
   ]
  },
  {
   "cell_type": "code",
   "execution_count": 9,
   "id": "76fed2af",
   "metadata": {},
   "outputs": [],
   "source": [
    "# chain.output_schema.schema()"
   ]
  },
  {
   "cell_type": "code",
   "execution_count": 10,
   "id": "553550df",
   "metadata": {},
   "outputs": [],
   "source": [
    "# results = chain.invoke(employee_review)\n",
    "# results = llm.invoke({\"review\":employee_review})"
   ]
  },
  {
   "cell_type": "code",
   "execution_count": 11,
   "id": "8037803a",
   "metadata": {},
   "outputs": [],
   "source": [
    "# print(results)\n",
    "# print(type(results))\n",
    "# print(results.content)"
   ]
  },
  {
   "cell_type": "code",
   "execution_count": 12,
   "id": "5010adea",
   "metadata": {},
   "outputs": [],
   "source": [
    "from operator import itemgetter\n",
    "from langchain.schema.output_parser import StrOutputParser\n",
    "from langchain.schema.runnable import RunnablePassthrough"
   ]
  },
  {
   "cell_type": "code",
   "execution_count": 13,
   "id": "43e44fab",
   "metadata": {},
   "outputs": [],
   "source": [
    "\n",
    "# first_chain = prompt1 | llm | StrOutputParser()\n",
    "# second_chain = prompt2 | llm | StrOutputParser()\n",
    "# third_chain = prompt3 | llm | StrOutputParser()"
   ]
  },
  {
   "cell_type": "code",
   "execution_count": 14,
   "id": "7de929c2",
   "metadata": {},
   "outputs": [],
   "source": [
    "# complete_chain = ( {\n",
    "  \n",
    "# })"
   ]
  },
  {
   "cell_type": "code",
   "execution_count": 15,
   "id": "fe74aa18",
   "metadata": {},
   "outputs": [],
   "source": [
    "# complete_chain = ({\n",
    "#         \"review\": itemgetter(\"review\"),\n",
    "#         \"review_summary\": first_chain,#itemgetter(\"review_summary\"),\n",
    "#         \"weaknesses\" : second_chain#itemgetter(\"weaknesses\")\n",
    "#         # \"weaknesses\": itemgetter(\"weaknesses\")\n",
    "#         } \n",
    "#     | RunnablePassthrough.assign(mysecond=second_chain,mythird=third_chain)\n",
    "#     )\n",
    "\n",
    "# complete_chain.invoke({'review': employee_review})"
   ]
  },
  {
   "cell_type": "code",
   "execution_count": 16,
   "id": "95bf979f",
   "metadata": {},
   "outputs": [],
   "source": [
    "model_parser = llm | StrOutputParser() "
   ]
  },
  {
   "cell_type": "code",
   "execution_count": 17,
   "id": "ee97f1ca",
   "metadata": {},
   "outputs": [],
   "source": [
    "chaina = ({\"review\":RunnablePassthrough(passed1=RunnablePassthrough())}|prompt1|{\"review_summary\" : model_parser})\n"
   ]
  },
  {
   "cell_type": "code",
   "execution_count": 18,
   "id": "2aa85086",
   "metadata": {},
   "outputs": [],
   "source": [
    "# chainb = prompt2 | model_parser\n",
    "\n",
    "chainb = ({\"review_summary\":RunnablePassthrough()}|prompt2|{\"weaknesses\" : model_parser})\n",
    "\n",
    "\n"
   ]
  },
  {
   "cell_type": "code",
   "execution_count": 19,
   "id": "503ce2e4",
   "metadata": {},
   "outputs": [],
   "source": [
    "# chainc = prompt3 | model_parser\n",
    "chainc = prompt3 | model_parser\n",
    "chainc = ({\"weaknesses\":RunnablePassthrough()}|prompt3|model_parser)"
   ]
  },
  {
   "cell_type": "code",
   "execution_count": 20,
   "id": "9359aa3f",
   "metadata": {},
   "outputs": [],
   "source": [
    "# qg = (chaina | {\"weaknesses\":chainb} | prompt3)\n",
    "qg = (chaina | chainb | chainc)"
   ]
  },
  {
   "cell_type": "code",
   "execution_count": 21,
   "id": "f2514315",
   "metadata": {},
   "outputs": [],
   "source": [
    "result = qg.invoke(employee_review)"
   ]
  },
  {
   "cell_type": "code",
   "execution_count": 22,
   "id": "08e4a76d",
   "metadata": {},
   "outputs": [
    {
     "name": "stdout",
     "output_type": "stream",
     "text": [
      "<class 'str'>\n"
     ]
    }
   ],
   "source": [
    "print(type(result))"
   ]
  },
  {
   "cell_type": "code",
   "execution_count": 23,
   "id": "2adcd0fc",
   "metadata": {},
   "outputs": [
    {
     "name": "stdout",
     "output_type": "stream",
     "text": [
      "## Personalized Development Plan for Joe:\n",
      "\n",
      "**Overall Goal:** To enhance Joe's effectiveness by improving his time management, written communication, and delegation skills.\n",
      "\n",
      "**Timeline:** 6 months\n",
      "\n",
      "**Phase 1: Assessment & Awareness (1 month)**\n",
      "\n",
      "* **Self-Reflection:** Joe will reflect on his current strengths and weaknesses, specifically focusing on the areas identified in the review. He can use journaling, self-assessment tools, or even discuss his observations with a trusted colleague.\n",
      "* **Feedback Gathering:** Joe will actively seek feedback from his manager, peers, and even clients regarding his performance in the areas of time management, written communication, and delegation. This feedback will provide a more comprehensive understanding of his current impact.\n",
      "* **Goal Setting:** Based on the self-reflection and feedback, Joe will set specific, measurable, achievable, relevant, and time-bound (SMART) goals for each weakness area.\n",
      "\n",
      "**Phase 2: Skill Development (3 months)**\n",
      "\n",
      "**Time Management:**\n",
      "\n",
      "* **Prioritization Techniques:** Learn and implement techniques like Eisenhower Matrix, Pareto Principle, and time blocking to prioritize tasks effectively.\n",
      "* **Task Management Tools:** Explore and utilize tools like project management software (Asana, Trello), calendar apps, and productivity apps (Todoist, Focus@Will) to organize and track tasks efficiently.\n",
      "* **Time Tracking:** Regularly track time spent on different tasks to identify time-consuming activities and areas for improvement.\n",
      "\n",
      "**Written Communication:**\n",
      "\n",
      "* **Clarity & Conciseness:** Practice writing clear, concise, and easy-to-understand documents. Utilize active voice, avoid jargon, and focus on the key message.\n",
      "* **Structure & Formatting:** Learn how to structure documents logically, use headings, bullet points, and visuals effectively to improve readability.\n",
      "* **Proofreading & Editing:** Develop a routine for proofreading and editing written work for grammar, spelling, and clarity before sharing.\n",
      "\n",
      "**Delegation:**\n",
      "\n",
      "* **Identify Suitable Tasks:** Learn to identify tasks that can be effectively delegated based on the skills and capabilities of team members.\n",
      "* **Clear Communication:** Practice clear and concise communication when delegating tasks, providing clear expectations, timelines, and necessary resources.\n",
      "* **Trust & Empowerment:** Develop trust in team members and empower them to take ownership of assigned tasks, providing necessary guidance and support.\n",
      "\n",
      "**Phase 3: Implementation & Monitoring (2 months)**\n",
      "\n",
      "* **Practice & Application:** Continuously apply the learned skills and techniques in daily work activities.\n",
      "* **Progress Tracking:** Regularly monitor progress towards the set goals, making adjustments as needed.\n",
      "* **Feedback & Support:** Seek regular feedback from manager and colleagues to identify areas for further improvement and receive support.\n",
      "* **Celebrate Successes:** Acknowledge and celebrate milestones achieved during the development process.\n",
      "\n",
      "**Resources & Support:**\n",
      "\n",
      "* **Manager:** Joe's manager will provide guidance, support, and feedback throughout the development process.\n",
      "* **Internal Training:** Utilize available internal training programs on time management, communication, and delegation.\n",
      "* **External Resources:** Explore external resources like books, online courses, and workshops to further enhance skills.\n",
      "* **Mentorship:** Consider seeking mentorship from a senior colleague who excels in the targeted areas.\n",
      "\n",
      "**Note:** This plan is a starting point and can be customized based on Joe's specific needs and preferences. Regular communication and feedback throughout the process are crucial for effective development and progress.\n"
     ]
    }
   ],
   "source": [
    "print(result)"
   ]
  },
  {
   "cell_type": "code",
   "execution_count": null,
   "id": "d64b60fd",
   "metadata": {},
   "outputs": [],
   "source": []
  }
 ],
 "metadata": {
  "kernelspec": {
   "display_name": "Python 3 (ipykernel)",
   "language": "python",
   "name": "python3"
  },
  "language_info": {
   "codemirror_mode": {
    "name": "ipython",
    "version": 3
   },
   "file_extension": ".py",
   "mimetype": "text/x-python",
   "name": "python",
   "nbconvert_exporter": "python",
   "pygments_lexer": "ipython3",
   "version": "3.10.12"
  }
 },
 "nbformat": 4,
 "nbformat_minor": 5
}
