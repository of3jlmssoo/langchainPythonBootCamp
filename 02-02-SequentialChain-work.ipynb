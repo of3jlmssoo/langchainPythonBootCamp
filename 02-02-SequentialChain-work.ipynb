{
 "cells": [
  {
   "cell_type": "markdown",
   "id": "b95bacb6",
   "metadata": {},
   "source": [
    "1. 長文のemployee_reviewをサマリー\n",
    "2. 弱みを識別\n",
    "3. 弱みを克服するパーソナライズされたプランを作成\n",
    "の3つをSequentialChainで連続実行する"
   ]
  },
  {
   "cell_type": "code",
   "execution_count": 14,
   "id": "8a482e73-7d0c-407f-bd88-9f3c1c7eb559",
   "metadata": {},
   "outputs": [],
   "source": [
    "from langchain_google_genai import ChatGoogleGenerativeAI\n",
    "from langchain.prompts import ChatPromptTemplate\n",
    "from langchain.chains import SequentialChain, LLMChain"
   ]
  },
  {
   "cell_type": "code",
   "execution_count": 15,
   "id": "dda2db90-b54b-422e-baff-2bd96faeaaeb",
   "metadata": {},
   "outputs": [],
   "source": [
    "llm = ChatGoogleGenerativeAI(model=\"gemini-1.5-flash\") # type: ignore"
   ]
  },
  {
   "cell_type": "code",
   "execution_count": 16,
   "id": "cfce69cf",
   "metadata": {},
   "outputs": [],
   "source": [
    "from langchain.prompts import PromptTemplate"
   ]
  },
  {
   "cell_type": "code",
   "execution_count": 17,
   "id": "0e6013f5-40c9-401b-9d45-98b52de1bb3f",
   "metadata": {},
   "outputs": [],
   "source": [
    "employee_review = '''\n",
    "Employee Information:\n",
    "Name: Joe Schmo\n",
    "Position: Software Engineer\n",
    "Date of Review: July 14, 2023\n",
    "\n",
    "Strengths:\n",
    "Joe is a highly skilled software engineer with a deep understanding of programming languages, algorithms, and software development best practices. His technical expertise shines through in his ability to efficiently solve complex problems and deliver high-quality code.\n",
    "\n",
    "One of Joe's greatest strengths is his collaborative nature. He actively engages with cross-functional teams, contributing valuable insights and seeking input from others. His open-mindedness and willingness to learn from colleagues make him a true team player.\n",
    "\n",
    "Joe consistently demonstrates initiative and self-motivation. He takes the lead in seeking out new projects and challenges, and his proactive attitude has led to significant improvements in existing processes and systems. His dedication to self-improvement and growth is commendable.\n",
    "\n",
    "Another notable strength is Joe's adaptability. He has shown great flexibility in handling changing project requirements and learning new technologies. This adaptability allows him to seamlessly transition between different projects and tasks, making him a valuable asset to the team.\n",
    "\n",
    "Joe's problem-solving skills are exceptional. He approaches issues with a logical mindset and consistently finds effective solutions, often thinking outside the box. His ability to break down complex problems into manageable parts is key to his success in resolving issues efficiently.\n",
    "\n",
    "Weaknesses:\n",
    "While Joe possesses numerous strengths, there are a few areas where he could benefit from improvement. One such area is time management. Occasionally, Joe struggles with effectively managing his time, resulting in missed deadlines or the need for additional support to complete tasks on time. Developing better prioritization and time management techniques would greatly enhance his efficiency.\n",
    "\n",
    "Another area for improvement is Joe's written communication skills. While he communicates well verbally, there have been instances where his written documentation lacked clarity, leading to confusion among team members. Focusing on enhancing his written communication abilities will help him effectively convey ideas and instructions.\n",
    "\n",
    "Additionally, Joe tends to take on too many responsibilities and hesitates to delegate tasks to others. This can result in an excessive workload and potential burnout. Encouraging him to delegate tasks appropriately will not only alleviate his own workload but also foster a more balanced and productive team environment.\n",
    "'''"
   ]
  },
  {
   "cell_type": "code",
   "execution_count": 18,
   "id": "c2db5816-b29d-4567-b6aa-12e0c74e9331",
   "metadata": {},
   "outputs": [],
   "source": [
    "template1 = \"Give a summary of this employee's performance review:\\n{review}\"\n",
    "prompt1 = PromptTemplate.from_template(template1)\n",
    "# prompt1 = ChatPromptTemplate.from_template(template1)\n",
    "# chain_1 = LLMChain(llm=llm,\n",
    "#                      prompt=prompt1,\n",
    "#                      output_key=\"review_summary\")\n",
    "# chain_1 = prompt1 | llm\n",
    "                     "
   ]
  },
  {
   "cell_type": "code",
   "execution_count": 19,
   "id": "2a6c1d04-1fe0-4386-8b3a-4535cbfaff43",
   "metadata": {},
   "outputs": [],
   "source": [
    "template2 = \"Identify key employee weaknesses in this review summary:\\n{review_summary}\"\n",
    "prompt2 = PromptTemplate.from_template(template2)\n",
    "# prompt2 = ChatPromptTemplate.from_template(template2)\n",
    "# chain_2 = LLMChain(llm=llm,\n",
    "#                      prompt=prompt2,\n",
    "#                      output_key=\"weaknesses\")\n",
    "# chain_2 = prompt2 | llm"
   ]
  },
  {
   "cell_type": "code",
   "execution_count": 20,
   "id": "8031844b-586e-44b5-ac74-23b3767a9413",
   "metadata": {},
   "outputs": [],
   "source": [
    "template3 = \"Create a personalized plan to help address and fix these weaknesses:\\n{weaknesses}\"\n",
    "prompt3 = PromptTemplate.from_template(template3)\n",
    "# prompt3 = ChatPromptTemplate.from_template(template3)\n",
    "# chain_3 = LLMChain(llm=llm,\n",
    "#                      prompt=prompt3,\n",
    "#                      output_key=\"final_plan\")\n",
    "# chain_3 = prompt3 | llm"
   ]
  },
  {
   "cell_type": "code",
   "execution_count": 8,
   "id": "40609766",
   "metadata": {},
   "outputs": [],
   "source": [
    "# chain = (\n",
    "    \n",
    "#     chain_1\n",
    "#     | chain_2\n",
    "#     | chain_3\n",
    "# )"
   ]
  },
  {
   "cell_type": "code",
   "execution_count": 9,
   "id": "76fed2af",
   "metadata": {},
   "outputs": [],
   "source": [
    "# chain.output_schema.schema()"
   ]
  },
  {
   "cell_type": "code",
   "execution_count": 47,
   "id": "553550df",
   "metadata": {},
   "outputs": [],
   "source": [
    "# results = chain.invoke(employee_review)\n",
    "results = chain.invoke({\"review\":employee_review})"
   ]
  },
  {
   "cell_type": "code",
   "execution_count": 48,
   "id": "8037803a",
   "metadata": {},
   "outputs": [
    {
     "name": "stdout",
     "output_type": "stream",
     "text": [
      "content=\"## Personalized Plan for Joe:\\n\\n**1. Time Management:**\\n\\n* **Implement a time-tracking system:** Use a tool like Toggl or Asana to track time spent on tasks and identify time-consuming areas.\\n* **Prioritize tasks:** Use a system like Eisenhower Matrix to prioritize tasks based on urgency and importance.\\n* **Break down projects:** Divide large projects into smaller, manageable tasks with clear deadlines.\\n* **Regular check-ins:** Schedule weekly check-ins with his manager to discuss progress and identify any roadblocks.\\n\\n**2. Written Communication:**\\n\\n* **Seek feedback:** Ask colleagues to review his written work and provide constructive feedback.\\n* **Utilize online resources:** Explore online resources like Grammarly or Hemingway Editor to improve clarity and conciseness.\\n* **Attend workshops:** Consider attending workshops on effective business writing and communication.\\n* **Practice regularly:**  Write regularly, whether it's emails, reports, or even short summaries of articles.\\n\\n**3. Delegation:**\\n\\n* **Identify strengths:** Understand the strengths of his team members and delegate tasks accordingly.\\n* **Clear instructions:** Provide clear instructions and expectations when delegating tasks.\\n* **Provide support:** Offer guidance and support to team members during the delegation process.\\n* **Trust and empower:**  Trust his team members to complete tasks effectively and empower them to take ownership.\\n\\n**Note:** This plan is a starting point and can be adapted based on Joe's individual needs and preferences. It's important to have open and honest conversations with Joe to understand his specific challenges and work together to create a tailored development plan. \\n\" response_metadata={'prompt_feedback': {'block_reason': 0, 'safety_ratings': []}, 'finish_reason': 'STOP', 'safety_ratings': [{'category': 'HARM_CATEGORY_SEXUALLY_EXPLICIT', 'probability': 'NEGLIGIBLE', 'blocked': False}, {'category': 'HARM_CATEGORY_HATE_SPEECH', 'probability': 'NEGLIGIBLE', 'blocked': False}, {'category': 'HARM_CATEGORY_HARASSMENT', 'probability': 'NEGLIGIBLE', 'blocked': False}, {'category': 'HARM_CATEGORY_DANGEROUS_CONTENT', 'probability': 'NEGLIGIBLE', 'blocked': False}]} id='run-25bf8349-73ed-41d5-a688-f827331f50f5-0' usage_metadata={'input_tokens': 319, 'output_tokens': 334, 'total_tokens': 653}\n",
      "<class 'langchain_core.messages.ai.AIMessage'>\n",
      "## Personalized Plan for Joe:\n",
      "\n",
      "**1. Time Management:**\n",
      "\n",
      "* **Implement a time-tracking system:** Use a tool like Toggl or Asana to track time spent on tasks and identify time-consuming areas.\n",
      "* **Prioritize tasks:** Use a system like Eisenhower Matrix to prioritize tasks based on urgency and importance.\n",
      "* **Break down projects:** Divide large projects into smaller, manageable tasks with clear deadlines.\n",
      "* **Regular check-ins:** Schedule weekly check-ins with his manager to discuss progress and identify any roadblocks.\n",
      "\n",
      "**2. Written Communication:**\n",
      "\n",
      "* **Seek feedback:** Ask colleagues to review his written work and provide constructive feedback.\n",
      "* **Utilize online resources:** Explore online resources like Grammarly or Hemingway Editor to improve clarity and conciseness.\n",
      "* **Attend workshops:** Consider attending workshops on effective business writing and communication.\n",
      "* **Practice regularly:**  Write regularly, whether it's emails, reports, or even short summaries of articles.\n",
      "\n",
      "**3. Delegation:**\n",
      "\n",
      "* **Identify strengths:** Understand the strengths of his team members and delegate tasks accordingly.\n",
      "* **Clear instructions:** Provide clear instructions and expectations when delegating tasks.\n",
      "* **Provide support:** Offer guidance and support to team members during the delegation process.\n",
      "* **Trust and empower:**  Trust his team members to complete tasks effectively and empower them to take ownership.\n",
      "\n",
      "**Note:** This plan is a starting point and can be adapted based on Joe's individual needs and preferences. It's important to have open and honest conversations with Joe to understand his specific challenges and work together to create a tailored development plan. \n",
      "\n"
     ]
    }
   ],
   "source": [
    "print(results)\n",
    "print(type(results))\n",
    "print(results.content)"
   ]
  },
  {
   "cell_type": "code",
   "execution_count": 21,
   "id": "5010adea",
   "metadata": {},
   "outputs": [],
   "source": [
    "from operator import itemgetter\n",
    "from langchain.schema.output_parser import StrOutputParser\n",
    "from langchain.schema.runnable import RunnablePassthrough"
   ]
  },
  {
   "cell_type": "code",
   "execution_count": 12,
   "id": "43e44fab",
   "metadata": {},
   "outputs": [],
   "source": [
    "\n",
    "first_chain = prompt1 | llm | StrOutputParser()\n",
    "second_chain = prompt2 | llm | StrOutputParser()\n",
    "third_chain = prompt3 | llm | StrOutputParser()"
   ]
  },
  {
   "cell_type": "code",
   "execution_count": null,
   "id": "7de929c2",
   "metadata": {},
   "outputs": [],
   "source": [
    "complete_chain = ( {\n",
    "  \n",
    "})"
   ]
  },
  {
   "cell_type": "code",
   "execution_count": 13,
   "id": "fe74aa18",
   "metadata": {},
   "outputs": [
    {
     "ename": "KeyError",
     "evalue": "\"Input to PromptTemplate is missing variables {'review_summary'}.  Expected: ['review_summary'] Received: ['review']\"",
     "output_type": "error",
     "traceback": [
      "\u001b[0;31m---------------------------------------------------------------------------\u001b[0m",
      "\u001b[0;31mKeyError\u001b[0m                                  Traceback (most recent call last)",
      "Cell \u001b[0;32mIn[13], line 10\u001b[0m\n\u001b[1;32m      1\u001b[0m complete_chain \u001b[38;5;241m=\u001b[39m ({\n\u001b[1;32m      2\u001b[0m         \u001b[38;5;124m\"\u001b[39m\u001b[38;5;124mreview\u001b[39m\u001b[38;5;124m\"\u001b[39m: itemgetter(\u001b[38;5;124m\"\u001b[39m\u001b[38;5;124mreview\u001b[39m\u001b[38;5;124m\"\u001b[39m),\n\u001b[1;32m      3\u001b[0m         \u001b[38;5;124m\"\u001b[39m\u001b[38;5;124mreview_summary\u001b[39m\u001b[38;5;124m\"\u001b[39m: first_chain,\u001b[38;5;66;03m#itemgetter(\"review_summary\"),\u001b[39;00m\n\u001b[0;32m   (...)\u001b[0m\n\u001b[1;32m      7\u001b[0m     \u001b[38;5;241m|\u001b[39m RunnablePassthrough\u001b[38;5;241m.\u001b[39massign(mysecond\u001b[38;5;241m=\u001b[39msecond_chain,mythird\u001b[38;5;241m=\u001b[39mthird_chain)\n\u001b[1;32m      8\u001b[0m     )\n\u001b[0;32m---> 10\u001b[0m \u001b[43mcomplete_chain\u001b[49m\u001b[38;5;241;43m.\u001b[39;49m\u001b[43minvoke\u001b[49m\u001b[43m(\u001b[49m\u001b[43m{\u001b[49m\u001b[38;5;124;43m'\u001b[39;49m\u001b[38;5;124;43mreview\u001b[39;49m\u001b[38;5;124;43m'\u001b[39;49m\u001b[43m:\u001b[49m\u001b[43m \u001b[49m\u001b[43memployee_review\u001b[49m\u001b[43m}\u001b[49m\u001b[43m)\u001b[49m\n",
      "File \u001b[0;32m~/projects/.py310env/lib/python3.10/site-packages/langchain_core/runnables/base.py:2503\u001b[0m, in \u001b[0;36mRunnableSequence.invoke\u001b[0;34m(self, input, config, **kwargs)\u001b[0m\n\u001b[1;32m   2499\u001b[0m config \u001b[38;5;241m=\u001b[39m patch_config(\n\u001b[1;32m   2500\u001b[0m     config, callbacks\u001b[38;5;241m=\u001b[39mrun_manager\u001b[38;5;241m.\u001b[39mget_child(\u001b[38;5;124mf\u001b[39m\u001b[38;5;124m\"\u001b[39m\u001b[38;5;124mseq:step:\u001b[39m\u001b[38;5;132;01m{\u001b[39;00mi\u001b[38;5;241m+\u001b[39m\u001b[38;5;241m1\u001b[39m\u001b[38;5;132;01m}\u001b[39;00m\u001b[38;5;124m\"\u001b[39m)\n\u001b[1;32m   2501\u001b[0m )\n\u001b[1;32m   2502\u001b[0m \u001b[38;5;28;01mif\u001b[39;00m i \u001b[38;5;241m==\u001b[39m \u001b[38;5;241m0\u001b[39m:\n\u001b[0;32m-> 2503\u001b[0m     \u001b[38;5;28minput\u001b[39m \u001b[38;5;241m=\u001b[39m \u001b[43mstep\u001b[49m\u001b[38;5;241;43m.\u001b[39;49m\u001b[43minvoke\u001b[49m\u001b[43m(\u001b[49m\u001b[38;5;28;43minput\u001b[39;49m\u001b[43m,\u001b[49m\u001b[43m \u001b[49m\u001b[43mconfig\u001b[49m\u001b[43m,\u001b[49m\u001b[43m \u001b[49m\u001b[38;5;241;43m*\u001b[39;49m\u001b[38;5;241;43m*\u001b[39;49m\u001b[43mkwargs\u001b[49m\u001b[43m)\u001b[49m\n\u001b[1;32m   2504\u001b[0m \u001b[38;5;28;01melse\u001b[39;00m:\n\u001b[1;32m   2505\u001b[0m     \u001b[38;5;28minput\u001b[39m \u001b[38;5;241m=\u001b[39m step\u001b[38;5;241m.\u001b[39minvoke(\u001b[38;5;28minput\u001b[39m, config)\n",
      "File \u001b[0;32m~/projects/.py310env/lib/python3.10/site-packages/langchain_core/runnables/base.py:3150\u001b[0m, in \u001b[0;36mRunnableParallel.invoke\u001b[0;34m(self, input, config)\u001b[0m\n\u001b[1;32m   3137\u001b[0m     \u001b[38;5;28;01mwith\u001b[39;00m get_executor_for_config(config) \u001b[38;5;28;01mas\u001b[39;00m executor:\n\u001b[1;32m   3138\u001b[0m         futures \u001b[38;5;241m=\u001b[39m [\n\u001b[1;32m   3139\u001b[0m             executor\u001b[38;5;241m.\u001b[39msubmit(\n\u001b[1;32m   3140\u001b[0m                 step\u001b[38;5;241m.\u001b[39minvoke,\n\u001b[0;32m   (...)\u001b[0m\n\u001b[1;32m   3148\u001b[0m             \u001b[38;5;28;01mfor\u001b[39;00m key, step \u001b[38;5;129;01min\u001b[39;00m steps\u001b[38;5;241m.\u001b[39mitems()\n\u001b[1;32m   3149\u001b[0m         ]\n\u001b[0;32m-> 3150\u001b[0m         output \u001b[38;5;241m=\u001b[39m {key: future\u001b[38;5;241m.\u001b[39mresult() \u001b[38;5;28;01mfor\u001b[39;00m key, future \u001b[38;5;129;01min\u001b[39;00m \u001b[38;5;28mzip\u001b[39m(steps, futures)}\n\u001b[1;32m   3151\u001b[0m \u001b[38;5;66;03m# finish the root run\u001b[39;00m\n\u001b[1;32m   3152\u001b[0m \u001b[38;5;28;01mexcept\u001b[39;00m \u001b[38;5;167;01mBaseException\u001b[39;00m \u001b[38;5;28;01mas\u001b[39;00m e:\n",
      "File \u001b[0;32m~/projects/.py310env/lib/python3.10/site-packages/langchain_core/runnables/base.py:3150\u001b[0m, in \u001b[0;36m<dictcomp>\u001b[0;34m(.0)\u001b[0m\n\u001b[1;32m   3137\u001b[0m     \u001b[38;5;28;01mwith\u001b[39;00m get_executor_for_config(config) \u001b[38;5;28;01mas\u001b[39;00m executor:\n\u001b[1;32m   3138\u001b[0m         futures \u001b[38;5;241m=\u001b[39m [\n\u001b[1;32m   3139\u001b[0m             executor\u001b[38;5;241m.\u001b[39msubmit(\n\u001b[1;32m   3140\u001b[0m                 step\u001b[38;5;241m.\u001b[39minvoke,\n\u001b[0;32m   (...)\u001b[0m\n\u001b[1;32m   3148\u001b[0m             \u001b[38;5;28;01mfor\u001b[39;00m key, step \u001b[38;5;129;01min\u001b[39;00m steps\u001b[38;5;241m.\u001b[39mitems()\n\u001b[1;32m   3149\u001b[0m         ]\n\u001b[0;32m-> 3150\u001b[0m         output \u001b[38;5;241m=\u001b[39m {key: \u001b[43mfuture\u001b[49m\u001b[38;5;241;43m.\u001b[39;49m\u001b[43mresult\u001b[49m\u001b[43m(\u001b[49m\u001b[43m)\u001b[49m \u001b[38;5;28;01mfor\u001b[39;00m key, future \u001b[38;5;129;01min\u001b[39;00m \u001b[38;5;28mzip\u001b[39m(steps, futures)}\n\u001b[1;32m   3151\u001b[0m \u001b[38;5;66;03m# finish the root run\u001b[39;00m\n\u001b[1;32m   3152\u001b[0m \u001b[38;5;28;01mexcept\u001b[39;00m \u001b[38;5;167;01mBaseException\u001b[39;00m \u001b[38;5;28;01mas\u001b[39;00m e:\n",
      "File \u001b[0;32m/usr/lib/python3.10/concurrent/futures/_base.py:451\u001b[0m, in \u001b[0;36mFuture.result\u001b[0;34m(self, timeout)\u001b[0m\n\u001b[1;32m    449\u001b[0m     \u001b[38;5;28;01mraise\u001b[39;00m CancelledError()\n\u001b[1;32m    450\u001b[0m \u001b[38;5;28;01melif\u001b[39;00m \u001b[38;5;28mself\u001b[39m\u001b[38;5;241m.\u001b[39m_state \u001b[38;5;241m==\u001b[39m FINISHED:\n\u001b[0;32m--> 451\u001b[0m     \u001b[38;5;28;01mreturn\u001b[39;00m \u001b[38;5;28;43mself\u001b[39;49m\u001b[38;5;241;43m.\u001b[39;49m\u001b[43m__get_result\u001b[49m\u001b[43m(\u001b[49m\u001b[43m)\u001b[49m\n\u001b[1;32m    453\u001b[0m \u001b[38;5;28mself\u001b[39m\u001b[38;5;241m.\u001b[39m_condition\u001b[38;5;241m.\u001b[39mwait(timeout)\n\u001b[1;32m    455\u001b[0m \u001b[38;5;28;01mif\u001b[39;00m \u001b[38;5;28mself\u001b[39m\u001b[38;5;241m.\u001b[39m_state \u001b[38;5;129;01min\u001b[39;00m [CANCELLED, CANCELLED_AND_NOTIFIED]:\n",
      "File \u001b[0;32m/usr/lib/python3.10/concurrent/futures/_base.py:403\u001b[0m, in \u001b[0;36mFuture.__get_result\u001b[0;34m(self)\u001b[0m\n\u001b[1;32m    401\u001b[0m \u001b[38;5;28;01mif\u001b[39;00m \u001b[38;5;28mself\u001b[39m\u001b[38;5;241m.\u001b[39m_exception:\n\u001b[1;32m    402\u001b[0m     \u001b[38;5;28;01mtry\u001b[39;00m:\n\u001b[0;32m--> 403\u001b[0m         \u001b[38;5;28;01mraise\u001b[39;00m \u001b[38;5;28mself\u001b[39m\u001b[38;5;241m.\u001b[39m_exception\n\u001b[1;32m    404\u001b[0m     \u001b[38;5;28;01mfinally\u001b[39;00m:\n\u001b[1;32m    405\u001b[0m         \u001b[38;5;66;03m# Break a reference cycle with the exception in self._exception\u001b[39;00m\n\u001b[1;32m    406\u001b[0m         \u001b[38;5;28mself\u001b[39m \u001b[38;5;241m=\u001b[39m \u001b[38;5;28;01mNone\u001b[39;00m\n",
      "File \u001b[0;32m/usr/lib/python3.10/concurrent/futures/thread.py:58\u001b[0m, in \u001b[0;36m_WorkItem.run\u001b[0;34m(self)\u001b[0m\n\u001b[1;32m     55\u001b[0m     \u001b[38;5;28;01mreturn\u001b[39;00m\n\u001b[1;32m     57\u001b[0m \u001b[38;5;28;01mtry\u001b[39;00m:\n\u001b[0;32m---> 58\u001b[0m     result \u001b[38;5;241m=\u001b[39m \u001b[38;5;28;43mself\u001b[39;49m\u001b[38;5;241;43m.\u001b[39;49m\u001b[43mfn\u001b[49m\u001b[43m(\u001b[49m\u001b[38;5;241;43m*\u001b[39;49m\u001b[38;5;28;43mself\u001b[39;49m\u001b[38;5;241;43m.\u001b[39;49m\u001b[43margs\u001b[49m\u001b[43m,\u001b[49m\u001b[43m \u001b[49m\u001b[38;5;241;43m*\u001b[39;49m\u001b[38;5;241;43m*\u001b[39;49m\u001b[38;5;28;43mself\u001b[39;49m\u001b[38;5;241;43m.\u001b[39;49m\u001b[43mkwargs\u001b[49m\u001b[43m)\u001b[49m\n\u001b[1;32m     59\u001b[0m \u001b[38;5;28;01mexcept\u001b[39;00m \u001b[38;5;167;01mBaseException\u001b[39;00m \u001b[38;5;28;01mas\u001b[39;00m exc:\n\u001b[1;32m     60\u001b[0m     \u001b[38;5;28mself\u001b[39m\u001b[38;5;241m.\u001b[39mfuture\u001b[38;5;241m.\u001b[39mset_exception(exc)\n",
      "File \u001b[0;32m~/projects/.py310env/lib/python3.10/site-packages/langchain_core/runnables/base.py:2503\u001b[0m, in \u001b[0;36mRunnableSequence.invoke\u001b[0;34m(self, input, config, **kwargs)\u001b[0m\n\u001b[1;32m   2499\u001b[0m config \u001b[38;5;241m=\u001b[39m patch_config(\n\u001b[1;32m   2500\u001b[0m     config, callbacks\u001b[38;5;241m=\u001b[39mrun_manager\u001b[38;5;241m.\u001b[39mget_child(\u001b[38;5;124mf\u001b[39m\u001b[38;5;124m\"\u001b[39m\u001b[38;5;124mseq:step:\u001b[39m\u001b[38;5;132;01m{\u001b[39;00mi\u001b[38;5;241m+\u001b[39m\u001b[38;5;241m1\u001b[39m\u001b[38;5;132;01m}\u001b[39;00m\u001b[38;5;124m\"\u001b[39m)\n\u001b[1;32m   2501\u001b[0m )\n\u001b[1;32m   2502\u001b[0m \u001b[38;5;28;01mif\u001b[39;00m i \u001b[38;5;241m==\u001b[39m \u001b[38;5;241m0\u001b[39m:\n\u001b[0;32m-> 2503\u001b[0m     \u001b[38;5;28minput\u001b[39m \u001b[38;5;241m=\u001b[39m \u001b[43mstep\u001b[49m\u001b[38;5;241;43m.\u001b[39;49m\u001b[43minvoke\u001b[49m\u001b[43m(\u001b[49m\u001b[38;5;28;43minput\u001b[39;49m\u001b[43m,\u001b[49m\u001b[43m \u001b[49m\u001b[43mconfig\u001b[49m\u001b[43m,\u001b[49m\u001b[43m \u001b[49m\u001b[38;5;241;43m*\u001b[39;49m\u001b[38;5;241;43m*\u001b[39;49m\u001b[43mkwargs\u001b[49m\u001b[43m)\u001b[49m\n\u001b[1;32m   2504\u001b[0m \u001b[38;5;28;01melse\u001b[39;00m:\n\u001b[1;32m   2505\u001b[0m     \u001b[38;5;28minput\u001b[39m \u001b[38;5;241m=\u001b[39m step\u001b[38;5;241m.\u001b[39minvoke(\u001b[38;5;28minput\u001b[39m, config)\n",
      "File \u001b[0;32m~/projects/.py310env/lib/python3.10/site-packages/langchain_core/prompts/base.py:151\u001b[0m, in \u001b[0;36mBasePromptTemplate.invoke\u001b[0;34m(self, input, config)\u001b[0m\n\u001b[1;32m    149\u001b[0m \u001b[38;5;28;01mif\u001b[39;00m \u001b[38;5;28mself\u001b[39m\u001b[38;5;241m.\u001b[39mtags:\n\u001b[1;32m    150\u001b[0m     config[\u001b[38;5;124m\"\u001b[39m\u001b[38;5;124mtags\u001b[39m\u001b[38;5;124m\"\u001b[39m] \u001b[38;5;241m=\u001b[39m config[\u001b[38;5;124m\"\u001b[39m\u001b[38;5;124mtags\u001b[39m\u001b[38;5;124m\"\u001b[39m] \u001b[38;5;241m+\u001b[39m \u001b[38;5;28mself\u001b[39m\u001b[38;5;241m.\u001b[39mtags\n\u001b[0;32m--> 151\u001b[0m \u001b[38;5;28;01mreturn\u001b[39;00m \u001b[38;5;28;43mself\u001b[39;49m\u001b[38;5;241;43m.\u001b[39;49m\u001b[43m_call_with_config\u001b[49m\u001b[43m(\u001b[49m\n\u001b[1;32m    152\u001b[0m \u001b[43m    \u001b[49m\u001b[38;5;28;43mself\u001b[39;49m\u001b[38;5;241;43m.\u001b[39;49m\u001b[43m_format_prompt_with_error_handling\u001b[49m\u001b[43m,\u001b[49m\n\u001b[1;32m    153\u001b[0m \u001b[43m    \u001b[49m\u001b[38;5;28;43minput\u001b[39;49m\u001b[43m,\u001b[49m\n\u001b[1;32m    154\u001b[0m \u001b[43m    \u001b[49m\u001b[43mconfig\u001b[49m\u001b[43m,\u001b[49m\n\u001b[1;32m    155\u001b[0m \u001b[43m    \u001b[49m\u001b[43mrun_type\u001b[49m\u001b[38;5;241;43m=\u001b[39;49m\u001b[38;5;124;43m\"\u001b[39;49m\u001b[38;5;124;43mprompt\u001b[39;49m\u001b[38;5;124;43m\"\u001b[39;49m\u001b[43m,\u001b[49m\n\u001b[1;32m    156\u001b[0m \u001b[43m\u001b[49m\u001b[43m)\u001b[49m\n",
      "File \u001b[0;32m~/projects/.py310env/lib/python3.10/site-packages/langchain_core/runnables/base.py:1599\u001b[0m, in \u001b[0;36mRunnable._call_with_config\u001b[0;34m(self, func, input, config, run_type, **kwargs)\u001b[0m\n\u001b[1;32m   1595\u001b[0m     context \u001b[38;5;241m=\u001b[39m copy_context()\n\u001b[1;32m   1596\u001b[0m     context\u001b[38;5;241m.\u001b[39mrun(_set_config_context, child_config)\n\u001b[1;32m   1597\u001b[0m     output \u001b[38;5;241m=\u001b[39m cast(\n\u001b[1;32m   1598\u001b[0m         Output,\n\u001b[0;32m-> 1599\u001b[0m         \u001b[43mcontext\u001b[49m\u001b[38;5;241;43m.\u001b[39;49m\u001b[43mrun\u001b[49m\u001b[43m(\u001b[49m\n\u001b[1;32m   1600\u001b[0m \u001b[43m            \u001b[49m\u001b[43mcall_func_with_variable_args\u001b[49m\u001b[43m,\u001b[49m\u001b[43m  \u001b[49m\u001b[38;5;66;43;03m# type: ignore[arg-type]\u001b[39;49;00m\n\u001b[1;32m   1601\u001b[0m \u001b[43m            \u001b[49m\u001b[43mfunc\u001b[49m\u001b[43m,\u001b[49m\u001b[43m  \u001b[49m\u001b[38;5;66;43;03m# type: ignore[arg-type]\u001b[39;49;00m\n\u001b[1;32m   1602\u001b[0m \u001b[43m            \u001b[49m\u001b[38;5;28;43minput\u001b[39;49m\u001b[43m,\u001b[49m\u001b[43m  \u001b[49m\u001b[38;5;66;43;03m# type: ignore[arg-type]\u001b[39;49;00m\n\u001b[1;32m   1603\u001b[0m \u001b[43m            \u001b[49m\u001b[43mconfig\u001b[49m\u001b[43m,\u001b[49m\n\u001b[1;32m   1604\u001b[0m \u001b[43m            \u001b[49m\u001b[43mrun_manager\u001b[49m\u001b[43m,\u001b[49m\n\u001b[1;32m   1605\u001b[0m \u001b[43m            \u001b[49m\u001b[38;5;241;43m*\u001b[39;49m\u001b[38;5;241;43m*\u001b[39;49m\u001b[43mkwargs\u001b[49m\u001b[43m,\u001b[49m\n\u001b[1;32m   1606\u001b[0m \u001b[43m        \u001b[49m\u001b[43m)\u001b[49m,\n\u001b[1;32m   1607\u001b[0m     )\n\u001b[1;32m   1608\u001b[0m \u001b[38;5;28;01mexcept\u001b[39;00m \u001b[38;5;167;01mBaseException\u001b[39;00m \u001b[38;5;28;01mas\u001b[39;00m e:\n\u001b[1;32m   1609\u001b[0m     run_manager\u001b[38;5;241m.\u001b[39mon_chain_error(e)\n",
      "File \u001b[0;32m~/projects/.py310env/lib/python3.10/site-packages/langchain_core/runnables/config.py:380\u001b[0m, in \u001b[0;36mcall_func_with_variable_args\u001b[0;34m(func, input, config, run_manager, **kwargs)\u001b[0m\n\u001b[1;32m    378\u001b[0m \u001b[38;5;28;01mif\u001b[39;00m run_manager \u001b[38;5;129;01mis\u001b[39;00m \u001b[38;5;129;01mnot\u001b[39;00m \u001b[38;5;28;01mNone\u001b[39;00m \u001b[38;5;129;01mand\u001b[39;00m accepts_run_manager(func):\n\u001b[1;32m    379\u001b[0m     kwargs[\u001b[38;5;124m\"\u001b[39m\u001b[38;5;124mrun_manager\u001b[39m\u001b[38;5;124m\"\u001b[39m] \u001b[38;5;241m=\u001b[39m run_manager\n\u001b[0;32m--> 380\u001b[0m \u001b[38;5;28;01mreturn\u001b[39;00m \u001b[43mfunc\u001b[49m\u001b[43m(\u001b[49m\u001b[38;5;28;43minput\u001b[39;49m\u001b[43m,\u001b[49m\u001b[43m \u001b[49m\u001b[38;5;241;43m*\u001b[39;49m\u001b[38;5;241;43m*\u001b[39;49m\u001b[43mkwargs\u001b[49m\u001b[43m)\u001b[49m\n",
      "File \u001b[0;32m~/projects/.py310env/lib/python3.10/site-packages/langchain_core/prompts/base.py:134\u001b[0m, in \u001b[0;36mBasePromptTemplate._format_prompt_with_error_handling\u001b[0;34m(self, inner_input)\u001b[0m\n\u001b[1;32m    133\u001b[0m \u001b[38;5;28;01mdef\u001b[39;00m \u001b[38;5;21m_format_prompt_with_error_handling\u001b[39m(\u001b[38;5;28mself\u001b[39m, inner_input: Dict) \u001b[38;5;241m-\u001b[39m\u001b[38;5;241m>\u001b[39m PromptValue:\n\u001b[0;32m--> 134\u001b[0m     _inner_input \u001b[38;5;241m=\u001b[39m \u001b[38;5;28;43mself\u001b[39;49m\u001b[38;5;241;43m.\u001b[39;49m\u001b[43m_validate_input\u001b[49m\u001b[43m(\u001b[49m\u001b[43minner_input\u001b[49m\u001b[43m)\u001b[49m\n\u001b[1;32m    135\u001b[0m     \u001b[38;5;28;01mreturn\u001b[39;00m \u001b[38;5;28mself\u001b[39m\u001b[38;5;241m.\u001b[39mformat_prompt(\u001b[38;5;241m*\u001b[39m\u001b[38;5;241m*\u001b[39m_inner_input)\n",
      "File \u001b[0;32m~/projects/.py310env/lib/python3.10/site-packages/langchain_core/prompts/base.py:126\u001b[0m, in \u001b[0;36mBasePromptTemplate._validate_input\u001b[0;34m(self, inner_input)\u001b[0m\n\u001b[1;32m    124\u001b[0m missing \u001b[38;5;241m=\u001b[39m \u001b[38;5;28mset\u001b[39m(\u001b[38;5;28mself\u001b[39m\u001b[38;5;241m.\u001b[39minput_variables)\u001b[38;5;241m.\u001b[39mdifference(inner_input)\n\u001b[1;32m    125\u001b[0m \u001b[38;5;28;01mif\u001b[39;00m missing:\n\u001b[0;32m--> 126\u001b[0m     \u001b[38;5;28;01mraise\u001b[39;00m \u001b[38;5;167;01mKeyError\u001b[39;00m(\n\u001b[1;32m    127\u001b[0m         \u001b[38;5;124mf\u001b[39m\u001b[38;5;124m\"\u001b[39m\u001b[38;5;124mInput to \u001b[39m\u001b[38;5;132;01m{\u001b[39;00m\u001b[38;5;28mself\u001b[39m\u001b[38;5;241m.\u001b[39m\u001b[38;5;18m__class__\u001b[39m\u001b[38;5;241m.\u001b[39m\u001b[38;5;18m__name__\u001b[39m\u001b[38;5;132;01m}\u001b[39;00m\u001b[38;5;124m is missing variables \u001b[39m\u001b[38;5;132;01m{\u001b[39;00mmissing\u001b[38;5;132;01m}\u001b[39;00m\u001b[38;5;124m. \u001b[39m\u001b[38;5;124m\"\u001b[39m\n\u001b[1;32m    128\u001b[0m         \u001b[38;5;124mf\u001b[39m\u001b[38;5;124m\"\u001b[39m\u001b[38;5;124m Expected: \u001b[39m\u001b[38;5;132;01m{\u001b[39;00m\u001b[38;5;28mself\u001b[39m\u001b[38;5;241m.\u001b[39minput_variables\u001b[38;5;132;01m}\u001b[39;00m\u001b[38;5;124m\"\u001b[39m\n\u001b[1;32m    129\u001b[0m         \u001b[38;5;124mf\u001b[39m\u001b[38;5;124m\"\u001b[39m\u001b[38;5;124m Received: \u001b[39m\u001b[38;5;132;01m{\u001b[39;00m\u001b[38;5;28mlist\u001b[39m(inner_input\u001b[38;5;241m.\u001b[39mkeys())\u001b[38;5;132;01m}\u001b[39;00m\u001b[38;5;124m\"\u001b[39m\n\u001b[1;32m    130\u001b[0m     )\n\u001b[1;32m    131\u001b[0m \u001b[38;5;28;01mreturn\u001b[39;00m inner_input\n",
      "\u001b[0;31mKeyError\u001b[0m: \"Input to PromptTemplate is missing variables {'review_summary'}.  Expected: ['review_summary'] Received: ['review']\""
     ]
    }
   ],
   "source": [
    "complete_chain = ({\n",
    "        \"review\": itemgetter(\"review\"),\n",
    "        \"review_summary\": first_chain,#itemgetter(\"review_summary\"),\n",
    "        \"weaknesses\" : second_chain#itemgetter(\"weaknesses\")\n",
    "        # \"weaknesses\": itemgetter(\"weaknesses\")\n",
    "        } \n",
    "    | RunnablePassthrough.assign(mysecond=second_chain,mythird=third_chain)\n",
    "    )\n",
    "\n",
    "complete_chain.invoke({'review': employee_review})"
   ]
  },
  {
   "cell_type": "code",
   "execution_count": 22,
   "id": "95bf979f",
   "metadata": {},
   "outputs": [],
   "source": [
    "model_parser = llm | StrOutputParser() "
   ]
  },
  {
   "cell_type": "code",
   "execution_count": 30,
   "id": "ee97f1ca",
   "metadata": {},
   "outputs": [],
   "source": [
    "chaina = ({\"review\":RunnablePassthrough()}|prompt1|{\"review_summary\" : model_parser})\n"
   ]
  },
  {
   "cell_type": "code",
   "execution_count": 39,
   "id": "2aa85086",
   "metadata": {},
   "outputs": [],
   "source": [
    "# chainb = prompt2 | model_parser\n",
    "\n",
    "chainb = ({\"review_summary\":RunnablePassthrough()}|prompt2|{\"weaknesses\" : model_parser})\n",
    "\n",
    "\n"
   ]
  },
  {
   "cell_type": "code",
   "execution_count": 40,
   "id": "503ce2e4",
   "metadata": {},
   "outputs": [],
   "source": [
    "# chainc = prompt3 | model_parser\n",
    "chainc = prompt3 | model_parser\n",
    "chainc = ({\"weaknesses\":RunnablePassthrough()}|prompt3|model_parser)"
   ]
  },
  {
   "cell_type": "code",
   "execution_count": 47,
   "id": "9359aa3f",
   "metadata": {},
   "outputs": [],
   "source": [
    "# qg = (chaina | {\"weaknesses\":chainb} | prompt3)\n",
    "qg = (chaina | chainb | chainc)"
   ]
  },
  {
   "cell_type": "code",
   "execution_count": 48,
   "id": "f2514315",
   "metadata": {},
   "outputs": [],
   "source": [
    "result = qg.invoke(employee_review)"
   ]
  },
  {
   "cell_type": "code",
   "execution_count": 49,
   "id": "08e4a76d",
   "metadata": {},
   "outputs": [
    {
     "name": "stdout",
     "output_type": "stream",
     "text": [
      "<class 'str'>\n"
     ]
    }
   ],
   "source": [
    "print(type(result))"
   ]
  },
  {
   "cell_type": "code",
   "execution_count": 51,
   "id": "2adcd0fc",
   "metadata": {},
   "outputs": [
    {
     "name": "stdout",
     "output_type": "stream",
     "text": [
      "## Personalized Plan to Address Joe's Weaknesses\n",
      "\n",
      "This plan focuses on addressing Joe's weaknesses in time management, written communication, and delegation, with actionable steps and resources to support his growth.\n",
      "\n",
      "**1. Time Management:**\n",
      "\n",
      "* **Goal:** Improve time management skills and minimize missed deadlines.\n",
      "* **Action Steps:**\n",
      "    * **Prioritization Techniques:** Learn and implement time management frameworks like Eisenhower Matrix, Pomodoro Technique, or Getting Things Done (GTD).\n",
      "    * **Task Tracking:** Utilize tools like project management software (Asana, Trello), digital calendars, or to-do list apps to track progress and deadlines.\n",
      "    * **Time Blocking:** Allocate dedicated time slots for specific tasks to ensure focus and avoid distractions.\n",
      "    * **Delegate Effectively:** Identify tasks that can be delegated to others, freeing up time for more critical responsibilities.\n",
      "* **Resources:**\n",
      "    * **Books:** \"Getting Things Done\" by David Allen, \"The 7 Habits of Highly Effective People\" by Stephen Covey, \"Atomic Habits\" by James Clear\n",
      "    * **Online Courses:** Coursera, Udemy, Skillshare offer courses on time management and productivity.\n",
      "    * **Apps:** Asana, Trello, Todoist, Google Calendar, Focus@Will\n",
      "\n",
      "**2. Written Communication:**\n",
      "\n",
      "* **Goal:** Enhance written communication clarity and effectiveness.\n",
      "* **Action Steps:**\n",
      "    * **Feedback and Review:** Seek constructive feedback on written communication from colleagues and supervisors.\n",
      "    * **Writing Workshops:** Participate in workshops or training programs focused on technical writing, business communication, or report writing.\n",
      "    * **Templates and Guidelines:** Utilize pre-defined templates and style guides for consistent and clear communication.\n",
      "    * **Proofreading and Editing:** Develop a habit of proofreading and editing written documents before sending them out.\n",
      "* **Resources:**\n",
      "    * **Online Tools:** Grammarly, Hemingway Editor, ProWritingAid\n",
      "    * **Books:** \"On Writing\" by Stephen King, \"The Elements of Style\" by Strunk and White\n",
      "    * **Writing Groups:** Join online or in-person writing groups for feedback and support.\n",
      "\n",
      "**3. Delegation:**\n",
      "\n",
      "* **Goal:** Improve delegation skills and build trust in team members.\n",
      "* **Action Steps:**\n",
      "    * **Identify Strengths:**  Recognize the strengths and capabilities of team members to assign tasks effectively.\n",
      "    * **Clear Expectations:** Set clear expectations, provide instructions, and offer necessary training for delegated tasks.\n",
      "    * **Regular Check-ins:** Establish regular communication and feedback loops with team members to monitor progress and offer support.\n",
      "    * **Empowerment and Trust:** Foster an environment where team members feel empowered and trusted to contribute their skills.\n",
      "* **Resources:**\n",
      "    * **Books:** \"The Effective Executive\" by Peter Drucker, \"Radical Candor\" by Kim Scott\n",
      "    * **Leadership Training:** Participate in leadership training programs to develop delegation skills and team management strategies.\n",
      "    * **Mentorship:** Seek guidance and mentorship from experienced leaders who can provide insights and best practices for delegation.\n",
      "\n",
      "**Ongoing Support and Monitoring:**\n",
      "\n",
      "* **Regular Check-ins:** Schedule regular meetings with Joe to discuss progress, challenges, and any support needed.\n",
      "* **Feedback and Coaching:** Provide regular feedback on his performance and offer coaching to help him develop his skills.\n",
      "* **Performance Tracking:** Monitor Joe's progress in addressing his weaknesses through performance reviews and other metrics.\n",
      "\n",
      "**Success Measurement:**\n",
      "\n",
      "* **Improved Time Management:** Fewer missed deadlines, timely completion of tasks, and increased efficiency.\n",
      "* **Enhanced Communication:** Clearer and more effective written communication, improved knowledge sharing, and increased collaboration.\n",
      "* **Effective Delegation:** Increased delegation of tasks, reduced workload for Joe, and improved team efficiency.\n",
      "\n",
      "This personalized plan provides a framework for Joe to develop his skills and address his weaknesses. With consistent effort and support, he can become a more effective and valuable member of the team. \n",
      "\n"
     ]
    }
   ],
   "source": [
    "print(result)"
   ]
  },
  {
   "cell_type": "code",
   "execution_count": null,
   "id": "d64b60fd",
   "metadata": {},
   "outputs": [],
   "source": []
  }
 ],
 "metadata": {
  "kernelspec": {
   "display_name": "Python 3 (ipykernel)",
   "language": "python",
   "name": "python3"
  },
  "language_info": {
   "codemirror_mode": {
    "name": "ipython",
    "version": 3
   },
   "file_extension": ".py",
   "mimetype": "text/x-python",
   "name": "python",
   "nbconvert_exporter": "python",
   "pygments_lexer": "ipython3",
   "version": "3.10.12"
  }
 },
 "nbformat": 4,
 "nbformat_minor": 5
}
