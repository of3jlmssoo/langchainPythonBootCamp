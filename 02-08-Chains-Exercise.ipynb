{
 "cells": [
  {
   "cell_type": "code",
   "execution_count": 1,
   "id": "f5cec8e4-c2cf-4adc-b589-322cd45d8dfa",
   "metadata": {},
   "outputs": [],
   "source": [
    "spanish_email = open('../langchain-course-main/June 2024 Update/02-Chains/spanish_customer_email.txt',encoding='latin-1').read()"
   ]
  },
  {
   "cell_type": "code",
   "execution_count": 2,
   "id": "d93c70a5-951e-4c40-a08d-6ad7a978e35b",
   "metadata": {},
   "outputs": [
    {
     "name": "stdout",
     "output_type": "stream",
     "text": [
      "Asunto: Reporte de Problemas Técnicos - Funcionalidad del Panel SAAS\n",
      "\n",
      "Estimado Equipo de Soporte al Cliente,\n",
      "\n",
      "Espero que este mensaje les encuentre bien. Les escribo para informarles sobre un problema técnico que he encontrado mientras utilizo su producto de panel SAAS. Como cliente leal, aprecio el valor que su producto aporta a mi negocio, pero actualmente me enfrento a un desafío que requiere su experiencia.\n",
      "\n",
      "Me gustaría describir detalladamente el problema que estoy experimentando:\n",
      "\n",
      "1. Problema Gráfico: Al iniciar sesión en el panel SAAS, he notado que los gráficos y las tablas en la página principal del panel no se renderizan correctamente. Los puntos de datos aparecen distorsionados y algunos elementos se superponen, lo que dificulta la interpretación precisa de la información.\n",
      "\n",
      "2. Fallo en la Función de Exportación: Además, no he podido exportar informes y datos desde el panel. Cada vez que intento exportar un informe en formato CSV o PDF, recibo un mensaje de error que indica que la exportación ha fallado. Esta funcionalidad es crucial para compartir información con mi equipo y partes interesadas externas, por lo que es imperativo que se resuelva rápidamente.\n",
      "\n",
      "3. Lentitud en la Carga: Durante la última semana, he notado una disminución significativa en la velocidad de carga del panel SAAS. Las páginas tardan un tiempo inusualmente largo en cargarse, lo que afecta mi productividad y genera frustración. Tengo una conexión a internet confiable, por lo que creo que el problema radica en el panel mismo.\n",
      "\n",
      "Ya he realizado los siguientes pasos para solucionar el problema:\n",
      "\n",
      "1. Limpieza de Cache: Limpié la memoria caché y las cookies de mi navegador para asegurarme de que los datos desactualizados no estén causando conflictos. Sin embargo, los problemas persisten incluso después de realizar esta acción.\n",
      "\n",
      "2. Varios Navegadores: Probé el panel SAAS en diferentes navegadores web (Chrome, Firefox y Safari) para determinar si el problema era específico del navegador. Desafortunadamente, los problemas gráficos, los fallos en la exportación y la lentitud en la carga persistieron en todos los navegadores.\n",
      "\n",
      "Les solicito amablemente su ayuda para resolver estos problemas, ya que están obstaculizando mi capacidad de aprovechar todo el potencial de su panel SAAS. Aquí están las acciones específicas que agradecería:\n",
      "\n",
      "1. Solución para Problemas Gráficos: Por favor, investiguen y corrijan los problemas gráficos presentes en la página principal del panel para garantizar una visualización precisa de los datos.\n",
      "\n",
      "2. Solución para la Función de Exportación: Identifiquen y solucionen el problema con la exportación de informes en formatos CSV y PDF, permitiéndome compartir datos con mi equipo y partes interesadas de manera fluida.\n",
      "\n",
      "3. Optimización del Rendimiento: Por favor, aborden la lentitud en la carga del panel SAAS para mejorar la experiencia general del usuario y aumentar la productividad.\n",
      "\n",
      "Entiendo que los problemas técnicos pueden surgir de vez en cuando y aprecio su pronta atención a este asunto. Si requieren información adicional o ayuda de mi parte, no duden en contactarme. Espero su pronta respuesta y una pronta resolución a estos desafíos.\n",
      "\n",
      "Gracias por su comprensión y apoyo.\n",
      "\n",
      "Atentamente,\n",
      "\n",
      "María Rodríguez\n",
      "ID de Cliente: 123456789\n",
      "Información de la Cuenta: Empresa Ejemplo S.A.\n"
     ]
    }
   ],
   "source": [
    "print(spanish_email)"
   ]
  },
  {
   "cell_type": "markdown",
   "id": "3eea0531",
   "metadata": {},
   "source": [
    "- テキストの言語を確認\n",
    "- テキストを英語に翻訳\n",
    "- サマリーを作成"
   ]
  },
  {
   "cell_type": "code",
   "execution_count": 3,
   "id": "c6e1d891",
   "metadata": {},
   "outputs": [],
   "source": [
    "from langchain_google_genai import GoogleGenerativeAIEmbeddings\n",
    "from langchain_google_genai import ChatGoogleGenerativeAI\n",
    "from langchain_core.messages import HumanMessage, SystemMessage\n",
    "from langchain.prompts import ChatPromptTemplate, SystemMessagePromptTemplate, HumanMessagePromptTemplate\n",
    "\n",
    "gemini_embeddings = GoogleGenerativeAIEmbeddings(model=\"models/embedding-001\") # type: ignore\n",
    "chatm = ChatGoogleGenerativeAI(model=\"gemini-1.5-flash\", temperature=0) # type: ignore #,convert_system_message_to_human=True,temperature=0)"
   ]
  },
  {
   "cell_type": "code",
   "execution_count": 4,
   "id": "e8279036",
   "metadata": {},
   "outputs": [],
   "source": [
    "text = \"Hola, ¿cómo estás? Espero que todo vaya bien.\"\n",
    "text = spanish_email"
   ]
  },
  {
   "cell_type": "code",
   "execution_count": 5,
   "id": "7758d8e0",
   "metadata": {},
   "outputs": [
    {
     "data": {
      "text/plain": [
       "[]"
      ]
     },
     "execution_count": 5,
     "metadata": {},
     "output_type": "execute_result"
    }
   ],
   "source": [
    "system_template=\"you are a language master who can use many languages\"\n",
    "system_message_prompt = SystemMessagePromptTemplate.from_template(system_template)\n",
    "system_message_prompt.input_variables\n"
   ]
  },
  {
   "cell_type": "code",
   "execution_count": 6,
   "id": "9c1a62dc",
   "metadata": {},
   "outputs": [
    {
     "data": {
      "text/plain": [
       "['text']"
      ]
     },
     "execution_count": 6,
     "metadata": {},
     "output_type": "execute_result"
    }
   ],
   "source": [
    "human_template = \"please tell me what language is used in \\n{text}\\nI want you answer just the name of the lanugage only.\"\n",
    "human_message_prompt = HumanMessagePromptTemplate.from_template(human_template)\n",
    "human_message_prompt.input_variables"
   ]
  },
  {
   "cell_type": "code",
   "execution_count": 7,
   "id": "e1e9ff3f",
   "metadata": {},
   "outputs": [],
   "source": [
    "chat_prompt = ChatPromptTemplate.from_messages([system_message_prompt,human_message_prompt])"
   ]
  },
  {
   "cell_type": "code",
   "execution_count": 8,
   "id": "6181e3e3",
   "metadata": {},
   "outputs": [],
   "source": [
    "chat_prompt.input_variables\n",
    "request = chat_prompt.format_prompt(text=text).to_messages()"
   ]
  },
  {
   "cell_type": "code",
   "execution_count": null,
   "id": "66892e6c",
   "metadata": {},
   "outputs": [],
   "source": [
    "chat= ChatGoogleGenerativeAI(model=\"gemini-1.5-flash\",convert_system_message_to_human=True)\n",
    "result = chat.invoke(request)"
   ]
  },
  {
   "cell_type": "code",
   "execution_count": 10,
   "id": "eaa70c07",
   "metadata": {},
   "outputs": [
    {
     "name": "stdout",
     "output_type": "stream",
     "text": [
      "<class 'langchain_core.messages.ai.AIMessage'>\n",
      "Spanish \n",
      "\n",
      "\n",
      "content='Spanish \\n' response_metadata={'prompt_feedback': {'block_reason': 0, 'safety_ratings': []}, 'finish_reason': 'STOP', 'safety_ratings': [{'category': 'HARM_CATEGORY_SEXUALLY_EXPLICIT', 'probability': 'NEGLIGIBLE', 'blocked': False}, {'category': 'HARM_CATEGORY_HATE_SPEECH', 'probability': 'NEGLIGIBLE', 'blocked': False}, {'category': 'HARM_CATEGORY_HARASSMENT', 'probability': 'NEGLIGIBLE', 'blocked': False}, {'category': 'HARM_CATEGORY_DANGEROUS_CONTENT', 'probability': 'NEGLIGIBLE', 'blocked': False}]} id='run-db81a9ac-78e7-4e40-9449-e608cc9610d9-0' usage_metadata={'input_tokens': 744, 'output_tokens': 1, 'total_tokens': 745}\n"
     ]
    }
   ],
   "source": [
    "print(type(result))\n",
    "print(result.content)\n",
    "print()\n",
    "print(result)"
   ]
  },
  {
   "cell_type": "code",
   "execution_count": 11,
   "id": "4dfe88a9",
   "metadata": {},
   "outputs": [
    {
     "name": "stdout",
     "output_type": "stream",
     "text": [
      "Spanish \n",
      "\n"
     ]
    }
   ],
   "source": [
    "print(result.content)"
   ]
  },
  {
   "cell_type": "code",
   "execution_count": 13,
   "id": "3a3b6730",
   "metadata": {},
   "outputs": [
    {
     "name": "stdout",
     "output_type": "stream",
     "text": [
      "Spanish \n",
      "\n"
     ]
    }
   ],
   "source": [
    "print(result.content)\n",
    "froml = result.content\n",
    "tol = \"English\""
   ]
  },
  {
   "cell_type": "code",
   "execution_count": 14,
   "id": "6377793f",
   "metadata": {},
   "outputs": [
    {
     "name": "stdout",
     "output_type": "stream",
     "text": [
      "Spanish \n",
      "   English   Asunto: Reporte de Problemas Técnicos - Funcionalidad del Panel SAAS\n",
      "\n",
      "Estimado Equipo de Soporte al Cliente,\n",
      "\n",
      "Espero que este mensaje les encuentre bien. Les escribo para informarles sobre un problema técnico que he encontrado mientras utilizo su producto de panel SAAS. Como cliente leal, aprecio el valor que su producto aporta a mi negocio, pero actualmente me enfrento a un desafío que requiere su experiencia.\n",
      "\n",
      "Me gustaría describir detalladamente el problema que estoy experimentando:\n",
      "\n",
      "1. Problema Gráfico: Al iniciar sesión en el panel SAAS, he notado que los gráficos y las tablas en la página principal del panel no se renderizan correctamente. Los puntos de datos aparecen distorsionados y algunos elementos se superponen, lo que dificulta la interpretación precisa de la información.\n",
      "\n",
      "2. Fallo en la Función de Exportación: Además, no he podido exportar informes y datos desde el panel. Cada vez que intento exportar un informe en formato CSV o PDF, recibo un mensaje de error que indica que la exportación ha fallado. Esta funcionalidad es crucial para compartir información con mi equipo y partes interesadas externas, por lo que es imperativo que se resuelva rápidamente.\n",
      "\n",
      "3. Lentitud en la Carga: Durante la última semana, he notado una disminución significativa en la velocidad de carga del panel SAAS. Las páginas tardan un tiempo inusualmente largo en cargarse, lo que afecta mi productividad y genera frustración. Tengo una conexión a internet confiable, por lo que creo que el problema radica en el panel mismo.\n",
      "\n",
      "Ya he realizado los siguientes pasos para solucionar el problema:\n",
      "\n",
      "1. Limpieza de Cache: Limpié la memoria caché y las cookies de mi navegador para asegurarme de que los datos desactualizados no estén causando conflictos. Sin embargo, los problemas persisten incluso después de realizar esta acción.\n",
      "\n",
      "2. Varios Navegadores: Probé el panel SAAS en diferentes navegadores web (Chrome, Firefox y Safari) para determinar si el problema era específico del navegador. Desafortunadamente, los problemas gráficos, los fallos en la exportación y la lentitud en la carga persistieron en todos los navegadores.\n",
      "\n",
      "Les solicito amablemente su ayuda para resolver estos problemas, ya que están obstaculizando mi capacidad de aprovechar todo el potencial de su panel SAAS. Aquí están las acciones específicas que agradecería:\n",
      "\n",
      "1. Solución para Problemas Gráficos: Por favor, investiguen y corrijan los problemas gráficos presentes en la página principal del panel para garantizar una visualización precisa de los datos.\n",
      "\n",
      "2. Solución para la Función de Exportación: Identifiquen y solucionen el problema con la exportación de informes en formatos CSV y PDF, permitiéndome compartir datos con mi equipo y partes interesadas de manera fluida.\n",
      "\n",
      "3. Optimización del Rendimiento: Por favor, aborden la lentitud en la carga del panel SAAS para mejorar la experiencia general del usuario y aumentar la productividad.\n",
      "\n",
      "Entiendo que los problemas técnicos pueden surgir de vez en cuando y aprecio su pronta atención a este asunto. Si requieren información adicional o ayuda de mi parte, no duden en contactarme. Espero su pronta respuesta y una pronta resolución a estos desafíos.\n",
      "\n",
      "Gracias por su comprensión y apoyo.\n",
      "\n",
      "Atentamente,\n",
      "\n",
      "María Rodríguez\n",
      "ID de Cliente: 123456789\n",
      "Información de la Cuenta: Empresa Ejemplo S.A.\n"
     ]
    }
   ],
   "source": [
    "print(froml, ' ', tol, ' ', text)"
   ]
  },
  {
   "cell_type": "code",
   "execution_count": 15,
   "id": "000ff30b",
   "metadata": {},
   "outputs": [
    {
     "data": {
      "text/plain": [
       "['froml', 'text', 'tol']"
      ]
     },
     "execution_count": 15,
     "metadata": {},
     "output_type": "execute_result"
    }
   ],
   "source": [
    "human_template = \"please translaate the following text from {froml} to {tol}\\n{text}\\n\"\n",
    "human_message_prompt = HumanMessagePromptTemplate.from_template(human_template)\n",
    "human_message_prompt.input_variables"
   ]
  },
  {
   "cell_type": "code",
   "execution_count": 16,
   "id": "93a0dd88",
   "metadata": {},
   "outputs": [
    {
     "data": {
      "text/plain": [
       "['froml', 'text', 'tol']"
      ]
     },
     "execution_count": 16,
     "metadata": {},
     "output_type": "execute_result"
    }
   ],
   "source": [
    "chat_prompt = ChatPromptTemplate.from_messages([system_message_prompt,human_message_prompt])\n",
    "chat_prompt.input_variables"
   ]
  },
  {
   "cell_type": "code",
   "execution_count": 17,
   "id": "58a49c41",
   "metadata": {},
   "outputs": [],
   "source": [
    "request = chat_prompt.format_prompt(text=text, froml=froml, tol=tol).to_messages()"
   ]
  },
  {
   "cell_type": "code",
   "execution_count": null,
   "id": "7880f07d",
   "metadata": {},
   "outputs": [],
   "source": [
    "chat= ChatGoogleGenerativeAI(model=\"gemini-1.5-flash\",convert_system_message_to_human=True)\n",
    "result = chat.invoke(request)"
   ]
  },
  {
   "cell_type": "code",
   "execution_count": 20,
   "id": "34d4c747",
   "metadata": {},
   "outputs": [
    {
     "name": "stdout",
     "output_type": "stream",
     "text": [
      "<class 'langchain_core.messages.ai.AIMessage'>\n",
      "## Subject: Technical Issues Report - SAAS Panel Functionality\n",
      "\n",
      "Dear Customer Support Team,\n",
      "\n",
      "I hope this message finds you well. I am writing to report a technical issue I have encountered while using your SAAS panel product. As a loyal customer, I appreciate the value your product brings to my business, but I am currently facing a challenge that requires your expertise.\n",
      "\n",
      "I would like to describe in detail the problem I am experiencing:\n",
      "\n",
      "1. **Graphical Issue:** Upon logging into the SAAS panel, I have noticed that the charts and tables on the panel's main page are not rendering correctly. Data points appear distorted, and some elements overlap, making it difficult to accurately interpret the information.\n",
      "\n",
      "2. **Export Function Failure:** Additionally, I have been unable to export reports and data from the panel. Every time I try to export a report in CSV or PDF format, I receive an error message indicating that the export has failed. This functionality is crucial for sharing information with my team and external stakeholders, making it imperative that it is resolved promptly.\n",
      "\n",
      "3. **Slow Loading Speed:** Over the past week, I have noticed a significant decrease in the loading speed of the SAAS panel. Pages take an unusually long time to load, impacting my productivity and causing frustration. I have a reliable internet connection, so I believe the issue lies within the panel itself.\n",
      "\n",
      "I have already taken the following steps to troubleshoot the problem:\n",
      "\n",
      "1. **Cache Clearing:** I cleared the cache and cookies from my browser to ensure outdated data is not causing conflicts. However, the problems persist even after performing this action.\n",
      "\n",
      "2. **Multiple Browsers:** I tried the SAAS panel on different web browsers (Chrome, Firefox, and Safari) to determine if the issue was browser-specific. Unfortunately, the graphical issues, export failures, and slow loading speed persisted across all browsers.\n",
      "\n",
      "I kindly request your assistance in resolving these issues, as they are hindering my ability to fully leverage the potential of your SAAS panel. Here are the specific actions I would appreciate:\n",
      "\n",
      "1. **Solution for Graphical Issues:** Please investigate and correct the graphical problems present on the panel's main page to ensure accurate data visualization.\n",
      "\n",
      "2. **Solution for Export Function:** Identify and fix the issue with exporting reports in CSV and PDF formats, enabling me to share data with my team and stakeholders seamlessly.\n",
      "\n",
      "3. **Performance Optimization:** Please address the slow loading speed of the SAAS panel to improve the overall user experience and increase productivity.\n",
      "\n",
      "I understand that technical issues can arise from time to time, and I appreciate your prompt attention to this matter. If you require any further information or assistance from my end, please do not hesitate to contact me. I look forward to your prompt response and a swift resolution to these challenges.\n",
      "\n",
      "Thank you for your understanding and support.\n",
      "\n",
      "Sincerely,\n",
      "\n",
      "María Rodríguez\n",
      "Client ID: 123456789\n",
      "Account Information: Empresa Ejemplo S.A. \n",
      "\n",
      "\n",
      "content=\"## Subject: Technical Issues Report - SAAS Panel Functionality\\n\\nDear Customer Support Team,\\n\\nI hope this message finds you well. I am writing to report a technical issue I have encountered while using your SAAS panel product. As a loyal customer, I appreciate the value your product brings to my business, but I am currently facing a challenge that requires your expertise.\\n\\nI would like to describe in detail the problem I am experiencing:\\n\\n1. **Graphical Issue:** Upon logging into the SAAS panel, I have noticed that the charts and tables on the panel's main page are not rendering correctly. Data points appear distorted, and some elements overlap, making it difficult to accurately interpret the information.\\n\\n2. **Export Function Failure:** Additionally, I have been unable to export reports and data from the panel. Every time I try to export a report in CSV or PDF format, I receive an error message indicating that the export has failed. This functionality is crucial for sharing information with my team and external stakeholders, making it imperative that it is resolved promptly.\\n\\n3. **Slow Loading Speed:** Over the past week, I have noticed a significant decrease in the loading speed of the SAAS panel. Pages take an unusually long time to load, impacting my productivity and causing frustration. I have a reliable internet connection, so I believe the issue lies within the panel itself.\\n\\nI have already taken the following steps to troubleshoot the problem:\\n\\n1. **Cache Clearing:** I cleared the cache and cookies from my browser to ensure outdated data is not causing conflicts. However, the problems persist even after performing this action.\\n\\n2. **Multiple Browsers:** I tried the SAAS panel on different web browsers (Chrome, Firefox, and Safari) to determine if the issue was browser-specific. Unfortunately, the graphical issues, export failures, and slow loading speed persisted across all browsers.\\n\\nI kindly request your assistance in resolving these issues, as they are hindering my ability to fully leverage the potential of your SAAS panel. Here are the specific actions I would appreciate:\\n\\n1. **Solution for Graphical Issues:** Please investigate and correct the graphical problems present on the panel's main page to ensure accurate data visualization.\\n\\n2. **Solution for Export Function:** Identify and fix the issue with exporting reports in CSV and PDF formats, enabling me to share data with my team and stakeholders seamlessly.\\n\\n3. **Performance Optimization:** Please address the slow loading speed of the SAAS panel to improve the overall user experience and increase productivity.\\n\\nI understand that technical issues can arise from time to time, and I appreciate your prompt attention to this matter. If you require any further information or assistance from my end, please do not hesitate to contact me. I look forward to your prompt response and a swift resolution to these challenges.\\n\\nThank you for your understanding and support.\\n\\nSincerely,\\n\\nMaría Rodríguez\\nClient ID: 123456789\\nAccount Information: Empresa Ejemplo S.A. \\n\" response_metadata={'prompt_feedback': {'block_reason': 0, 'safety_ratings': []}, 'finish_reason': 'STOP', 'safety_ratings': [{'category': 'HARM_CATEGORY_SEXUALLY_EXPLICIT', 'probability': 'NEGLIGIBLE', 'blocked': False}, {'category': 'HARM_CATEGORY_HATE_SPEECH', 'probability': 'NEGLIGIBLE', 'blocked': False}, {'category': 'HARM_CATEGORY_HARASSMENT', 'probability': 'NEGLIGIBLE', 'blocked': False}, {'category': 'HARM_CATEGORY_DANGEROUS_CONTENT', 'probability': 'NEGLIGIBLE', 'blocked': False}]} id='run-414781f7-ac9f-42ab-8bbc-14d6b57b4f31-0' usage_metadata={'input_tokens': 734, 'output_tokens': 606, 'total_tokens': 1340}\n"
     ]
    }
   ],
   "source": [
    "print(type(result))\n",
    "print(result.content)\n",
    "print()\n",
    "print(result)"
   ]
  },
  {
   "cell_type": "code",
   "execution_count": 21,
   "id": "014a7a56",
   "metadata": {},
   "outputs": [
    {
     "name": "stdout",
     "output_type": "stream",
     "text": [
      "*** ## Subject: Technical Issues Report - SAAS Panel Functionality\n",
      "\n",
      "Dear Customer Support Team,\n",
      "\n",
      "I hope this message finds you well. I am writing to report a technical issue I have encountered while using your SAAS panel product. As a loyal customer, I appreciate the value your product brings to my business, but I am currently facing a challenge that requires your expertise.\n",
      "\n",
      "I would like to describe in detail the problem I am experiencing:\n",
      "\n",
      "1. **Graphical Issue:** Upon logging into the SAAS panel, I have noticed that the charts and tables on the panel's main page are not rendering correctly. Data points appear distorted, and some elements overlap, making it difficult to accurately interpret the information.\n",
      "\n",
      "2. **Export Function Failure:** Additionally, I have been unable to export reports and data from the panel. Every time I try to export a report in CSV or PDF format, I receive an error message indicating that the export has failed. This functionality is crucial for sharing information with my team and external stakeholders, making it imperative that it is resolved promptly.\n",
      "\n",
      "3. **Slow Loading Speed:** Over the past week, I have noticed a significant decrease in the loading speed of the SAAS panel. Pages take an unusually long time to load, impacting my productivity and causing frustration. I have a reliable internet connection, so I believe the issue lies within the panel itself.\n",
      "\n",
      "I have already taken the following steps to troubleshoot the problem:\n",
      "\n",
      "1. **Cache Clearing:** I cleared the cache and cookies from my browser to ensure outdated data is not causing conflicts. However, the problems persist even after performing this action.\n",
      "\n",
      "2. **Multiple Browsers:** I tried the SAAS panel on different web browsers (Chrome, Firefox, and Safari) to determine if the issue was browser-specific. Unfortunately, the graphical issues, export failures, and slow loading speed persisted across all browsers.\n",
      "\n",
      "I kindly request your assistance in resolving these issues, as they are hindering my ability to fully leverage the potential of your SAAS panel. Here are the specific actions I would appreciate:\n",
      "\n",
      "1. **Solution for Graphical Issues:** Please investigate and correct the graphical problems present on the panel's main page to ensure accurate data visualization.\n",
      "\n",
      "2. **Solution for Export Function:** Identify and fix the issue with exporting reports in CSV and PDF formats, enabling me to share data with my team and stakeholders seamlessly.\n",
      "\n",
      "3. **Performance Optimization:** Please address the slow loading speed of the SAAS panel to improve the overall user experience and increase productivity.\n",
      "\n",
      "I understand that technical issues can arise from time to time, and I appreciate your prompt attention to this matter. If you require any further information or assistance from my end, please do not hesitate to contact me. I look forward to your prompt response and a swift resolution to these challenges.\n",
      "\n",
      "Thank you for your understanding and support.\n",
      "\n",
      "Sincerely,\n",
      "\n",
      "María Rodríguez\n",
      "Client ID: 123456789\n",
      "Account Information: Empresa Ejemplo S.A. \n",
      " ***\n"
     ]
    }
   ],
   "source": [
    "english_text = result.content\n",
    "print(\"***\",english_text,\"***\")"
   ]
  },
  {
   "cell_type": "code",
   "execution_count": 22,
   "id": "741ca2ed",
   "metadata": {},
   "outputs": [
    {
     "data": {
      "text/plain": [
       "[]"
      ]
     },
     "execution_count": 22,
     "metadata": {},
     "output_type": "execute_result"
    }
   ],
   "source": [
    "system_template=\"you are very good at summarizing texts.\"\n",
    "system_message_prompt = SystemMessagePromptTemplate.from_template(system_template)\n",
    "system_message_prompt.input_variables\n"
   ]
  },
  {
   "cell_type": "code",
   "execution_count": 23,
   "id": "130aa50c",
   "metadata": {},
   "outputs": [
    {
     "data": {
      "text/plain": [
       "['text']"
      ]
     },
     "execution_count": 23,
     "metadata": {},
     "output_type": "execute_result"
    }
   ],
   "source": [
    "human_template = \"please summarize the following text \\n{text}\\n\"\n",
    "human_message_prompt = HumanMessagePromptTemplate.from_template(human_template)\n",
    "human_message_prompt.input_variables"
   ]
  },
  {
   "cell_type": "code",
   "execution_count": 24,
   "id": "54184817",
   "metadata": {},
   "outputs": [
    {
     "data": {
      "text/plain": [
       "['text']"
      ]
     },
     "execution_count": 24,
     "metadata": {},
     "output_type": "execute_result"
    }
   ],
   "source": [
    "chat_prompt = ChatPromptTemplate.from_messages([system_message_prompt,human_message_prompt])\n",
    "chat_prompt.input_variables"
   ]
  },
  {
   "cell_type": "code",
   "execution_count": 28,
   "id": "4c613bfc",
   "metadata": {},
   "outputs": [],
   "source": [
    "request = chat_prompt.format_prompt(text=english_text, froml=froml, tol=tol).to_messages()"
   ]
  },
  {
   "cell_type": "code",
   "execution_count": null,
   "id": "56cab25b",
   "metadata": {},
   "outputs": [],
   "source": [
    "chat= ChatGoogleGenerativeAI(model=\"gemini-1.5-flash\",convert_system_message_to_human=True)\n",
    "result = chat.invoke(request)"
   ]
  },
  {
   "cell_type": "code",
   "execution_count": 31,
   "id": "b86c762f",
   "metadata": {},
   "outputs": [
    {
     "name": "stdout",
     "output_type": "stream",
     "text": [
      "<class 'langchain_core.messages.ai.AIMessage'>\n",
      "This email reports technical issues with a SAAS panel product. The user, María Rodríguez, is experiencing three main problems:\n",
      "\n",
      "1. **Graphical errors:** Charts and tables on the main page are distorted and overlapping, making it difficult to interpret data.\n",
      "2. **Export function failure:** Reports cannot be exported in CSV or PDF format, preventing data sharing.\n",
      "3. **Slow loading speed:** The panel takes a long time to load, impacting productivity.\n",
      "\n",
      "The user has already tried troubleshooting by clearing cache and using different browsers, but the problems persist. \n",
      "\n",
      "The email requests the following actions from customer support:\n",
      "\n",
      "1. **Fix the graphical issues** to ensure accurate data visualization.\n",
      "2. **Resolve the export function failure** to enable seamless data sharing.\n",
      "3. **Optimize the panel's performance** to improve loading speed and user experience.\n",
      "\n",
      "María Rodríguez is a loyal customer who values the product but needs these issues resolved promptly to fully utilize the SAAS panel. \n",
      "\n"
     ]
    }
   ],
   "source": [
    "print(type(result))\n",
    "print(result.content)\n",
    "# print()\n",
    "# print(result)"
   ]
  },
  {
   "cell_type": "code",
   "execution_count": 11,
   "id": "67513a28-5643-4387-9462-02adda8ca3bc",
   "metadata": {},
   "outputs": [],
   "source": [
    "def translate_and_summarize(email):\n",
    "    \"\"\"\n",
    "    Translates an email written in a detected language to English and generates a summary.\n",
    "\n",
    "    Args:\n",
    "        email (str): The email to be processed and translated.\n",
    "\n",
    "    Returns:\n",
    "        dict: A dictionary containing the following keys:\n",
    "            - 'language': The language the email was written in.\n",
    "            - 'translated_email': The translated version of the email in English.\n",
    "            - 'summary': A short summary of the translated email.\n",
    "\n",
    "    Raises:\n",
    "        Exception: If any error occurs during the LLM chain execution.\n",
    "\n",
    "    Example:\n",
    "        email = \"Hola, ¿cómo estás? Espero que todo vaya bien.\"\n",
    "        result = translate_and_summarize(email)\n",
    "        print(result)\n",
    "        # Output:\n",
    "        # {\n",
    "        #     'language': 'Spanish',\n",
    "        #     'translated_email': 'Hello, how are you? I hope everything is going well.',\n",
    "        #     'summary': 'A friendly greeting and a wish for well-being.'\n",
    "        # }\n",
    "    \"\"\"\n",
    "    \n",
    "    pass"
   ]
  },
  {
   "cell_type": "markdown",
   "id": "36df92ca-a03e-49a0-b0bf-c15ce5644fec",
   "metadata": {},
   "source": [
    "## Example Usage and Outputs"
   ]
  },
  {
   "cell_type": "code",
   "execution_count": 12,
   "id": "8f7dc228-285f-49d3-a4ef-f870ac44c061",
   "metadata": {},
   "outputs": [
    {
     "name": "stdout",
     "output_type": "stream",
     "text": [
      "\n",
      "\n",
      "\u001b[1m> Entering new  chain...\u001b[0m\n",
      "\n",
      "\u001b[1m> Finished chain.\u001b[0m\n"
     ]
    }
   ],
   "source": [
    "result = translate_and_summarize(spanish_email)"
   ]
  },
  {
   "cell_type": "code",
   "execution_count": 13,
   "id": "90b09c5f-6e32-4718-be7d-51e83d81ce9d",
   "metadata": {},
   "outputs": [
    {
     "data": {
      "text/plain": [
       "dict_keys(['email', 'language', 'translated_email', 'summary'])"
      ]
     },
     "execution_count": 13,
     "metadata": {},
     "output_type": "execute_result"
    }
   ],
   "source": [
    "result.keys()"
   ]
  },
  {
   "cell_type": "code",
   "execution_count": 14,
   "id": "530a286f-05f7-4740-bc23-2a0506a2741d",
   "metadata": {},
   "outputs": [
    {
     "data": {
      "text/plain": [
       "'Spanish'"
      ]
     },
     "execution_count": 14,
     "metadata": {},
     "output_type": "execute_result"
    }
   ],
   "source": [
    "result['language']"
   ]
  },
  {
   "cell_type": "code",
   "execution_count": 15,
   "id": "7f9982b0-0628-41a8-9ede-894d3d512717",
   "metadata": {},
   "outputs": [
    {
     "data": {
      "text/plain": [
       "\"Subject: Technical Issues Report - SAAS Panel Functionality\\n\\nDear Customer Support Team,\\n\\nI hope this message finds you well. I am writing to inform you about a technical issue I have encountered while using your SAAS panel product. As a loyal customer, I appreciate the value your product brings to my business, but I am currently facing a challenge that requires your expertise.\\n\\nI would like to provide a detailed description of the problem I am experiencing:\\n\\n1. Graphical Issue: Upon logging into the SAAS panel, I have noticed that the graphs and tables on the main panel page are not rendering correctly. Data points appear distorted and some elements overlap, making it difficult to accurately interpret the information.\\n\\n2. Export Function Failure: Additionally, I have been unable to export reports and data from the panel. Every time I attempt to export a report in CSV or PDF format, I receive an error message indicating that the export has failed. This functionality is crucial for sharing information with my team and external stakeholders, so it is imperative that it be resolved quickly.\\n\\n3. Slow Loading: Over the past week, I have noticed a significant decrease in the loading speed of the SAAS panel. Pages take an unusually long time to load, affecting my productivity and causing frustration. I have a reliable internet connection, so I believe the issue lies within the panel itself.\\n\\nI have already taken the following steps to troubleshoot the problem:\\n\\n1. Cache Clearing: I cleared my browser's cache and cookies to ensure that outdated data is not causing conflicts. However, the issues persist even after taking this action.\\n\\n2. Multiple Browsers: I tested the SAAS panel on different web browsers (Chrome, Firefox, and Safari) to determine if the problem was specific to one browser. Unfortunately, the graphical issues, export failures, and slow loading persisted across all browsers.\\n\\nI kindly request your assistance in resolving these issues as they are hindering my ability to fully leverage the potential of your SAAS panel. Here are the specific actions I would appreciate:\\n\\n1. Graphical Issues Resolution: Please investigate and fix the graphical issues present on the main panel page to ensure accurate data visualization.\\n\\n2. Export Function Resolution: Identify and resolve the problem with exporting reports in CSV and PDF formats, allowing me to smoothly share data with my team and stakeholders.\\n\\n3. Performance Optimization: Please address the slow loading of the SAAS panel to improve the overall user experience and increase productivity.\\n\\nI understand that technical issues can arise from time to time and appreciate your prompt attention to this matter. If you require any additional information or assistance from me, please do not hesitate to contact me. I look forward to your prompt response and a swift resolution to these challenges.\\n\\nThank you for your understanding and support.\\n\\nSincerely,\\n\\nMaría Rodríguez\\nClient ID: 123456789\\nAccount Information: Example Company Inc.\""
      ]
     },
     "execution_count": 15,
     "metadata": {},
     "output_type": "execute_result"
    }
   ],
   "source": [
    "result['translated_email']"
   ]
  },
  {
   "cell_type": "code",
   "execution_count": 16,
   "id": "670b9635-a245-40f2-a67d-32c8c707d736",
   "metadata": {},
   "outputs": [
    {
     "data": {
      "text/plain": [
       "'The email is from a customer who is experiencing technical issues with a SAAS panel product. The customer describes three specific problems: graphical issues, export function failure, and slow loading. The customer has already attempted to troubleshoot the issues with no success. They request assistance from the customer support team to resolve the issues and provide specific actions they would appreciate, including fixing the graphical issues, resolving the export function problem, and optimizing performance. The customer expresses understanding for technical issues and hopes for a prompt response and resolution. They provide their client ID and account information for reference.'"
      ]
     },
     "execution_count": 16,
     "metadata": {},
     "output_type": "execute_result"
    }
   ],
   "source": [
    "result['summary']"
   ]
  },
  {
   "cell_type": "code",
   "execution_count": null,
   "id": "3f4db057-0681-45c5-9d4b-74fbb532f0af",
   "metadata": {},
   "outputs": [],
   "source": []
  }
 ],
 "metadata": {
  "kernelspec": {
   "display_name": "Python 3 (ipykernel)",
   "language": "python",
   "name": "python3"
  },
  "language_info": {
   "codemirror_mode": {
    "name": "ipython",
    "version": 3
   },
   "file_extension": ".py",
   "mimetype": "text/x-python",
   "name": "python",
   "nbconvert_exporter": "python",
   "pygments_lexer": "ipython3",
   "version": "3.10.12"
  }
 },
 "nbformat": 4,
 "nbformat_minor": 5
}
