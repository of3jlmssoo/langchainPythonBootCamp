{
 "cells": [
  {
   "cell_type": "code",
   "execution_count": 1,
   "metadata": {},
   "outputs": [],
   "source": [
    "# Helper function for printing docs\n",
    "\n",
    "\n",
    "def pretty_print_docs(docs):\n",
    "    print(\n",
    "        f\"\\n{'-' * 100}\\n\".join(\n",
    "            [f\"Document {i+1}:\\n\\n\" + d.page_content for i, d in enumerate(docs)]\n",
    "        )\n",
    "    )"
   ]
  },
  {
   "cell_type": "code",
   "execution_count": 2,
   "metadata": {},
   "outputs": [
    {
     "name": "stdout",
     "output_type": "stream",
     "text": [
      "Document 1:\n",
      "\n",
      "As I did four days ago, I’ve nominated a Circuit Court of Appeals — Ketanji Brown Jackson. One of our nation’s top legal minds who will continue in just Brey- — Justice Breyer’s legacy of excellence. A former top litigator in private practice, a former federal public defender from a family of public-school educators and police officers — she’s a consensus builder.\n",
      "\n",
      "Since she’s been nominated, she’s received a broad range of support, including the Fraternal Order of Police and former judges appointed by Democrats and Republicans.\n",
      "\n",
      "JUDGE KETANJI BROWN JACKSON\n",
      "President Biden's Unity Agenda\n",
      "LEARN MORE\n",
      "Since she’s been nominated, she’s received a broad range of support, including the Fraternal Order of Police and former judges appointed by Democrats and Republicans.\n",
      "\n",
      "Folks, if we are to advance liberty and justice, we need to secure our border and fix the immigration system.\n",
      "----------------------------------------------------------------------------------------------------\n",
      "Document 2:\n",
      "\n",
      "Through her pain, she found purpose to demand that we do better. Tonight, Danielle, we are going to do better.\n",
      "\n",
      "The VA — the VA is pioneering new ways of linking toxic exposures to disease, already helping more veterans get benefits. And tonight, I’m announcing we’re expanding eligibility to veterans suffering from nine respiratory cancers.\n",
      "\n",
      "VETERANS\n",
      "\n",
      "I’m also calling on Congress to pass a law to make sure veterans devastated by toxic exposure in Iraq and Afghanistan finally get the benefits and the comprehensive healthcare they deserve.\n",
      "\n",
      "And fourth and last, let’s end cancer as we know it. This is personal. This is personal to me and to Jill and to Kamala and so many of you. So many of you have lost someone you love — husband, wife, son, daughter, mom, dad.\n",
      "\n",
      "Cancer is the number-two cause of death in America, second only to heart disease.\n",
      "\n",
      "Last month, I announced the plan to supercharge the Cancer Moonshot that President Obama asked me to lead six years ago.\n",
      "\n",
      "CANCER MOONSHOT\n",
      "----------------------------------------------------------------------------------------------------\n",
      "Document 3:\n",
      "\n",
      "In my administration, the watchdogs are back. And we’re going after the criminals who stole billions of relief money meant for small business and millions of Americans.\n",
      "\n",
      "PANDEMIC FRAUD\n",
      "\n",
      "And tonight, I’m announcing that the Justice Department will soon name a chief prosecutor for pandemic fraud.\n",
      "\n",
      "And, look I think we all agree — thank you — by the end of this year, the deficit will be down to less than half what it was before I took office — the only President ever to cut the deficit by more than $1 trillion in a single year.\n",
      "\n",
      "Lowering your costs also meant demanding more competition. I’m a capitalist, but capitalism without competition is not capitalism. Capitalism without competition is exploitation. It drives up prices.\n",
      "\n",
      "When corporations have to compete, their profits go up and your prices go up — when they don’t have to compete.\n",
      "----------------------------------------------------------------------------------------------------\n",
      "Document 4:\n",
      "\n",
      "The vast majority of Americans have used these tools and may want to again — we may need them again. So I expect Congress — and I hope you’ll pass that quickly.\n",
      "\n",
      "Fourth, we’ll continue vaccinating the world. We’ve sent 475 million vaccine doses to 112 countries — more than any nation on Earth. We won’t stop, because you can’t build a wall high enough to keep out a —\n",
      "\n",
      "A vaccine — the vaccine can stop the spread of these diseases.\n",
      "\n",
      "You know, we’ve lost so much in COVID-19. Time with one another. The worst of all, the much loss of life.\n",
      "\n",
      "Let’s use this moment to reset. So, stop looking at COVID as a partisan dividing line. See it for what it is: a God-awful disease.\n",
      "\n",
      "Let’s stop sending — seeing each other as enemies and start seeing each other for who we are: fellow Americans.\n",
      "\n",
      "COVID-19 RESET\n",
      "\n",
      "Look we can’t change how divided we’ve been. That was a long time in coming. But we can change how to move forward on COVID-19 and other issues that we must face together.\n"
     ]
    }
   ],
   "source": [
    "from langchain_community.document_loaders import TextLoader\n",
    "# from langchain_community.vectorstores import FAISS\n",
    "# from langchain_openai import OpenAIEmbeddings\n",
    "from langchain_text_splitters import CharacterTextSplitter\n",
    "\n",
    "\n",
    "from langchain.vectorstores import Chroma\n",
    "\n",
    "from langchain_google_genai import GoogleGenerativeAIEmbeddings\n",
    "gemini_embeddings = GoogleGenerativeAIEmbeddings(model=\"models/embedding-001\") # type: ignore\n",
    "\n",
    "documents = TextLoader(\"./2022_state_of_the_union_address.txt\").load()\n",
    "text_splitter = CharacterTextSplitter(chunk_size=1000, chunk_overlap=0)\n",
    "texts = text_splitter.split_documents(documents)\n",
    "\n",
    "db = Chroma.from_documents(texts, gemini_embeddings, persist_directory='./2022soua')\n",
    "# retriever = FAISS.from_documents(texts, gemini_embeddings).as_retriever()\n",
    "# retriever = Chroma.from_documents(texts, gemini_embeddings).as_retriever()\n",
    "\n",
    "# docs = retriever.invoke(\"What did the president say about Ketanji Brown Jackson\")\n",
    "docs = db.similarity_search(\"What did the president say about Ketanji Brown Jackson\")\n",
    "pretty_print_docs(docs)"
   ]
  },
  {
   "cell_type": "code",
   "execution_count": 3,
   "metadata": {},
   "outputs": [
    {
     "name": "stdout",
     "output_type": "stream",
     "text": [
      "Document 1:\n",
      "\n",
      "As I did four days ago, I’ve nominated a Circuit Court of Appeals — Ketanji Brown Jackson. One of our nation’s top legal minds who will continue in just Brey- — Justice Breyer’s legacy of excellence. A former top litigator in private practice, a former federal public defender from a family of public-school educators and police officers — she’s a consensus builder.\n"
     ]
    }
   ],
   "source": [
    "from langchain.retrievers import ContextualCompressionRetriever\n",
    "from langchain.retrievers.document_compressors import LLMChainExtractor\n",
    "# from langchain_openai import OpenAI\n",
    "from langchain_google_genai import ChatGoogleGenerativeAI\n",
    "\n",
    "# llm = OpenAI(temperature=0)\n",
    "llm = ChatGoogleGenerativeAI(model=\"gemini-1.5-flash\") #,convert_system_message_to_human=True,temperature=0)\n",
    "\n",
    "compressor = LLMChainExtractor.from_llm(llm)\n",
    "compression_retriever = ContextualCompressionRetriever(\n",
    "    base_compressor=compressor, base_retriever=db.as_retriever()\n",
    ")\n",
    "\n",
    "compressed_docs = compression_retriever.invoke(\n",
    "    \"What did the president say about Ketanji Jackson Brown\"\n",
    ")\n",
    "pretty_print_docs(compressed_docs)"
   ]
  },
  {
   "cell_type": "code",
   "execution_count": 4,
   "metadata": {},
   "outputs": [
    {
     "name": "stdout",
     "output_type": "stream",
     "text": [
      "1\n"
     ]
    }
   ],
   "source": [
    "print(len(compressed_docs))"
   ]
  },
  {
   "cell_type": "code",
   "execution_count": 6,
   "metadata": {},
   "outputs": [
    {
     "name": "stdout",
     "output_type": "stream",
     "text": [
      "Document 1:\n",
      "\n",
      "As I did four days ago, I’ve nominated a Circuit Court of Appeals — Ketanji Brown Jackson. One of our nation’s top legal minds who will continue in just Brey- — Justice Breyer’s legacy of excellence. A former top litigator in private practice, a former federal public defender from a family of public-school educators and police officers — she’s a consensus builder.\n",
      "\n",
      "Since she’s been nominated, she’s received a broad range of support, including the Fraternal Order of Police and former judges appointed by Democrats and Republicans.\n",
      "\n",
      "JUDGE KETANJI BROWN JACKSON\n",
      "President Biden's Unity Agenda\n",
      "LEARN MORE\n",
      "Since she’s been nominated, she’s received a broad range of support, including the Fraternal Order of Police and former judges appointed by Democrats and Republicans.\n",
      "\n",
      "Folks, if we are to advance liberty and justice, we need to secure our border and fix the immigration system.\n"
     ]
    }
   ],
   "source": [
    "from langchain.retrievers.document_compressors import LLMChainFilter\n",
    "\n",
    "_filter = LLMChainFilter.from_llm(llm)\n",
    "compression_retriever = ContextualCompressionRetriever(\n",
    "    base_compressor=_filter, base_retriever=retriever\n",
    ")\n",
    "\n",
    "compressed_docs = compression_retriever.invoke(\n",
    "    \"What did the president say about Ketanji Jackson Brown\"\n",
    ")\n",
    "pretty_print_docs(compressed_docs)"
   ]
  },
  {
   "cell_type": "code",
   "execution_count": 9,
   "metadata": {},
   "outputs": [
    {
     "name": "stdout",
     "output_type": "stream",
     "text": [
      "Document 1:\n",
      "\n",
      "As I did four days ago, I’ve nominated a Circuit Court of Appeals — Ketanji Brown Jackson. One of our nation’s top legal minds who will continue in just Brey- — Justice Breyer’s legacy of excellence. A former top litigator in private practice, a former federal public defender from a family of public-school educators and police officers — she’s a consensus builder.\n",
      "\n",
      "Since she’s been nominated, she’s received a broad range of support, including the Fraternal Order of Police and former judges appointed by Democrats and Republicans.\n",
      "\n",
      "JUDGE KETANJI BROWN JACKSON\n",
      "President Biden's Unity Agenda\n",
      "LEARN MORE\n",
      "Since she’s been nominated, she’s received a broad range of support, including the Fraternal Order of Police and former judges appointed by Democrats and Republicans.\n",
      "\n",
      "Folks, if we are to advance liberty and justice, we need to secure our border and fix the immigration system.\n",
      "----------------------------------------------------------------------------------------------------\n",
      "Document 2:\n",
      "\n",
      "Through her pain, she found purpose to demand that we do better. Tonight, Danielle, we are going to do better.\n",
      "\n",
      "The VA — the VA is pioneering new ways of linking toxic exposures to disease, already helping more veterans get benefits. And tonight, I’m announcing we’re expanding eligibility to veterans suffering from nine respiratory cancers.\n",
      "\n",
      "VETERANS\n",
      "\n",
      "I’m also calling on Congress to pass a law to make sure veterans devastated by toxic exposure in Iraq and Afghanistan finally get the benefits and the comprehensive healthcare they deserve.\n",
      "\n",
      "And fourth and last, let’s end cancer as we know it. This is personal. This is personal to me and to Jill and to Kamala and so many of you. So many of you have lost someone you love — husband, wife, son, daughter, mom, dad.\n",
      "\n",
      "Cancer is the number-two cause of death in America, second only to heart disease.\n",
      "\n",
      "Last month, I announced the plan to supercharge the Cancer Moonshot that President Obama asked me to lead six years ago.\n",
      "\n",
      "CANCER MOONSHOT\n",
      "----------------------------------------------------------------------------------------------------\n",
      "Document 3:\n",
      "\n",
      "In my administration, the watchdogs are back. And we’re going after the criminals who stole billions of relief money meant for small business and millions of Americans.\n",
      "\n",
      "PANDEMIC FRAUD\n",
      "\n",
      "And tonight, I’m announcing that the Justice Department will soon name a chief prosecutor for pandemic fraud.\n",
      "\n",
      "And, look I think we all agree — thank you — by the end of this year, the deficit will be down to less than half what it was before I took office — the only President ever to cut the deficit by more than $1 trillion in a single year.\n",
      "\n",
      "Lowering your costs also meant demanding more competition. I’m a capitalist, but capitalism without competition is not capitalism. Capitalism without competition is exploitation. It drives up prices.\n",
      "\n",
      "When corporations have to compete, their profits go up and your prices go up — when they don’t have to compete.\n",
      "----------------------------------------------------------------------------------------------------\n",
      "Document 4:\n",
      "\n",
      "I’ve always believed that we have a sacred obligation to equip those we send to war and care for those and their family when they come home.\n",
      "\n",
      "My administration is providing assistance and job training and housing, and now helping lower-income veterans get VA care debt free.\n",
      "\n",
      "And our troops in Iraq have faced — and Afghanistan — have faced many dangers. One being stationed at bases, breathing in toxic smoke from burn pits. Many of you have been there. I’ve been in and out of Iraq and Afghanistan over 40 times. These burn pits that incinerate waste — the wastes of war, medical and hazardous material, jet fuel, and so much more.\n",
      "\n",
      "And they come home — many of the world’s fittest and best trained warriors in the world — never the same: headaches, numbness, dizziness, a cancer that would put them in a flag-draped coffin. I know.\n"
     ]
    }
   ],
   "source": [
    "from langchain.retrievers.document_compressors import EmbeddingsFilter\n",
    "# from langchain_openai import OpenAIEmbeddings\n",
    "\n",
    "# embeddings = OpenAIEmbeddings()\n",
    "embeddings= gemini_embeddings\n",
    "embeddings_filter = EmbeddingsFilter(embeddings=embeddings, similarity_threshold=0.25)\n",
    "  # similarity_threshold=0.76   no doc returned\n",
    "  # similarity_threshold=0.25   4 docs returned\n",
    "\n",
    "compression_retriever = ContextualCompressionRetriever(\n",
    "    base_compressor=embeddings_filter, base_retriever=retriever\n",
    ")\n",
    "\n",
    "compressed_docs = compression_retriever.invoke(\n",
    "    \"What did the president say about Ketanji Jackson Brown\"\n",
    ")\n",
    "pretty_print_docs(compressed_docs)"
   ]
  },
  {
   "cell_type": "code",
   "execution_count": 10,
   "metadata": {},
   "outputs": [
    {
     "data": {
      "text/plain": [
       "4"
      ]
     },
     "execution_count": 10,
     "metadata": {},
     "output_type": "execute_result"
    }
   ],
   "source": [
    "len(compressed_docs)"
   ]
  },
  {
   "cell_type": "code",
   "execution_count": 13,
   "metadata": {},
   "outputs": [],
   "source": [
    "from langchain.retrievers.document_compressors import DocumentCompressorPipeline\n",
    "from langchain_community.document_transformers import EmbeddingsRedundantFilter\n",
    "from langchain_text_splitters import CharacterTextSplitter\n",
    "\n",
    "splitter = CharacterTextSplitter(chunk_size=300, chunk_overlap=0, separator=\". \")\n",
    "redundant_filter = EmbeddingsRedundantFilter(embeddings=embeddings)\n",
    "# relevant_filter = EmbeddingsFilter(embeddings=embeddings, similarity_threshold=0.76)\n",
    "relevant_filter = EmbeddingsFilter(embeddings=embeddings, similarity_threshold=0.25)\n",
    "pipeline_compressor = DocumentCompressorPipeline(\n",
    "    transformers=[splitter, redundant_filter, relevant_filter]\n",
    ")"
   ]
  },
  {
   "cell_type": "code",
   "execution_count": 14,
   "metadata": {},
   "outputs": [
    {
     "name": "stderr",
     "output_type": "stream",
     "text": [
      "Created a chunk of size 362, which is longer than the specified 300\n",
      "Created a chunk of size 543, which is longer than the specified 300\n",
      "Created a chunk of size 353, which is longer than the specified 300\n",
      "Created a chunk of size 310, which is longer than the specified 300\n"
     ]
    },
    {
     "name": "stdout",
     "output_type": "stream",
     "text": [
      "Document 1:\n",
      "\n",
      "As I did four days ago, I’ve nominated a Circuit Court of Appeals — Ketanji Brown Jackson. One of our nation’s top legal minds who will continue in just Brey- — Justice Breyer’s legacy of excellence\n",
      "----------------------------------------------------------------------------------------------------\n",
      "Document 2:\n",
      "\n",
      "A former top litigator in private practice, a former federal public defender from a family of public-school educators and police officers — she’s a consensus builder.\n",
      "\n",
      "Since she’s been nominated, she’s received a broad range of support, including the Fraternal Order of Police and former judges appointed by Democrats and Republicans.\n",
      "\n",
      "JUDGE KETANJI BROWN JACKSON\n",
      "President Biden's Unity Agenda\n",
      "LEARN MORE\n",
      "Since she’s been nominated, she’s received a broad range of support, including the Fraternal Order of Police and former judges appointed by Democrats and Republicans.\n",
      "\n",
      "Folks, if we are to advance liberty and justice, we need to secure our border and fix the immigration system.\n",
      "----------------------------------------------------------------------------------------------------\n",
      "Document 3:\n",
      "\n",
      "And we’re going after the criminals who stole billions of relief money meant for small business and millions of Americans.\n",
      "\n",
      "PANDEMIC FRAUD\n",
      "\n",
      "And tonight, I’m announcing that the Justice Department will soon name a chief prosecutor for pandemic fraud.\n",
      "\n",
      "And, look I think we all agree — thank you — by the end of this year, the deficit will be down to less than half what it was before I took office — the only President ever to cut the deficit by more than $1 trillion in a single year.\n",
      "\n",
      "Lowering your costs also meant demanding more competition\n",
      "----------------------------------------------------------------------------------------------------\n",
      "Document 4:\n",
      "\n",
      "I’ve always believed that we have a sacred obligation to equip those we send to war and care for those and their family when they come home.\n",
      "\n",
      "My administration is providing assistance and job training and housing, and now helping lower-income veterans get VA care debt free.\n",
      "\n",
      "And our troops in Iraq have faced — and Afghanistan — have faced many dangers\n",
      "----------------------------------------------------------------------------------------------------\n",
      "Document 5:\n",
      "\n",
      "And tonight, I’m announcing we’re expanding eligibility to veterans suffering from nine respiratory cancers.\n",
      "\n",
      "VETERANS\n",
      "\n",
      "I’m also calling on Congress to pass a law to make sure veterans devastated by toxic exposure in Iraq and Afghanistan finally get the benefits and the comprehensive healthcare they deserve.\n",
      "\n",
      "And fourth and last, let’s end cancer as we know it\n",
      "----------------------------------------------------------------------------------------------------\n",
      "Document 6:\n",
      "\n",
      "This is personal. This is personal to me and to Jill and to Kamala and so many of you\n",
      "----------------------------------------------------------------------------------------------------\n",
      "Document 7:\n",
      "\n",
      "So many of you have lost someone you love — husband, wife, son, daughter, mom, dad.\n",
      "\n",
      "Cancer is the number-two cause of death in America, second only to heart disease.\n",
      "\n",
      "Last month, I announced the plan to supercharge the Cancer Moonshot that President Obama asked me to lead six years ago.\n",
      "\n",
      "CANCER MOONSHOT\n",
      "----------------------------------------------------------------------------------------------------\n",
      "Document 8:\n",
      "\n",
      "In my administration, the watchdogs are back\n",
      "----------------------------------------------------------------------------------------------------\n",
      "Document 9:\n",
      "\n",
      "Through her pain, she found purpose to demand that we do better. Tonight, Danielle, we are going to do better.\n",
      "\n",
      "The VA — the VA is pioneering new ways of linking toxic exposures to disease, already helping more veterans get benefits\n",
      "----------------------------------------------------------------------------------------------------\n",
      "Document 10:\n",
      "\n",
      "These burn pits that incinerate waste — the wastes of war, medical and hazardous material, jet fuel, and so much more.\n",
      "\n",
      "And they come home — many of the world’s fittest and best trained warriors in the world — never the same: headaches, numbness, dizziness, a cancer that would put them in a flag-draped coffin\n",
      "----------------------------------------------------------------------------------------------------\n",
      "Document 11:\n",
      "\n",
      "I know.\n",
      "----------------------------------------------------------------------------------------------------\n",
      "Document 12:\n",
      "\n",
      "One being stationed at bases, breathing in toxic smoke from burn pits. Many of you have been there. I’ve been in and out of Iraq and Afghanistan over 40 times\n",
      "----------------------------------------------------------------------------------------------------\n",
      "Document 13:\n",
      "\n",
      "I’m a capitalist, but capitalism without competition is not capitalism. Capitalism without competition is exploitation. It drives up prices.\n",
      "\n",
      "When corporations have to compete, their profits go up and your prices go up — when they don’t have to compete.\n"
     ]
    }
   ],
   "source": [
    "compression_retriever = ContextualCompressionRetriever(\n",
    "    base_compressor=pipeline_compressor, base_retriever=retriever\n",
    ")\n",
    "\n",
    "compressed_docs = compression_retriever.invoke(\n",
    "    \"What did the president say about Ketanji Jackson Brown\"\n",
    ")\n",
    "pretty_print_docs(compressed_docs)"
   ]
  }
 ],
 "metadata": {
  "kernelspec": {
   "display_name": ".py310env",
   "language": "python",
   "name": "python3"
  },
  "language_info": {
   "codemirror_mode": {
    "name": "ipython",
    "version": 3
   },
   "file_extension": ".py",
   "mimetype": "text/x-python",
   "name": "python",
   "nbconvert_exporter": "python",
   "pygments_lexer": "ipython3",
   "version": "3.10.12"
  }
 },
 "nbformat": 4,
 "nbformat_minor": 2
}
