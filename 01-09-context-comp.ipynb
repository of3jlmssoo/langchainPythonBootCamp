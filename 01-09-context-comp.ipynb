{
 "cells": [
  {
   "cell_type": "code",
   "execution_count": 29,
   "metadata": {},
   "outputs": [],
   "source": [
    "# Build a sample vectorDB\n",
    "from langchain.vectorstores import Chroma\n",
    "from langchain.document_loaders import WikipediaLoader\n",
    "# from langchain_openai import OpenAIEmbeddings\n",
    "from langchain.text_splitter import CharacterTextSplitter\n",
    "\n",
    "from langchain_google_genai import GoogleGenerativeAIEmbeddings\n",
    "\n",
    "gemini_embeddings = GoogleGenerativeAIEmbeddings(model=\"models/embedding-001\") # type: ignore"
   ]
  },
  {
   "cell_type": "code",
   "execution_count": 11,
   "metadata": {},
   "outputs": [],
   "source": [
    "# db_connection = Chroma(persist_directory='./mk_ultra',embedding_function=gemini_embeddings)"
   ]
  },
  {
   "cell_type": "code",
   "execution_count": 20,
   "metadata": {},
   "outputs": [
    {
     "data": {
      "text/plain": [
       "[Document(metadata={'source': 'https://en.wikipedia.org/wiki/United_States_President%27s_Commission_on_CIA_Activities_within_the_United_States', 'summary': 'The United States President\\'s Commission on CIA Activities within the United States was ordained by President Gerald Ford in 1975 to investigate the activities of the Central Intelligence Agency and other intelligence agencies within the United States. The Presidential Commission was led by Vice President Nelson Rockefeller, from whom it gained the nickname the Rockefeller Commission.\\nThe commission was created in response to a December 1974 report in The New York Times that the CIA had conducted illegal domestic activities, including experiments on US citizens, during the 1960s. The commission issued a single report in 1975, touching upon certain CIA abuses including mail opening and surveillance of domestic dissident groups. It also publicized Project MKUltra, a CIA mind control research program.\\nSeveral weeks later, committees were established in the House and Senate for a similar purpose. White House Personnel, including future Vice President Dick Cheney, edited the results, excluding many of the commission\\'s findings from the final report. Some of these findings were included in later reports by the Congressional Committees.\\nBefore it was even released, the report faced scrutiny from the media, and was deemed a \"whitewash.\" The investigation was intended to be independent of Presidential interference, but the findings and recommendations included in the final report were highly altered from what was chosen by the commission itself. It was ultimately superseded in notability by the more substantial Church Committee in what became known as the \"Year of Intelligence.\"', 'title': \"United States President's Commission on CIA Activities within the United States\"}, page_content='The United States President\\'s Commission on CIA Activities within the United States was ordained by President Gerald Ford in 1975 to investigate the activities of the Central Intelligence Agency and other intelligence agencies within the United States. The Presidential Commission was led by Vice President Nelson Rockefeller, from whom it gained the nickname the Rockefeller Commission.\\nThe commission was created in response to a December 1974 report in The New York Times that the CIA had conducted illegal domestic activities, including experiments on US citizens, during the 1960s. The commission issued a single report in 1975, touching upon certain CIA abuses including mail opening and surveillance of domestic dissident groups. It also publicized Project MKUltra, a CIA mind control research program.\\nSeveral weeks later, committees were established in the House and Senate for a similar purpose. White House Personnel, including future Vice President Dick Cheney, edited the results, excluding many of the commission\\'s findings from the final report. Some of these findings were included in later reports by the Congressional Committees.\\nBefore it was even released, the report faced scrutiny from the media, and was deemed a \"whitewash.\" The investigation was intended to be independent of Presidential interference, but the findings and recommendations included in the final report were highly altered from what was chosen by the commission itself. It was ultimately superseded in notability by the more substantial Church Committee in what became known as the \"Year of Intelligence.\"'),\n",
       " Document(metadata={'source': 'https://en.wikipedia.org/wiki/CIA_activities_in_Canada', 'summary': 'It has been traditionally believed that any U.S. Central Intelligence Agency activity in Canada would be undertaken with the \"general consent\" of the Canadian government, and through the 1950s information was freely given to the CIA in return for information from the United States. However, traditionally Canada has refused to voice any anger even when it was clear that the CIA was operating without authorisation.\\nProponents have noted that Canada was vital to CIA operations as it \"physically occupied the territory between the United States and the Soviet Union. However, on May 28, 1975 Solicitor General Warren Allmand directed the Royal Canadian Mounted Police (RCMP) to begin investigating the levels of CIA involvement in Canadian affairs.\\nCanada continues to cooperate with the CIA today, allowing ghost planes to land and refuel in Canada, en route to delivering prisoners to suspected CIA black sites. The Canadian counterpart of the CIA is the Canadian Security Intelligence Service (CSIS) and its agency heavily cooperates with the CIA.', 'title': 'CIA activities in Canada'}, page_content='It has been traditionally believed that any U.S. Central Intelligence Agency activity in Canada would be undertaken with the \"general consent\" of the Canadian government, and through the 1950s information was freely given to the CIA in return for information from the United States. However, traditionally Canada has refused to voice any anger even when it was clear that the CIA was operating without authorisation.\\nProponents have noted that Canada was vital to CIA operations as it \"physically occupied the territory between the United States and the Soviet Union. However, on May 28, 1975 Solicitor General Warren Allmand directed the Royal Canadian Mounted Police (RCMP) to begin investigating the levels of CIA involvement in Canadian affairs.\\nCanada continues to cooperate with the CIA today, allowing ghost planes to land and refuel in Canada, en route to delivering prisoners to suspected CIA black sites. The Canadian counterpart of the CIA is the Canadian Security Intelligence Service (CSIS) and its agency heavily cooperates with the CIA.'),\n",
       " Document(metadata={'source': 'https://en.wikipedia.org/wiki/CIA_activities_in_Canada', 'summary': 'It has been traditionally believed that any U.S. Central Intelligence Agency activity in Canada would be undertaken with the \"general consent\" of the Canadian government, and through the 1950s information was freely given to the CIA in return for information from the United States. However, traditionally Canada has refused to voice any anger even when it was clear that the CIA was operating without authorisation.\\nProponents have noted that Canada was vital to CIA operations as it \"physically occupied the territory between the United States and the Soviet Union. However, on May 28, 1975 Solicitor General Warren Allmand directed the Royal Canadian Mounted Police (RCMP) to begin investigating the levels of CIA involvement in Canadian affairs.\\nCanada continues to cooperate with the CIA today, allowing ghost planes to land and refuel in Canada, en route to delivering prisoners to suspected CIA black sites. The Canadian counterpart of the CIA is the Canadian Security Intelligence Service (CSIS) and its agency heavily cooperates with the CIA.', 'title': 'CIA activities in Canada'}, page_content='== Possible manipulation of political affairs ==\\nWhen the Avro Arrow aerospace program was cancelled in 1959, many believed that the CIA was partly responsible, fearing Canadian intrusion into aerospace dominance.\\nIn 1961, the CIA wrote an intelligence estimate titled \"Trends in Canadian Foreign Policy\" which suggested that the Progressive Conservative government of John Diefenbaker \"might take Canada in a divergent direction\" and seek \"a more independent foreign policy\" and suggested that a return of the Liberal Party might \"soften the Canadian resistance to the storage of nuclear weapons on Canadian soil\". In 1967, Prime Minister Lester Pearson announced he would investigate the allegations of the CIA helping him oust Diefenbaker.\\nIn 1982, Canadian Member of Parliament Svend Robinson accused the CIA of infiltrating the RCMP and funnelling political contributions to favoured politicians in provincial elections from 1970 to 1976. The information seemed to arise from John H. Meier, an aide to Howard Hughes, but a secret investigation turned up no evidence of such a conspiracy. These allegations against the RCMP can be dated back to 1977, when it was shown that the RCMP was \"linked\" closely to the CIA.\\n\\n\\n== Later development ==\\nBy 1964,'),\n",
       " Document(metadata={'source': 'https://en.wikipedia.org/wiki/Unethical_human_experimentation_in_the_United_States', 'summary': 'Numerous experiments which are performed on human test subjects in the United States are considered unethical, because they are performed without the knowledge or informed consent of the test subjects. Such tests have been performed throughout American history, but some of them are believed to be ongoing. The experiments include the exposure of humans to many chemical and biological weapons (including infections with deadly or debilitating diseases), human radiation experiments, injections of toxic and radioactive chemicals, surgical experiments, interrogation and torture experiments, tests which involve mind-altering substances, and a wide variety of other experiments. Many of these tests are performed on children, the sick, and mentally disabled individuals, often under the guise of \"medical treatment\". In many of the studies, a large portion of the subjects were poor, racial minorities, or prisoners.\\nMany of these experiments violated US law. Some others were sponsored by government agencies or rogue elements thereof, including the Centers for Disease Control, the United States military, and the Central Intelligence Agency, or they were sponsored by private corporations which were involved in military activities. The human research programs were usually highly secretive and performed without the knowledge or authorization of Congress, and in many cases information about them was not released until many years after the studies had been performed.\\nThe ethical, professional, and legal implications of this in the United States medical and scientific community were quite significant, and led to many institutions and policies that attempted to ensure that future human subject research in the United States would be ethical and legal. Public outrage in the late 20th century over the discovery of government experiments on human subjects led to numerous congressional investigations and hearings, including the Church Committee and Rockefeller Commission, both of 1975, and the 1994 Advisory Committee on Human Radiation Experiments, among others.', 'title': 'Unethical human experimentation in the United States'}, page_content='Numerous experiments which are performed on human test subjects in the United States are considered unethical, because they are performed without the knowledge or informed consent of the test subjects. Such tests have been performed throughout American history, but some of them are believed to be ongoing. The experiments include the exposure of humans to many chemical and biological weapons (including infections with deadly or debilitating diseases), human radiation experiments, injections of toxic and radioactive chemicals, surgical experiments, interrogation and torture experiments, tests which involve mind-altering substances, and a wide variety of other experiments. Many of these tests are performed on children, the sick, and mentally disabled individuals, often under the guise of \"medical treatment\". In many of the studies, a large portion of the subjects were poor, racial minorities, or prisoners.\\nMany of these experiments violated US law. Some others were sponsored by government agencies or rogue elements thereof, including the Centers for Disease Control, the United States military, and the Central Intelligence Agency, or they were sponsored by private corporations which were involved in military activities. The human research programs were usually highly secretive and performed without the knowledge or authorization of Congress, and in many cases information about them was not released until many years after the studies had been performed.\\nThe ethical, professional, and legal implications of this in the United States medical and scientific community were quite significant, and led to many institutions and policies that attempted to ensure that future human subject research in the United States would be ethical and legal. Public outrage in the late 20th century over the discovery of government experiments on human subjects led to numerous congressional investigations and hearings, including the Church Committee and Rockefeller Commission, both of 1975, and the 1994 Advisory Committee on Human Radiation Experiments, among others.')]"
      ]
     },
     "execution_count": 20,
     "metadata": {},
     "output_type": "execute_result"
    }
   ],
   "source": [
    "# db_connection.similarity_search(\"When was this declassified?\")"
   ]
  },
  {
   "cell_type": "code",
   "execution_count": 30,
   "metadata": {},
   "outputs": [
    {
     "name": "stderr",
     "output_type": "stream",
     "text": [
      "Created a chunk of size 1024, which is longer than the specified 1000\n",
      "Created a chunk of size 1565, which is longer than the specified 1000\n",
      "Created a chunk of size 1048, which is longer than the specified 1000\n",
      "Created a chunk of size 1425, which is longer than the specified 1000\n",
      "Created a chunk of size 1001, which is longer than the specified 1000\n",
      "Created a chunk of size 1380, which is longer than the specified 1000\n",
      "Created a chunk of size 2028, which is longer than the specified 1000\n",
      "Created a chunk of size 1421, which is longer than the specified 1000\n",
      "Created a chunk of size 1665, which is longer than the specified 1000\n",
      "Created a chunk of size 22832, which is longer than the specified 1000\n"
     ]
    },
    {
     "data": {
      "text/plain": [
       "[Document(metadata={'source': './mkultra.wiki.txt'}, page_content=\"MKUltra was revealed to the public in 1975 by the Church Committee of the United States Congress and Gerald Ford's United States President's Commission on CIA activities within the United States (the Rockefeller Commission). Investigative efforts were hampered by CIA Director Richard Helms's order that all MKUltra files be destroyed in 1973; the Church Committee and Rockefeller Commission investigations relied on the sworn testimony of direct participants and on the small number of documents that survived Helms's order.[19] In 1977, a Freedom of Information Act request uncovered a cache of 20,000 documents relating to MKUltra, which led to Senate hearings.[11][20] Some surviving information about MKUltra was declassified in 2001.\\n\\nBackground\"),\n",
       " Document(metadata={'source': './mkultra.wiki.txt'}, page_content=\"1977 United States Senate report on MKUltra\\nIn 1977, during a hearing held by the Senate Select Committee on Intelligence, to look further into MKUltra, Admiral Stansfield Turner, then Director of Central Intelligence, revealed that the CIA had found a set of records, consisting of about 20,000 pages,[83] that had survived the 1973 destruction orders because they had been incorrectly stored at a records center not usually used for such documents.[82] These files dealt with the financing of MKUltra projects and contained few project details, but much more was learned from them than from the Inspector General's 1963 report.\\n\\nOn the Senate floor in 1977, Senator Ted Kennedy said:\"),\n",
       " Document(metadata={'source': './mkultra.wiki.txt'}, page_content=\"Frank Church headed the Church Committee, an investigation into the practices of the U.S. intelligence agencies.\\nIn 1973, amid a government-wide panic caused by Watergate, CIA Director Richard Helms ordered all MKUltra files destroyed.[80] Pursuant to this order, most CIA documents regarding the project were destroyed, making a full investigation of MKUltra impossible. A cache of some 20,000 documents survived Helms's purge, as they had been incorrectly stored in a financial records building and were discovered following a FOIA request in 1977. These documents were fully investigated during the Senate Hearings of 1977.[11]\"),\n",
       " Document(metadata={'source': './mkultra.wiki.txt'}, page_content='Wikimedia Commons has media related to Project MKUltra.\\nEntire Four CD-ROM set of CIA / MKUltra Declassified documents released by the Central Intelligence Agency (CIA), image format, The Black Vault\\nMKUltra Declassified documents, PDF format\\nU.S. Supreme Court, CIA v. Sims, 471 U.S. 159 (1985) 471 U.S. 159, Findlaw\\nU.S. Supreme Court, United States v. Stanley, 483 U.S. 669 (1987) 483 U.S. 669, Findlaw\\nMind Control and MKULTRA by Richard G. Gall\\nResults of the 1973 Church Committee Hearings, on CIA misdeeds, and the 1984 Iran/Contra Hearings\\nXXVII. Testing and Use of Chemical and Biological Agents by the Intelligence Community\\nList of MKULTRA Unclassified Documents including subprojects')]"
      ]
     },
     "execution_count": 30,
     "metadata": {},
     "output_type": "execute_result"
    }
   ],
   "source": [
    "from langchain_community.document_loaders import TextLoader\n",
    "documents = TextLoader(\"./mkultra.wiki.txt\").load()\n",
    "text_splitter = CharacterTextSplitter(chunk_size=1000, chunk_overlap=0)\n",
    "texts = text_splitter.split_documents(documents)\n",
    "db = Chroma.from_documents(texts, gemini_embeddings, persist_directory='./MKUltra2')\n",
    "db.similarity_search(\"When was this declassified?\")"
   ]
  },
  {
   "cell_type": "markdown",
   "metadata": {},
   "source": [
    "### Contextual Compression"
   ]
  },
  {
   "cell_type": "code",
   "execution_count": 31,
   "metadata": {},
   "outputs": [],
   "source": [
    "# from langchain_openai import ChatOpenAI\n",
    "from langchain_google_genai import ChatGoogleGenerativeAI\n",
    "from langchain.retrievers import ContextualCompressionRetriever\n",
    "from langchain.retrievers.document_compressors import LLMChainExtractor"
   ]
  },
  {
   "cell_type": "code",
   "execution_count": 32,
   "metadata": {},
   "outputs": [],
   "source": [
    "# llm = ChatOpenAI(temperature=0)\n",
    "llm = ChatGoogleGenerativeAI(model=\"gemini-1.5-flash\", temperature=0) #,convert_system_message_to_human=True,temperature=0)\n",
    "# llm = ChatGoogleGenerativeAI(model=\"gemini-1.5-pro\") #,convert_system_message_to_human=True,temperature=0)\n",
    "compressor = LLMChainExtractor.from_llm(llm)"
   ]
  },
  {
   "cell_type": "code",
   "execution_count": 33,
   "metadata": {},
   "outputs": [],
   "source": [
    "compression_retriever = ContextualCompressionRetriever(base_compressor=compressor, base_retriever=db.as_retriever())\n",
    "# compression_retriever = ContextualCompressionRetriever(base_compressor=compressor, base_retriever=GoogleGenerativeAIEmbeddings.as_retriever())"
   ]
  },
  {
   "cell_type": "code",
   "execution_count": 25,
   "metadata": {},
   "outputs": [],
   "source": [
    "# docs = db_connection.similarity_search('When was this declassified?')"
   ]
  },
  {
   "cell_type": "code",
   "execution_count": 26,
   "metadata": {},
   "outputs": [
    {
     "data": {
      "text/plain": [
       "Document(metadata={'source': 'https://en.wikipedia.org/wiki/United_States_President%27s_Commission_on_CIA_Activities_within_the_United_States', 'summary': 'The United States President\\'s Commission on CIA Activities within the United States was ordained by President Gerald Ford in 1975 to investigate the activities of the Central Intelligence Agency and other intelligence agencies within the United States. The Presidential Commission was led by Vice President Nelson Rockefeller, from whom it gained the nickname the Rockefeller Commission.\\nThe commission was created in response to a December 1974 report in The New York Times that the CIA had conducted illegal domestic activities, including experiments on US citizens, during the 1960s. The commission issued a single report in 1975, touching upon certain CIA abuses including mail opening and surveillance of domestic dissident groups. It also publicized Project MKUltra, a CIA mind control research program.\\nSeveral weeks later, committees were established in the House and Senate for a similar purpose. White House Personnel, including future Vice President Dick Cheney, edited the results, excluding many of the commission\\'s findings from the final report. Some of these findings were included in later reports by the Congressional Committees.\\nBefore it was even released, the report faced scrutiny from the media, and was deemed a \"whitewash.\" The investigation was intended to be independent of Presidential interference, but the findings and recommendations included in the final report were highly altered from what was chosen by the commission itself. It was ultimately superseded in notability by the more substantial Church Committee in what became known as the \"Year of Intelligence.\"', 'title': \"United States President's Commission on CIA Activities within the United States\"}, page_content='The United States President\\'s Commission on CIA Activities within the United States was ordained by President Gerald Ford in 1975 to investigate the activities of the Central Intelligence Agency and other intelligence agencies within the United States. The Presidential Commission was led by Vice President Nelson Rockefeller, from whom it gained the nickname the Rockefeller Commission.\\nThe commission was created in response to a December 1974 report in The New York Times that the CIA had conducted illegal domestic activities, including experiments on US citizens, during the 1960s. The commission issued a single report in 1975, touching upon certain CIA abuses including mail opening and surveillance of domestic dissident groups. It also publicized Project MKUltra, a CIA mind control research program.\\nSeveral weeks later, committees were established in the House and Senate for a similar purpose. White House Personnel, including future Vice President Dick Cheney, edited the results, excluding many of the commission\\'s findings from the final report. Some of these findings were included in later reports by the Congressional Committees.\\nBefore it was even released, the report faced scrutiny from the media, and was deemed a \"whitewash.\" The investigation was intended to be independent of Presidential interference, but the findings and recommendations included in the final report were highly altered from what was chosen by the commission itself. It was ultimately superseded in notability by the more substantial Church Committee in what became known as the \"Year of Intelligence.\"')"
      ]
     },
     "execution_count": 26,
     "metadata": {},
     "output_type": "execute_result"
    }
   ],
   "source": [
    "# docs[0]"
   ]
  },
  {
   "cell_type": "code",
   "execution_count": 34,
   "metadata": {},
   "outputs": [],
   "source": [
    "compressed_docs = compression_retriever.invoke(\"When was this declassified?\")"
   ]
  },
  {
   "cell_type": "code",
   "execution_count": 36,
   "metadata": {},
   "outputs": [
    {
     "name": "stdout",
     "output_type": "stream",
     "text": [
      "[Document(metadata={'source': './mkultra.wiki.txt'}, page_content='Some surviving information about MKUltra was declassified in 2001.')]\n"
     ]
    }
   ],
   "source": [
    "print(compressed_docs)"
   ]
  },
  {
   "cell_type": "code",
   "execution_count": 37,
   "metadata": {},
   "outputs": [
    {
     "data": {
      "text/plain": [
       "'Some surviving information about MKUltra was declassified in 2001.'"
      ]
     },
     "execution_count": 37,
     "metadata": {},
     "output_type": "execute_result"
    }
   ],
   "source": [
    "compressed_docs[0].page_content"
   ]
  },
  {
   "cell_type": "code",
   "execution_count": null,
   "metadata": {},
   "outputs": [],
   "source": []
  }
 ],
 "metadata": {
  "kernelspec": {
   "display_name": ".py310env",
   "language": "python",
   "name": "python3"
  },
  "language_info": {
   "codemirror_mode": {
    "name": "ipython",
    "version": 3
   },
   "file_extension": ".py",
   "mimetype": "text/x-python",
   "name": "python",
   "nbconvert_exporter": "python",
   "pygments_lexer": "ipython3",
   "version": "3.10.12"
  }
 },
 "nbformat": 4,
 "nbformat_minor": 2
}
