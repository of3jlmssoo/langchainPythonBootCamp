{
 "cells": [
  {
   "cell_type": "code",
   "execution_count": 1,
   "id": "ba9cdab6-7337-42ee-9299-9bd98b6105fa",
   "metadata": {},
   "outputs": [],
   "source": [
    "# from langchain.chat_models import ChatOpenAI\n",
    "from langchain_google_genai import ChatGoogleGenerativeAI\n",
    "from langchain.prompts.chat import (\n",
    "    ChatPromptTemplate,\n",
    "    HumanMessagePromptTemplate,\n",
    ")"
   ]
  },
  {
   "cell_type": "code",
   "execution_count": 2,
   "id": "ef4ce02d-d8aa-44f3-aa91-cfb8cfc06f6c",
   "metadata": {},
   "outputs": [],
   "source": [
    "human_message_prompt = HumanMessagePromptTemplate.from_template(\n",
    "        \"Make up a funny company name for a company that produces {product}\"\n",
    "    )"
   ]
  },
  {
   "cell_type": "code",
   "execution_count": 3,
   "id": "bda465bc-5863-4393-a67d-97352a32b1b0",
   "metadata": {},
   "outputs": [],
   "source": [
    "chat_prompt_template = ChatPromptTemplate.from_messages([human_message_prompt])"
   ]
  },
  {
   "cell_type": "code",
   "execution_count": 4,
   "id": "a8278652-4c42-4ef1-a32b-6e971cccf1e3",
   "metadata": {},
   "outputs": [],
   "source": [
    "# chat = ChatOpenAI()\n",
    "chat = ChatGoogleGenerativeAI(model=\"gemini-1.5-flash\") # type: ignore"
   ]
  },
  {
   "cell_type": "code",
   "execution_count": 6,
   "id": "eb223191-78c9-421e-a8a3-67e016b10faf",
   "metadata": {},
   "outputs": [],
   "source": [
    "# https://python.langchain.com/v0.2/docs/how_to/migrate_chains/#llmchain\n",
    "\n",
    "from langchain.chains import LLMChain\n",
    "# chain = LLMChain(llm=chat, prompt=chat_prompt_template)\n",
    "chain = chat_prompt_template | chat"
   ]
  },
  {
   "cell_type": "code",
   "execution_count": 11,
   "id": "6d4b3baf-5a5e-40bd-b916-bf0460a762f8",
   "metadata": {},
   "outputs": [
    {
     "name": "stdout",
     "output_type": "stream",
     "text": [
      "content='Here are some funny company names for a computer company:\\n\\n**Playful & Punny:**\\n\\n* Byte Me Computers\\n* Silicon Valley Laughs\\n* Gigabytes & Giggles\\n* RAM-tastic PCs\\n* Ctrl+Alt+Funny\\n* The Motherboard Mafia\\n* The Byte Club\\n* Click & Chuckle\\n* The PC Pranksters\\n\\n**Quirky & Unique:**\\n\\n* The Glitch Factory\\n* Binary Bozos\\n* The Pixelated Pals\\n* The Cyber Circus\\n* The Keyboard Kraze\\n* The Digital Dudes\\n* The Mouseketeers\\n* The Tech-Tastic Trio\\n\\n**Remember to check if the name is available as a domain name and trademark before using it!** \\n' response_metadata={'prompt_feedback': {'block_reason': 0, 'safety_ratings': []}, 'finish_reason': 'STOP', 'safety_ratings': [{'category': 'HARM_CATEGORY_SEXUALLY_EXPLICIT', 'probability': 'NEGLIGIBLE', 'blocked': False}, {'category': 'HARM_CATEGORY_HATE_SPEECH', 'probability': 'NEGLIGIBLE', 'blocked': False}, {'category': 'HARM_CATEGORY_HARASSMENT', 'probability': 'NEGLIGIBLE', 'blocked': False}, {'category': 'HARM_CATEGORY_DANGEROUS_CONTENT', 'probability': 'NEGLIGIBLE', 'blocked': False}]} id='run-4e500d8f-0dc0-449a-8db0-0af84a21623e-0' usage_metadata={'input_tokens': 13, 'output_tokens': 148, 'total_tokens': 161}\n"
     ]
    }
   ],
   "source": [
    "# print(chain.run(product=\"Computers\"))\n",
    "print(chain.invoke({\"product\": \"Computers\"}))\n",
    "\n"
   ]
  },
  {
   "cell_type": "code",
   "execution_count": null,
   "id": "70bf340a-9054-4ede-a945-500250c4b7e1",
   "metadata": {},
   "outputs": [],
   "source": []
  }
 ],
 "metadata": {
  "kernelspec": {
   "display_name": "Python 3 (ipykernel)",
   "language": "python",
   "name": "python3"
  },
  "language_info": {
   "codemirror_mode": {
    "name": "ipython",
    "version": 3
   },
   "file_extension": ".py",
   "mimetype": "text/x-python",
   "name": "python",
   "nbconvert_exporter": "python",
   "pygments_lexer": "ipython3",
   "version": "3.10.12"
  }
 },
 "nbformat": 4,
 "nbformat_minor": 5
}
