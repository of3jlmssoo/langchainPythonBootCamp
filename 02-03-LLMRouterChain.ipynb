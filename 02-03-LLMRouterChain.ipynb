{
 "cells": [
  {
   "cell_type": "markdown",
   "id": "34c70034-3204-41f7-af62-f25c9cc5a2de",
   "metadata": {},
   "source": [
    "### Route Templates"
   ]
  },
  {
   "cell_type": "code",
   "execution_count": 1,
   "id": "ddea86e7-9240-4369-a938-38aaff2c6d5a",
   "metadata": {},
   "outputs": [],
   "source": [
    "beginner_template = '''You are a physics teacher who is really\n",
    "focused on beginners and explaining complex topics in simple to understand terms. \n",
    "You assume no prior knowledge. Here is the question\\n{input}'''"
   ]
  },
  {
   "cell_type": "code",
   "execution_count": 2,
   "id": "bb91294c-14cc-48f8-9fd3-12f59f178fe9",
   "metadata": {},
   "outputs": [],
   "source": [
    "expert_template = '''You are a world expert physics professor who explains physics topics\n",
    "to advanced audience members. You can assume anyone you answer has a \n",
    "PhD level understanding of Physics. Here is the question\\n{input}'''"
   ]
  },
  {
   "cell_type": "code",
   "execution_count": 3,
   "id": "92180e62-1a77-4f85-bad4-44225a08d7db",
   "metadata": {},
   "outputs": [],
   "source": [
    "# ADD YOUR OWN TEMPLATES !\n",
    "empty_template = 'empty'"
   ]
  },
  {
   "cell_type": "markdown",
   "id": "00f2c29f-dd15-4821-ac3a-2f5f6321b172",
   "metadata": {},
   "source": [
    "### Route Prompts"
   ]
  },
  {
   "cell_type": "code",
   "execution_count": 4,
   "id": "1ad19090-69a5-481d-87cf-2d4c8119c3ca",
   "metadata": {},
   "outputs": [],
   "source": [
    "prompt_infos = [\n",
    "    {'name':'empty','description':'Replies to empty questions','prompt_template':empty_template},\n",
    "    {'name':'advanced physics','description': 'Answers advanced physics questions',\n",
    "     'prompt_template':expert_template},\n",
    "    {'name':'beginner physics','description': 'Answers basic beginner physics questions',\n",
    "     'prompt_template':beginner_template},\n",
    "    \n",
    "]"
   ]
  },
  {
   "cell_type": "markdown",
   "id": "92e7e03a-a8ed-4405-ae33-7770deccd0a9",
   "metadata": {},
   "source": [
    "### ConversationChain"
   ]
  },
  {
   "cell_type": "code",
   "execution_count": 5,
   "id": "0b759163-2c87-45c7-8b0d-47cb1f6df76d",
   "metadata": {},
   "outputs": [],
   "source": [
    "from langchain_google_genai import ChatGoogleGenerativeAI\n",
    "from langchain.prompts import ChatPromptTemplate\n",
    "from langchain.chains import LLMChain"
   ]
  },
  {
   "cell_type": "code",
   "execution_count": 7,
   "id": "184aefe6-0e02-402d-8172-4a44e78ac42d",
   "metadata": {},
   "outputs": [],
   "source": [
    "llm = ChatGoogleGenerativeAI(model=\"gemini-1.5-flash\") # type: ignore"
   ]
  },
  {
   "cell_type": "code",
   "execution_count": 9,
   "id": "aa78da93-c52d-4ea3-b680-7ae5c677b8c5",
   "metadata": {},
   "outputs": [],
   "source": [
    "destination_chains = {}\n",
    "for p_info in prompt_infos:\n",
    "    name = p_info[\"name\"]\n",
    "    prompt_template = p_info[\"prompt_template\"]\n",
    "    prompt = ChatPromptTemplate.from_template(template=prompt_template)\n",
    "    # chain = LLMChain(llm=llm, prompt=prompt)\n",
    "    chain = prompt | llm\n",
    "    destination_chains[name] = chain"
   ]
  },
  {
   "cell_type": "code",
   "execution_count": 161,
   "id": "ed26ebca-bd7c-41c4-8c20-d0e90e06490a",
   "metadata": {},
   "outputs": [],
   "source": [
    "# destination_chains"
   ]
  },
  {
   "cell_type": "code",
   "execution_count": 10,
   "id": "cfabfe49-a9dc-4d0e-9e40-bfc042719487",
   "metadata": {},
   "outputs": [],
   "source": [
    "default_prompt = ChatPromptTemplate.from_template(\"{input}\")\n",
    "default_chain = LLMChain(llm=llm,prompt=default_prompt)"
   ]
  },
  {
   "cell_type": "markdown",
   "id": "15856b11-d9ab-4a7a-b7af-6f4726ab0d2d",
   "metadata": {},
   "source": [
    "### Multi Routing Template"
   ]
  },
  {
   "cell_type": "code",
   "execution_count": 11,
   "id": "9bd303e5-44b1-424d-93e6-7340d24cfb48",
   "metadata": {},
   "outputs": [],
   "source": [
    "from langchain.chains.router.multi_prompt_prompt import MULTI_PROMPT_ROUTER_TEMPLATE"
   ]
  },
  {
   "cell_type": "code",
   "execution_count": 12,
   "id": "548eae05-4292-48a0-8147-1b4d1fb0433b",
   "metadata": {},
   "outputs": [
    {
     "name": "stdout",
     "output_type": "stream",
     "text": [
      "Given a raw text input to a language model select the model prompt best suited for the input. You will be given the names of the available prompts and a description of what the prompt is best suited for. You may also revise the original input if you think that revising it will ultimately lead to a better response from the language model.\n",
      "\n",
      "<< FORMATTING >>\n",
      "Return a markdown code snippet with a JSON object formatted to look like:\n",
      "```json\n",
      "{{{{\n",
      "    \"destination\": string \\ name of the prompt to use or \"DEFAULT\"\n",
      "    \"next_inputs\": string \\ a potentially modified version of the original input\n",
      "}}}}\n",
      "```\n",
      "\n",
      "REMEMBER: \"destination\" MUST be one of the candidate prompt names specified below OR it can be \"DEFAULT\" if the input is not well suited for any of the candidate prompts.\n",
      "REMEMBER: \"next_inputs\" can just be the original input if you don't think any modifications are needed.\n",
      "\n",
      "<< CANDIDATE PROMPTS >>\n",
      "{destinations}\n",
      "\n",
      "<< INPUT >>\n",
      "{{input}}\n",
      "\n",
      "<< OUTPUT (must include ```json at the start of the response) >>\n",
      "<< OUTPUT (must end with ```) >>\n",
      "\n"
     ]
    }
   ],
   "source": [
    "print(MULTI_PROMPT_ROUTER_TEMPLATE)"
   ]
  },
  {
   "cell_type": "markdown",
   "id": "1152ed30-7c5e-46ec-bd9f-8fa2ff42950e",
   "metadata": {},
   "source": [
    "### Routing Destinations\n"
   ]
  },
  {
   "cell_type": "code",
   "execution_count": 13,
   "id": "635cbf1e-52ce-4d26-a25f-ddc81fa21340",
   "metadata": {},
   "outputs": [],
   "source": [
    "destinations = [f\"{p['name']}: {p['description']}\" for p in prompt_infos]\n",
    "destinations_str = \"\\n\".join(destinations)"
   ]
  },
  {
   "cell_type": "code",
   "execution_count": 14,
   "id": "7ac5f3a0-32e7-45a5-8564-b433d42eeeb2",
   "metadata": {},
   "outputs": [
    {
     "name": "stdout",
     "output_type": "stream",
     "text": [
      "empty: Replies to empty questions\n",
      "advanced physics: Answers advanced physics questions\n",
      "beginner physics: Answers basic beginner physics questions\n"
     ]
    }
   ],
   "source": [
    "print(destinations_str)"
   ]
  },
  {
   "cell_type": "markdown",
   "id": "4c9c0879-3d03-4b2b-b98b-1476a809ed25",
   "metadata": {},
   "source": [
    "### Router Prompt"
   ]
  },
  {
   "cell_type": "code",
   "execution_count": 15,
   "id": "7dbfd595-c65a-49e6-91f6-026528f58e3f",
   "metadata": {},
   "outputs": [],
   "source": [
    "from langchain.prompts import PromptTemplate\n",
    "from langchain.chains.router.llm_router import LLMRouterChain,RouterOutputParser"
   ]
  },
  {
   "cell_type": "code",
   "execution_count": 16,
   "id": "fefd428a-059e-41ba-b49e-b0016b72541b",
   "metadata": {},
   "outputs": [],
   "source": [
    "router_template = MULTI_PROMPT_ROUTER_TEMPLATE.format(\n",
    "    destinations=destinations_str\n",
    ")\n",
    "router_prompt = PromptTemplate(\n",
    "    template=router_template,\n",
    "    input_variables=[\"input\"],\n",
    "    output_parser=RouterOutputParser(),\n",
    ")"
   ]
  },
  {
   "cell_type": "code",
   "execution_count": 17,
   "id": "cf19d2c3-0bbb-4a0d-8d69-ac177e814afa",
   "metadata": {},
   "outputs": [
    {
     "name": "stdout",
     "output_type": "stream",
     "text": [
      "Given a raw text input to a language model select the model prompt best suited for the input. You will be given the names of the available prompts and a description of what the prompt is best suited for. You may also revise the original input if you think that revising it will ultimately lead to a better response from the language model.\n",
      "\n",
      "<< FORMATTING >>\n",
      "Return a markdown code snippet with a JSON object formatted to look like:\n",
      "```json\n",
      "{{\n",
      "    \"destination\": string \\ name of the prompt to use or \"DEFAULT\"\n",
      "    \"next_inputs\": string \\ a potentially modified version of the original input\n",
      "}}\n",
      "```\n",
      "\n",
      "REMEMBER: \"destination\" MUST be one of the candidate prompt names specified below OR it can be \"DEFAULT\" if the input is not well suited for any of the candidate prompts.\n",
      "REMEMBER: \"next_inputs\" can just be the original input if you don't think any modifications are needed.\n",
      "\n",
      "<< CANDIDATE PROMPTS >>\n",
      "empty: Replies to empty questions\n",
      "advanced physics: Answers advanced physics questions\n",
      "beginner physics: Answers basic beginner physics questions\n",
      "\n",
      "<< INPUT >>\n",
      "{input}\n",
      "\n",
      "<< OUTPUT (must include ```json at the start of the response) >>\n",
      "<< OUTPUT (must end with ```) >>\n",
      "\n"
     ]
    }
   ],
   "source": [
    "print(router_template)"
   ]
  },
  {
   "cell_type": "markdown",
   "id": "fd4ba041-a4fe-425d-a6e7-0d357dae6ef6",
   "metadata": {},
   "source": [
    "### Routing Chain Call"
   ]
  },
  {
   "cell_type": "code",
   "execution_count": 18,
   "id": "d1a82b26-438a-4882-bcdd-aa7548f4f961",
   "metadata": {},
   "outputs": [],
   "source": [
    "from langchain.chains.router import MultiPromptChain"
   ]
  },
  {
   "cell_type": "code",
   "execution_count": 19,
   "id": "4100748e-75a5-4e40-998d-a3a959d9a58f",
   "metadata": {},
   "outputs": [],
   "source": [
    "router_chain = LLMRouterChain.from_llm(llm, router_prompt)"
   ]
  },
  {
   "cell_type": "code",
   "execution_count": 20,
   "id": "1e5600e9-f60f-466c-8321-ec2f32e0cbf1",
   "metadata": {},
   "outputs": [
    {
     "ename": "ValidationError",
     "evalue": "3 validation errors for MultiPromptChain\ndestination_chains -> empty\n  Can't instantiate abstract class Chain with abstract methods _call, input_keys, output_keys (type=type_error)\ndestination_chains -> advanced physics\n  Can't instantiate abstract class Chain with abstract methods _call, input_keys, output_keys (type=type_error)\ndestination_chains -> beginner physics\n  Can't instantiate abstract class Chain with abstract methods _call, input_keys, output_keys (type=type_error)",
     "output_type": "error",
     "traceback": [
      "\u001b[0;31m---------------------------------------------------------------------------\u001b[0m",
      "\u001b[0;31mValidationError\u001b[0m                           Traceback (most recent call last)",
      "Cell \u001b[0;32mIn[20], line 1\u001b[0m\n\u001b[0;32m----> 1\u001b[0m chain \u001b[38;5;241m=\u001b[39m \u001b[43mMultiPromptChain\u001b[49m\u001b[43m(\u001b[49m\u001b[43mrouter_chain\u001b[49m\u001b[38;5;241;43m=\u001b[39;49m\u001b[43mrouter_chain\u001b[49m\u001b[43m,\u001b[49m\u001b[43m \u001b[49m\n\u001b[1;32m      2\u001b[0m \u001b[43m                         \u001b[49m\u001b[43mdestination_chains\u001b[49m\u001b[38;5;241;43m=\u001b[39;49m\u001b[43mdestination_chains\u001b[49m\u001b[43m,\u001b[49m\u001b[43m \u001b[49m\n\u001b[1;32m      3\u001b[0m \u001b[43m                         \u001b[49m\u001b[43mdefault_chain\u001b[49m\u001b[38;5;241;43m=\u001b[39;49m\u001b[43mdefault_chain\u001b[49m\u001b[43m,\u001b[49m\u001b[43m \u001b[49m\u001b[43mverbose\u001b[49m\u001b[38;5;241;43m=\u001b[39;49m\u001b[38;5;28;43;01mTrue\u001b[39;49;00m\n\u001b[1;32m      4\u001b[0m \u001b[43m                        \u001b[49m\u001b[43m)\u001b[49m\n",
      "File \u001b[0;32m~/projects/.py310env/lib/python3.10/site-packages/pydantic/v1/main.py:341\u001b[0m, in \u001b[0;36mBaseModel.__init__\u001b[0;34m(__pydantic_self__, **data)\u001b[0m\n\u001b[1;32m    339\u001b[0m values, fields_set, validation_error \u001b[38;5;241m=\u001b[39m validate_model(__pydantic_self__\u001b[38;5;241m.\u001b[39m\u001b[38;5;18m__class__\u001b[39m, data)\n\u001b[1;32m    340\u001b[0m \u001b[38;5;28;01mif\u001b[39;00m validation_error:\n\u001b[0;32m--> 341\u001b[0m     \u001b[38;5;28;01mraise\u001b[39;00m validation_error\n\u001b[1;32m    342\u001b[0m \u001b[38;5;28;01mtry\u001b[39;00m:\n\u001b[1;32m    343\u001b[0m     object_setattr(__pydantic_self__, \u001b[38;5;124m'\u001b[39m\u001b[38;5;124m__dict__\u001b[39m\u001b[38;5;124m'\u001b[39m, values)\n",
      "\u001b[0;31mValidationError\u001b[0m: 3 validation errors for MultiPromptChain\ndestination_chains -> empty\n  Can't instantiate abstract class Chain with abstract methods _call, input_keys, output_keys (type=type_error)\ndestination_chains -> advanced physics\n  Can't instantiate abstract class Chain with abstract methods _call, input_keys, output_keys (type=type_error)\ndestination_chains -> beginner physics\n  Can't instantiate abstract class Chain with abstract methods _call, input_keys, output_keys (type=type_error)"
     ]
    }
   ],
   "source": [
    "chain = MultiPromptChain(router_chain=router_chain, \n",
    "                         destination_chains=destination_chains, \n",
    "                         default_chain=default_chain, verbose=True\n",
    "                        )"
   ]
  },
  {
   "cell_type": "code",
   "execution_count": 173,
   "id": "1a77635b-b475-4bdf-bb35-d0ca5983911d",
   "metadata": {},
   "outputs": [
    {
     "name": "stdout",
     "output_type": "stream",
     "text": [
      "\n",
      "\n",
      "\u001b[1m> Entering new  chain...\u001b[0m\n",
      "beginner physics: {'input': 'How do magnets work?'}\n",
      "\u001b[1m> Finished chain.\u001b[0m\n"
     ]
    },
    {
     "data": {
      "text/plain": [
       "\"Great question! Let's dive into the fascinating world of magnets.\\n\\nMagnets are objects that have the amazing ability to attract certain materials, such as iron, nickel, or cobalt. But how do they do it? Well, it all comes down to something called magnetism.\\n\\nAt the atomic level, all materials are made up of tiny particles called atoms. Inside these atoms, you have even smaller particles called electrons, which have an electric charge. Now, here's where things get interesting.\\n\\nIn most materials, the electrons move around randomly, canceling out each other's magnetic fields. However, in certain materials, like iron, the electrons align themselves in the same direction, creating tiny regions called magnetic domains. These domains act like tiny magnets, with a north and south pole.\\n\\nNow, when you bring two magnets close together, something amazing happens. The magnetic domains in each magnet interact with each other. If you try to push the north poles of two magnets together, or the south poles together, they will repel each other. On the other hand, if you bring the north pole of one magnet close to the south pole of another magnet, they will attract each other.\\n\\nThis attraction and repulsion occur because of the magnetic field surrounding the magnets. Think of the magnetic field as an invisible force field that extends around the magnet. When two magnets are close together, their magnetic fields interact, either pushing each other away or pulling each other closer.\\n\\nBut how does this magnetic field work? Well, it's all thanks to the movement of those electrons we talked about earlier. When the electrons move, they create a magnetic field around them. In magnets, the aligned movement of the electrons creates a stronger magnetic field.\\n\\nSo, to summarize, magnets work because their atoms have aligned electrons, creating tiny magnetic domains. When two magnets are brought close together, their magnetic fields interact, resulting in either attraction or repulsion.\\n\\nI hope this explanation helps you understand how magnets work. Feel free to ask if you have any more questions!\""
      ]
     },
     "execution_count": 173,
     "metadata": {},
     "output_type": "execute_result"
    }
   ],
   "source": [
    "chain.run(\"How do magnets work?\")"
   ]
  },
  {
   "cell_type": "code",
   "execution_count": 174,
   "id": "1c7ed272-808e-4974-ad21-6af0ba31fb98",
   "metadata": {},
   "outputs": [
    {
     "name": "stdout",
     "output_type": "stream",
     "text": [
      "\n",
      "\n",
      "\u001b[1m> Entering new  chain...\u001b[0m\n",
      "advanced physics: {'input': 'How do Feynman Diagrams work?'}\n",
      "\u001b[1m> Finished chain.\u001b[0m\n"
     ]
    },
    {
     "data": {
      "text/plain": [
       "'Feynman diagrams are graphical representations used in particle physics to visualize and calculate the interactions between elementary particles. They were developed by the physicist Richard Feynman as a powerful tool for understanding and calculating the behavior of subatomic particles based on quantum field theory.\\n\\nAt their core, Feynman diagrams depict the possible ways in which particles can interact and exchange energy and momentum. They provide a pictorial representation of the mathematical expressions that describe these interactions.\\n\\nIn a Feynman diagram, particles are represented by lines, with arrows indicating their direction of motion. The lines can be straight or wavy, representing different types of particles. For example, straight lines can represent fermions (such as electrons or quarks), while wavy lines can represent force-carrying bosons (such as photons or gluons).\\n\\nThe vertices where the lines meet in a Feynman diagram represent interactions between particles. Each vertex is associated with a mathematical expression that describes the probability amplitude of that particular interaction occurring. These amplitudes are calculated using Feynman rules, which assign mathematical terms to each component of the diagram.\\n\\nTo calculate the probability of a specific process occurring, one must consider all possible Feynman diagrams that contribute to that process. This involves summing up the probability amplitudes associated with each diagram and taking their square to obtain the probability.\\n\\nFeynman diagrams also account for the conservation laws of energy, momentum, and electric charge. The lines in the diagram represent the flow of these quantities, and their conservation is ensured at each vertex. This allows physicists to analyze and predict the behavior of particles during interactions.\\n\\nFurthermore, Feynman diagrams enable physicists to visualize the exchange of virtual particles between interacting particles. These virtual particles, which are not directly observable, mediate the fundamental forces in nature. For example, in the electromagnetic interaction between two electrons, a Feynman diagram would depict the exchange of virtual photons.\\n\\nOverall, Feynman diagrams provide a powerful and intuitive way to understand and calculate the behavior of particles in quantum field theory. They allow physicists to analyze complex interactions and make predictions about the outcomes of particle interactions, contributing significantly to our understanding of the fundamental laws of nature.'"
      ]
     },
     "execution_count": 174,
     "metadata": {},
     "output_type": "execute_result"
    }
   ],
   "source": [
    "chain.run(\"How do Feynman Diagrams work?\")"
   ]
  },
  {
   "cell_type": "code",
   "execution_count": null,
   "id": "60400b3d-aab3-4dee-8b1e-f7096fa78aa3",
   "metadata": {},
   "outputs": [],
   "source": []
  }
 ],
 "metadata": {
  "kernelspec": {
   "display_name": "Python 3 (ipykernel)",
   "language": "python",
   "name": "python3"
  },
  "language_info": {
   "codemirror_mode": {
    "name": "ipython",
    "version": 3
   },
   "file_extension": ".py",
   "mimetype": "text/x-python",
   "name": "python",
   "nbconvert_exporter": "python",
   "pygments_lexer": "ipython3",
   "version": "3.10.12"
  }
 },
 "nbformat": 4,
 "nbformat_minor": 5
}
