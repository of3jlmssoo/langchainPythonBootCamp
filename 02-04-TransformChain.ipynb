{
 "cells": [
  {
   "cell_type": "markdown",
   "id": "c46300dd",
   "metadata": {},
   "source": [
    "- オリジナルインプット\n",
    "  プレーンテキストで、TITLE: xxx　と REVIEW: yyy　の2つから成る\n",
    "\n",
    "逆順\n",
    "- sequential_chain = SimpleSequentialChain(chains=[transform_chain,summary_chain], verbose=True)でtransforn_chainとsummary_chainが順次で呼ばれる\n",
    "- summary_chain定義\n",
    "  \n",
    "  サマリーを作成してというリクエスト\n",
    "- transform_chain = TransFormChain()\n",
    "  \n",
    "  CBはparam transform_cb: Callable[[Dict[str, str]], Dict[str, str]] [Required] (alias 'transform')なのでキーをinput_variablesで定義('text)\n",
    "\n",
    "- trasformer_fun(inputs:dict) -> dict:定義\n",
    "\n",
    "  プレーンテキストを受け取るのにdictでキー'text'経由で受け取る。\n",
    "\n",
    "inputは'text'で、outputは'output'。\n",
    "\n",
    "  \n",
    "  "
   ]
  },
  {
   "cell_type": "code",
   "execution_count": 1,
   "id": "b1b8247c-65ca-4077-9174-830becea8206",
   "metadata": {},
   "outputs": [],
   "source": [
    "from langchain.chains import TransformChain, LLMChain, SimpleSequentialChain\n",
    "from langchain.chat_models import ChatOpenAI\n",
    "# from langchain.prompts import ChatPromptTemplate\n",
    "from langchain_google_genai import ChatGoogleGenerativeAI"
   ]
  },
  {
   "cell_type": "code",
   "execution_count": 2,
   "id": "a0de4fe3-f137-47da-99c3-ef649d71a2b6",
   "metadata": {},
   "outputs": [],
   "source": [
    "yelp_review = open('../langchain-course-main/June 2024 Update/02-Chains/yelp_review.txt').read()"
   ]
  },
  {
   "cell_type": "code",
   "execution_count": 3,
   "id": "67f1d7c9-a5a7-44d0-b8bf-ef572d5ed070",
   "metadata": {},
   "outputs": [
    {
     "name": "stdout",
     "output_type": "stream",
     "text": [
      "<class 'str'> \n",
      "\n",
      "TITLE: AN ABSOLUTE DELIGHT! A CULINARY HAVEN!\n",
      "\n",
      "REVIEW:\n",
      "OH MY GOODNESS, WHERE DO I BEGIN? THIS RESTAURANT IS ABSOLUTELY PHENOMENAL! I WENT THERE LAST NIGHT WITH MY FRIENDS, AND WE WERE BLOWN AWAY BY THE EXPERIENCE!\n",
      "\n",
      "FIRST OF ALL, THE AMBIANCE IS OUT OF THIS WORLD! THE MOMENT YOU STEP INSIDE, YOU'RE GREETED WITH A WARM AND INVITING ATMOSPHERE. THE DECOR IS STUNNING, AND IT IMMEDIATELY SETS THE TONE FOR AN UNFORGETTABLE DINING EXPERIENCE.\n",
      "\n",
      "NOW, LET'S TALK ABOUT THE FOOD! WOW, JUST WOW! THE MENU IS A PARADISE FOR FOOD LOVERS. EVERY DISH WE ORDERED WAS A MASTERPIECE. THE FLAVORS WERE BOLD, VIBRANT, AND EXPLODED IN OUR MOUTHS. FROM STARTERS TO DESSERTS, EVERY BITE WAS PURE BLISS!\n",
      "\n",
      "THEIR SEAFOOD PLATTER IS A MUST-TRY! THE FRESHNESS OF THE SEAFOOD IS UNMATCHED, AND THE PRESENTATION IS SIMPLY STUNNING. I HAVE NEVER TASTED SUCH DELICIOUS AND PERFECTLY COOKED SEAFOOD IN MY LIFE. IT'S A SEAFOOD LOVER'S DREAM COME TRUE!\n",
      "\n",
      "THE SERVICE WAS EXEMPLARY. THE STAFF WAS ATTENTIVE, FRIENDLY, AND EXTREMELY KNOWLEDGEABLE ABOUT THE MENU. THEY WENT ABOVE AND BEYOND TO ENSURE THAT WE HAD THE BEST DINING EXPERIENCE POSSIBLE.\n",
      "\n",
      "AND LET'S NOT FORGET ABOUT THE DESSERTS! OH MY, OH MY! I HAD THEIR SIGNATURE CHOCOLATE LAVA CAKE, AND IT WAS PURE HEAVEN. THE CAKE WAS MOIST, AND WHEN I CUT INTO IT, THE WARM CHOCOLATE OOOZED OUT, CREATING AN EXPLOSION OF FLAVOR IN MY MOUTH. IT WAS LIKE A SYMPHONY OF CHOCOLATEY GOODNESS!\n",
      "\n",
      "IN CONCLUSION, THIS RESTAURANT IS A HIDDEN GEM! IF YOU WANT TO INDULGE IN A MEMORABLE DINING EXPERIENCE, DO YOURSELF A FAVOR AND VISIT THIS PLACE. YOU WON'T REGRET IT! I CAN'T WAIT TO GO BACK AND TRY MORE OF THEIR DELECTABLE DISHES. KUDOS TO THE ENTIRE TEAM FOR CREATING SUCH A CULINARY HAVEN!\n",
      "\n",
      "ALL I CAN SAY IS... WOOHOO!\n"
     ]
    }
   ],
   "source": [
    "print(type(yelp_review),\"\\n\")\n",
    "print(yelp_review)"
   ]
  },
  {
   "cell_type": "code",
   "execution_count": 4,
   "id": "b0f73659-9dcd-49f9-aa97-40f9caefeb91",
   "metadata": {},
   "outputs": [],
   "source": [
    "def transformer_fun(inputs: dict) -> dict:\n",
    "    '''\n",
    "    Notice how this always takes an inputs dictionary.\n",
    "    Also outputs a dictionary. You can call the output and input keys whatever you want, \n",
    "    just make sure to reference it correct in the chain call.\n",
    "    '''\n",
    "    # GRAB INCOMING CHAIN TEXT\n",
    "    text = inputs['text']\n",
    "    print(\"---------------------------------\")\n",
    "    print(inputs.keys())\n",
    "    print(\"---------------------------------\")\n",
    "    print(type(text))\n",
    "    print(\"---------------------------------\")\n",
    "    print(text)\n",
    "    print(\"---------------------------------\")\n",
    "    only_review_text = text.split('REVIEW:')[-1]\n",
    "    lower_case_text = only_review_text.lower()\n",
    "    return {'output':lower_case_text}"
   ]
  },
  {
   "cell_type": "code",
   "execution_count": 5,
   "id": "56b4729f-2480-47c4-885d-1c457527bcbe",
   "metadata": {},
   "outputs": [],
   "source": [
    "transform_chain = TransformChain(input_variables=['text'],\n",
    "                                 output_variables=['output'],\n",
    "                                 transform=transformer_fun)"
   ]
  },
  {
   "cell_type": "code",
   "execution_count": 6,
   "id": "146be3ea-b733-4243-a6fc-6db8a0488c67",
   "metadata": {},
   "outputs": [],
   "source": [
    "template = \"Create a one sentence summary of this review:\\n{review_text}\""
   ]
  },
  {
   "cell_type": "code",
   "execution_count": 7,
   "id": "09fdcbda-1c3d-4356-a88c-db07813a2563",
   "metadata": {},
   "outputs": [],
   "source": [
    "from langchain.prompts import ChatPromptTemplate"
   ]
  },
  {
   "cell_type": "code",
   "execution_count": null,
   "id": "4ece9ea5-f1cb-48d7-aa63-6daf8c503f56",
   "metadata": {},
   "outputs": [],
   "source": [
    "# llm = ChatOpenAI()\n",
    "llm = ChatGoogleGenerativeAI(model=\"gemini-1.5-flash\") # type: ignore\n",
    "prompt = ChatPromptTemplate.from_template(template)\n",
    "summary_chain = LLMChain(llm=llm,\n",
    "                     prompt=prompt,\n",
    "                     output_key=\"review_summary\")"
   ]
  },
  {
   "cell_type": "code",
   "execution_count": 9,
   "id": "b11e8ac1-7526-47bf-883b-0f1e8ecf1388",
   "metadata": {},
   "outputs": [],
   "source": [
    "sequential_chain = SimpleSequentialChain(chains=[transform_chain,summary_chain],\n",
    "                                        verbose=True)\n",
    "\n",
    "\n"
   ]
  },
  {
   "cell_type": "code",
   "execution_count": null,
   "id": "04dd6ae0-4bc6-41cd-ba23-5a13021e0a58",
   "metadata": {},
   "outputs": [],
   "source": [
    "result = sequential_chain(yelp_review)"
   ]
  },
  {
   "cell_type": "code",
   "execution_count": 36,
   "id": "04919296-ae05-4600-becd-e41724827f32",
   "metadata": {},
   "outputs": [
    {
     "data": {
      "text/plain": [
       "'This restaurant offers an unforgettable dining experience with stunning ambiance, exceptional food, and impeccable service, making it a culinary haven for food lovers. \\n'"
      ]
     },
     "execution_count": 36,
     "metadata": {},
     "output_type": "execute_result"
    }
   ],
   "source": [
    "result['output']"
   ]
  },
  {
   "cell_type": "code",
   "execution_count": 37,
   "id": "52a400a3-0a38-4042-ae8e-3a48d11b2223",
   "metadata": {},
   "outputs": [
    {
     "data": {
      "text/plain": [
       "\"TITLE: AN ABSOLUTE DELIGHT! A CULINARY HAVEN!\\n\\nREVIEW:\\nOH MY GOODNESS, WHERE DO I BEGIN? THIS RESTAURANT IS ABSOLUTELY PHENOMENAL! I WENT THERE LAST NIGHT WITH MY FRIENDS, AND WE WERE BLOWN AWAY BY THE EXPERIENCE!\\n\\nFIRST OF ALL, THE AMBIANCE IS OUT OF THIS WORLD! THE MOMENT YOU STEP INSIDE, YOU'RE GREETED WITH A WARM AND INVITING ATMOSPHERE. THE DECOR IS STUNNING, AND IT IMMEDIATELY SETS THE TONE FOR AN UNFORGETTABLE DINING EXPERIENCE.\\n\\nNOW, LET'S TALK ABOUT THE FOOD! WOW, JUST WOW! THE MENU IS A PARADISE FOR FOOD LOVERS. EVERY DISH WE ORDERED WAS A MASTERPIECE. THE FLAVORS WERE BOLD, VIBRANT, AND EXPLODED IN OUR MOUTHS. FROM STARTERS TO DESSERTS, EVERY BITE WAS PURE BLISS!\\n\\nTHEIR SEAFOOD PLATTER IS A MUST-TRY! THE FRESHNESS OF THE SEAFOOD IS UNMATCHED, AND THE PRESENTATION IS SIMPLY STUNNING. I HAVE NEVER TASTED SUCH DELICIOUS AND PERFECTLY COOKED SEAFOOD IN MY LIFE. IT'S A SEAFOOD LOVER'S DREAM COME TRUE!\\n\\nTHE SERVICE WAS EXEMPLARY. THE STAFF WAS ATTENTIVE, FRIENDLY, AND EXTREMELY KNOWLEDGEABLE ABOUT THE MENU. THEY WENT ABOVE AND BEYOND TO ENSURE THAT WE HAD THE BEST DINING EXPERIENCE POSSIBLE.\\n\\nAND LET'S NOT FORGET ABOUT THE DESSERTS! OH MY, OH MY! I HAD THEIR SIGNATURE CHOCOLATE LAVA CAKE, AND IT WAS PURE HEAVEN. THE CAKE WAS MOIST, AND WHEN I CUT INTO IT, THE WARM CHOCOLATE OOOZED OUT, CREATING AN EXPLOSION OF FLAVOR IN MY MOUTH. IT WAS LIKE A SYMPHONY OF CHOCOLATEY GOODNESS!\\n\\nIN CONCLUSION, THIS RESTAURANT IS A HIDDEN GEM! IF YOU WANT TO INDULGE IN A MEMORABLE DINING EXPERIENCE, DO YOURSELF A FAVOR AND VISIT THIS PLACE. YOU WON'T REGRET IT! I CAN'T WAIT TO GO BACK AND TRY MORE OF THEIR DELECTABLE DISHES. KUDOS TO THE ENTIRE TEAM FOR CREATING SUCH A CULINARY HAVEN!\\n\\nALL I CAN SAY IS... WOOHOO!\""
      ]
     },
     "execution_count": 37,
     "metadata": {},
     "output_type": "execute_result"
    }
   ],
   "source": [
    "result['input']"
   ]
  },
  {
   "cell_type": "code",
   "execution_count": 38,
   "id": "c25cb99b-2e7a-4764-a767-f84e38e4ec39",
   "metadata": {},
   "outputs": [
    {
     "name": "stdout",
     "output_type": "stream",
     "text": [
      "<class 'dict'>\n",
      "dict_keys(['input', 'output'])\n"
     ]
    }
   ],
   "source": [
    "print(type(result))\n",
    "print(result.keys())"
   ]
  },
  {
   "cell_type": "code",
   "execution_count": null,
   "id": "1203d9c3",
   "metadata": {},
   "outputs": [],
   "source": []
  },
  {
   "cell_type": "code",
   "execution_count": null,
   "id": "28085217",
   "metadata": {},
   "outputs": [],
   "source": []
  }
 ],
 "metadata": {
  "kernelspec": {
   "display_name": "Python 3 (ipykernel)",
   "language": "python",
   "name": "python3"
  },
  "language_info": {
   "codemirror_mode": {
    "name": "ipython",
    "version": 3
   },
   "file_extension": ".py",
   "mimetype": "text/x-python",
   "name": "python",
   "nbconvert_exporter": "python",
   "pygments_lexer": "ipython3",
   "version": "3.10.12"
  }
 },
 "nbformat": 4,
 "nbformat_minor": 5
}
