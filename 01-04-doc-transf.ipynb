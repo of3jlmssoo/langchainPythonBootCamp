{
 "cells": [
  {
   "cell_type": "markdown",
   "metadata": {},
   "source": [
    "ドキュメントが大きすぎるとモデルにfeedしきれないことある。\n",
    "そのためsplit the doc into chunks\n",
    "- 特定のキャラクターでsplit\n",
    "- トークン数でsplit\n",
    "\n",
    "CharacterTextSplitter()のchunk_sizeはlangchainのマニュアルでの説明を見つけることができなかった。以下の見ると、\n",
    "まず、文字をchunk_sizeまで取り出して、そこから一番近いセパレータを探して、そこまでを1つのchunkにするようである。\n",
    "\n",
    "https://stackoverflow.com/questions/76633836/what-does-langchain-charactertextsplitters-chunk-size-param-even-do\n",
    "\n",
    "Split by Character\n",
    "- CharacterTextSplitter(separator=\"\\n\\n\",chunk_size=1000)でスプリッター作成\n",
    "- スプリッター.create_documentでスプリット。一つ一つは<class 'langchain_core.documents.base.Document'>\n",
    "\n",
    "Split by Token\n",
    "- CharacterTextSplitter.from_tiktoken_encoder(chunk_size = 500)でスプリッター作成\n",
    "- スプリッター.split_text()でスプリット。一つ一つはstr\n",
    "\n",
    "1つ目の方法だと、少なくとも3つ目までのchunkは同じ行が含まれていない。2つ目の方法だと、1つ目のchunkの後半の部分が2つ目のchunkに含まれている。"
   ]
  },
  {
   "cell_type": "markdown",
   "metadata": {},
   "source": []
  },
  {
   "cell_type": "code",
   "execution_count": 2,
   "metadata": {},
   "outputs": [],
   "source": [
    "path = '..//langchain-course-main/June 2024 Update/01-Data-Connections/'\n",
    "\n",
    "with open(path+'some_data/FDR_State_of_Union_1944.txt') as file:\n",
    "    speech_text = file.read()"
   ]
  },
  {
   "cell_type": "markdown",
   "metadata": {},
   "source": [
    "#  Document Transformers"
   ]
  },
  {
   "cell_type": "code",
   "execution_count": 3,
   "metadata": {},
   "outputs": [
    {
     "data": {
      "text/plain": [
       "21927"
      ]
     },
     "execution_count": 3,
     "metadata": {},
     "output_type": "execute_result"
    }
   ],
   "source": [
    "# Characters\n",
    "len(speech_text)"
   ]
  },
  {
   "cell_type": "code",
   "execution_count": 4,
   "metadata": {},
   "outputs": [
    {
     "data": {
      "text/plain": [
       "3750"
      ]
     },
     "execution_count": 4,
     "metadata": {},
     "output_type": "execute_result"
    }
   ],
   "source": [
    "# Words\n",
    "len(speech_text.split())"
   ]
  },
  {
   "cell_type": "markdown",
   "metadata": {},
   "source": [
    "## Split by Character"
   ]
  },
  {
   "cell_type": "code",
   "execution_count": 5,
   "metadata": {},
   "outputs": [],
   "source": [
    "from langchain.text_splitter import CharacterTextSplitter"
   ]
  },
  {
   "cell_type": "code",
   "execution_count": 36,
   "metadata": {},
   "outputs": [],
   "source": [
    "text_splitter = CharacterTextSplitter(separator=\"\\n\\n\",chunk_size=1000) #1000 is default value"
   ]
  },
  {
   "cell_type": "code",
   "execution_count": 37,
   "metadata": {},
   "outputs": [
    {
     "name": "stdout",
     "output_type": "stream",
     "text": [
      "<class 'list'>\n",
      "\n",
      "\n",
      "<class 'langchain_core.documents.base.Document'>\n",
      "\n",
      "\n",
      "page_content='This Nation in the past two years has become an active partner in the world's greatest war against human slavery.\n",
      "\n",
      "We have joined with like-minded people in order to defend ourselves in a world that has been gravely threatened with gangster rule.\n",
      "\n",
      "But I do not think that any of us Americans can be content with mere survival. Sacrifices that we and our allies are making impose upon us all a sacred obligation to see to it that out of this war we and our children will gain something better than mere survival.\n",
      "\n",
      "We are united in determination that this war shall not be followed by another interim which leads to new disaster- that we shall not repeat the tragic errors of ostrich isolationism—that we shall not repeat the excesses of the wild twenties when this Nation went for a joy ride on a roller coaster which ended in a tragic crash.'\n"
     ]
    }
   ],
   "source": [
    "texts = text_splitter.create_documents([speech_text])\n",
    "print(type(texts))\n",
    "print('\\n')\n",
    "print(type(texts[0]))\n",
    "print('\\n')\n",
    "print(texts[0])"
   ]
  },
  {
   "cell_type": "code",
   "execution_count": 8,
   "metadata": {},
   "outputs": [
    {
     "data": {
      "text/plain": [
       "841"
      ]
     },
     "execution_count": 8,
     "metadata": {},
     "output_type": "execute_result"
    }
   ],
   "source": [
    "len(texts[0].page_content)"
   ]
  },
  {
   "cell_type": "code",
   "execution_count": 9,
   "metadata": {},
   "outputs": [
    {
     "data": {
      "text/plain": [
       "Document(page_content='When Mr. Hull went to Moscow in October, and when I went to Cairo and Teheran in November, we knew that we were in agreement with our allies in our common determination to fight and win this war. But there were many vital questions concerning the future peace, and they were discussed in an atmosphere of complete candor and harmony.\\n\\nIn the last war such discussions, such meetings, did not even begin until the shooting had stopped and the delegates began to assemble at the peace table. There had been no previous opportunities for man-to-man discussions which lead to meetings of minds. The result was a peace which was not a peace. That was a mistake which we are not repeating in this war.\\n\\nAnd right here I want to address a word or two to some suspicious souls who are fearful that Mr. Hull or I have made \"commitments\" for the future which might pledge this Nation to secret treaties, or to enacting the role of Santa Claus.')"
      ]
     },
     "execution_count": 9,
     "metadata": {},
     "output_type": "execute_result"
    }
   ],
   "source": [
    "texts[1]"
   ]
  },
  {
   "cell_type": "code",
   "execution_count": 10,
   "metadata": {},
   "outputs": [
    {
     "data": {
      "text/plain": [
       "933"
      ]
     },
     "execution_count": 10,
     "metadata": {},
     "output_type": "execute_result"
    }
   ],
   "source": [
    "len(texts[1].page_content)"
   ]
  },
  {
   "cell_type": "code",
   "execution_count": 11,
   "metadata": {},
   "outputs": [
    {
     "data": {
      "text/plain": [
       "langchain_core.documents.base.Document"
      ]
     },
     "execution_count": 11,
     "metadata": {},
     "output_type": "execute_result"
    }
   ],
   "source": [
    "type(texts[0])"
   ]
  },
  {
   "cell_type": "code",
   "execution_count": 30,
   "metadata": {},
   "outputs": [
    {
     "name": "stdout",
     "output_type": "stream",
     "text": [
      "28 \n",
      "\n",
      "841   152\n",
      "933   169\n",
      "900   145\n",
      "904   144\n",
      "905   150\n",
      "672   112\n",
      "950   159\n",
      "977   172\n",
      "497   84\n",
      "944   156\n",
      "969   167\n",
      "877   150\n",
      "660   113\n",
      "855   149\n",
      "829   144\n",
      "866   147\n",
      "878   149\n",
      "727   139\n",
      "874   154\n",
      "588   93\n",
      "504   80\n",
      "609   104\n",
      "886   144\n",
      "882   149\n",
      "943   165\n",
      "972   163\n",
      "782   137\n",
      "892   166\n"
     ]
    }
   ],
   "source": [
    "print(len(texts),'\\n')\n",
    "for i in texts:\n",
    "  print(len(i.page_content), \" \", len(i.page_content.split()))"
   ]
  },
  {
   "cell_type": "code",
   "execution_count": 45,
   "metadata": {},
   "outputs": [
    {
     "name": "stdout",
     "output_type": "stream",
     "text": [
      "This Nation in the past two years has become an active partner in the world's greatest war against human slavery.\n",
      "\n",
      "We have joined with like-minded people in order to defend ourselves in a world that has been gravely threatened with gangster rule.\n",
      "\n",
      "But I do not think that any of us Americans can be content with mere survival. Sacrifices that we and our allies are making impose upon us all a sacred obligation to see to it that out of this war we and our children will gain something better than mere survival.\n",
      "\n",
      "We are united in determination that this war shall not be followed by another interim which leads to new disaster- that we shall not repeat the tragic errors of ostrich isolationism—that we shall not repeat the excesses of the wild twenties when this Nation went for a joy ride on a roller coaster which ended in a tragic crash.\n"
     ]
    }
   ],
   "source": [
    "print(texts[0].page_content)"
   ]
  },
  {
   "cell_type": "code",
   "execution_count": 46,
   "metadata": {},
   "outputs": [
    {
     "name": "stdout",
     "output_type": "stream",
     "text": [
      "When Mr. Hull went to Moscow in October, and when I went to Cairo and Teheran in November, we knew that we were in agreement with our allies in our common determination to fight and win this war. But there were many vital questions concerning the future peace, and they were discussed in an atmosphere of complete candor and harmony.\n",
      "\n",
      "In the last war such discussions, such meetings, did not even begin until the shooting had stopped and the delegates began to assemble at the peace table. There had been no previous opportunities for man-to-man discussions which lead to meetings of minds. The result was a peace which was not a peace. That was a mistake which we are not repeating in this war.\n",
      "\n",
      "And right here I want to address a word or two to some suspicious souls who are fearful that Mr. Hull or I have made \"commitments\" for the future which might pledge this Nation to secret treaties, or to enacting the role of Santa Claus.\n"
     ]
    }
   ],
   "source": [
    "print(texts[1].page_content)"
   ]
  },
  {
   "cell_type": "code",
   "execution_count": 12,
   "metadata": {},
   "outputs": [],
   "source": [
    "# text_splitter = CharacterTextSplitter(separator=\"\\n\\n\") #chunk_size is minimum length, notice at 2000 still contains a \\n\\n"
   ]
  },
  {
   "cell_type": "code",
   "execution_count": 47,
   "metadata": {},
   "outputs": [
    {
     "name": "stdout",
     "output_type": "stream",
     "text": [
      "To such suspicious souls—using a polite terminology—I wish to say that Mr. Churchill, and Marshal Stalin, and Generalissimo Chiang Kai-shek are all thoroughly conversant with the provisions of our Constitution. And so is Mr. Hull. And so am I.\n",
      "\n",
      "Of course we made some commitments. We most certainly committed ourselves to very large and very specific military plans which require the use of all Allied forces to bring about the defeat of our enemies at the earliest possible time.\n",
      "\n",
      "But there were no secret treaties or political or financial commitments.\n",
      "\n",
      "The one supreme objective for the future, which we discussed for each Nation individually, and for all the United Nations, can be summed up in one word: Security.\n",
      "\n",
      "And that means not only physical security which provides safety from attacks by aggressors. It means also economic security, social security, moral security—in a family of Nations.\n"
     ]
    }
   ],
   "source": [
    "print(texts[2].page_content)"
   ]
  },
  {
   "cell_type": "markdown",
   "metadata": {},
   "source": [
    "# Split by Token\n",
    "\n",
    "Most LLMs operate on a token limit (although some price based on characters!). Let's explore how to split based on tokens."
   ]
  },
  {
   "cell_type": "code",
   "execution_count": null,
   "metadata": {},
   "outputs": [],
   "source": [
    "# !pip install tiktoken"
   ]
  },
  {
   "cell_type": "code",
   "execution_count": 38,
   "metadata": {},
   "outputs": [],
   "source": [
    "text_splitter2 = CharacterTextSplitter.from_tiktoken_encoder(chunk_size = 500) #now chunk size is a hard length based on tokens"
   ]
  },
  {
   "cell_type": "code",
   "execution_count": 39,
   "metadata": {},
   "outputs": [],
   "source": [
    "texts2 = text_splitter2.split_text(speech_text)"
   ]
  },
  {
   "cell_type": "code",
   "execution_count": 41,
   "metadata": {},
   "outputs": [
    {
     "name": "stdout",
     "output_type": "stream",
     "text": [
      "<class 'list'>\n",
      "<class 'str'>\n"
     ]
    }
   ],
   "source": [
    "print(type(texts2))\n",
    "print(type(texts2[0]))"
   ]
  },
  {
   "cell_type": "code",
   "execution_count": 34,
   "metadata": {},
   "outputs": [
    {
     "data": {
      "text/plain": [
       "'This Nation in the past two years has become an active partner in the world\\'s greatest war against human slavery.\\n\\nWe have joined with like-minded people in order to defend ourselves in a world that has been gravely threatened with gangster rule.\\n\\nBut I do not think that any of us Americans can be content with mere survival. Sacrifices that we and our allies are making impose upon us all a sacred obligation to see to it that out of this war we and our children will gain something better than mere survival.\\n\\nWe are united in determination that this war shall not be followed by another interim which leads to new disaster- that we shall not repeat the tragic errors of ostrich isolationism—that we shall not repeat the excesses of the wild twenties when this Nation went for a joy ride on a roller coaster which ended in a tragic crash.\\n\\nWhen Mr. Hull went to Moscow in October, and when I went to Cairo and Teheran in November, we knew that we were in agreement with our allies in our common determination to fight and win this war. But there were many vital questions concerning the future peace, and they were discussed in an atmosphere of complete candor and harmony.\\n\\nIn the last war such discussions, such meetings, did not even begin until the shooting had stopped and the delegates began to assemble at the peace table. There had been no previous opportunities for man-to-man discussions which lead to meetings of minds. The result was a peace which was not a peace. That was a mistake which we are not repeating in this war.\\n\\nAnd right here I want to address a word or two to some suspicious souls who are fearful that Mr. Hull or I have made \"commitments\" for the future which might pledge this Nation to secret treaties, or to enacting the role of Santa Claus.\\n\\nTo such suspicious souls—using a polite terminology—I wish to say that Mr. Churchill, and Marshal Stalin, and Generalissimo Chiang Kai-shek are all thoroughly conversant with the provisions of our Constitution. And so is Mr. Hull. And so am I.\\n\\nOf course we made some commitments. We most certainly committed ourselves to very large and very specific military plans which require the use of all Allied forces to bring about the defeat of our enemies at the earliest possible time.\\n\\nBut there were no secret treaties or political or financial commitments.'"
      ]
     },
     "execution_count": 34,
     "metadata": {},
     "output_type": "execute_result"
    }
   ],
   "source": [
    "texts2[0]"
   ]
  },
  {
   "cell_type": "code",
   "execution_count": 35,
   "metadata": {},
   "outputs": [
    {
     "name": "stdout",
     "output_type": "stream",
     "text": [
      "15 \n",
      "\n",
      "2332   411\n",
      "2424   401\n",
      "2166   359\n",
      "2199   370\n",
      "2096   359\n",
      "2036   342\n",
      "1850   313\n",
      "2131   366\n",
      "2354   402\n",
      "2087   370\n",
      "2193   386\n",
      "2381   392\n",
      "2332   395\n",
      "2213   379\n",
      "1676   303\n"
     ]
    }
   ],
   "source": [
    "print(len(texts2),'\\n')\n",
    "for i in texts2:\n",
    "  print(len(i), \" \", len(i.split()))"
   ]
  },
  {
   "cell_type": "code",
   "execution_count": 42,
   "metadata": {},
   "outputs": [
    {
     "name": "stdout",
     "output_type": "stream",
     "text": [
      "This Nation in the past two years has become an active partner in the world's greatest war against human slavery.\n",
      "\n",
      "We have joined with like-minded people in order to defend ourselves in a world that has been gravely threatened with gangster rule.\n",
      "\n",
      "But I do not think that any of us Americans can be content with mere survival. Sacrifices that we and our allies are making impose upon us all a sacred obligation to see to it that out of this war we and our children will gain something better than mere survival.\n",
      "\n",
      "We are united in determination that this war shall not be followed by another interim which leads to new disaster- that we shall not repeat the tragic errors of ostrich isolationism—that we shall not repeat the excesses of the wild twenties when this Nation went for a joy ride on a roller coaster which ended in a tragic crash.\n",
      "\n",
      "When Mr. Hull went to Moscow in October, and when I went to Cairo and Teheran in November, we knew that we were in agreement with our allies in our common determination to fight and win this war. But there were many vital questions concerning the future peace, and they were discussed in an atmosphere of complete candor and harmony.\n",
      "\n",
      "In the last war such discussions, such meetings, did not even begin until the shooting had stopped and the delegates began to assemble at the peace table. There had been no previous opportunities for man-to-man discussions which lead to meetings of minds. The result was a peace which was not a peace. That was a mistake which we are not repeating in this war.\n",
      "\n",
      "And right here I want to address a word or two to some suspicious souls who are fearful that Mr. Hull or I have made \"commitments\" for the future which might pledge this Nation to secret treaties, or to enacting the role of Santa Claus.\n",
      "\n",
      "To such suspicious souls—using a polite terminology—I wish to say that Mr. Churchill, and Marshal Stalin, and Generalissimo Chiang Kai-shek are all thoroughly conversant with the provisions of our Constitution. And so is Mr. Hull. And so am I.\n",
      "\n",
      "Of course we made some commitments. We most certainly committed ourselves to very large and very specific military plans which require the use of all Allied forces to bring about the defeat of our enemies at the earliest possible time.\n",
      "\n",
      "But there were no secret treaties or political or financial commitments. \n",
      "\n"
     ]
    }
   ],
   "source": [
    "print(texts2[0],'\\n')"
   ]
  },
  {
   "cell_type": "code",
   "execution_count": 43,
   "metadata": {},
   "outputs": [
    {
     "name": "stdout",
     "output_type": "stream",
     "text": [
      "And right here I want to address a word or two to some suspicious souls who are fearful that Mr. Hull or I have made \"commitments\" for the future which might pledge this Nation to secret treaties, or to enacting the role of Santa Claus.\n",
      "\n",
      "To such suspicious souls—using a polite terminology—I wish to say that Mr. Churchill, and Marshal Stalin, and Generalissimo Chiang Kai-shek are all thoroughly conversant with the provisions of our Constitution. And so is Mr. Hull. And so am I.\n",
      "\n",
      "Of course we made some commitments. We most certainly committed ourselves to very large and very specific military plans which require the use of all Allied forces to bring about the defeat of our enemies at the earliest possible time.\n",
      "\n",
      "But there were no secret treaties or political or financial commitments.\n",
      "\n",
      "The one supreme objective for the future, which we discussed for each Nation individually, and for all the United Nations, can be summed up in one word: Security.\n",
      "\n",
      "And that means not only physical security which provides safety from attacks by aggressors. It means also economic security, social security, moral security—in a family of Nations.\n",
      "\n",
      "In the plain down-to-earth talks that I had with the Generalissimo and Marshal Stalin and Prime Minister Churchill, it was abundantly clear that they are all most deeply interested in the resumption of peaceful progress by their own peoples—progress toward a better life. All our allies want freedom to develop their lands and resources, to build up industry, to increase education and individual opportunity, and to raise standards of living.\n",
      "\n",
      "All our allies have learned by bitter experience that real development will not be possible if they are to be diverted from their purpose by repeated wars—or even threats of war.\n",
      "\n",
      "China and Russia are truly united with Britain and America in recognition of this essential fact:\n",
      "\n",
      "The best interests of each Nation, large and small, demand that all freedom-loving Nations shall join together in a just and durable system of peace. In the present world situation, evidenced by the actions of Germany, Italy, and Japan, unquestioned military control over disturbers of the peace is as necessary among Nations as it is among citizens in a community. And an equally basic essential to peace is a decent standard of living for all individual men and women and children in all Nations. Freedom from fear is eternally linked with freedom from want. \n",
      "\n"
     ]
    }
   ],
   "source": [
    "print(texts2[1],'\\n')"
   ]
  },
  {
   "cell_type": "code",
   "execution_count": 48,
   "metadata": {},
   "outputs": [
    {
     "name": "stdout",
     "output_type": "stream",
     "text": [
      "All our allies have learned by bitter experience that real development will not be possible if they are to be diverted from their purpose by repeated wars—or even threats of war.\n",
      "\n",
      "China and Russia are truly united with Britain and America in recognition of this essential fact:\n",
      "\n",
      "The best interests of each Nation, large and small, demand that all freedom-loving Nations shall join together in a just and durable system of peace. In the present world situation, evidenced by the actions of Germany, Italy, and Japan, unquestioned military control over disturbers of the peace is as necessary among Nations as it is among citizens in a community. And an equally basic essential to peace is a decent standard of living for all individual men and women and children in all Nations. Freedom from fear is eternally linked with freedom from want.\n",
      "\n",
      "There are people who burrow through our Nation like unseeing moles, and attempt to spread the suspicion that if other Nations are encouraged to raise their standards of living, our own American standard of living must of necessity be depressed.\n",
      "\n",
      "The fact is the very contrary. It has been shown time and again that if the standard of living of any country goes up, so does its purchasing power- and that such a rise encourages a better standard of living in neighboring countries with whom it trades. That is just plain common sense—and it is the kind of plain common sense that provided the basis for our discussions at Moscow, Cairo, and Teheran.\n",
      "\n",
      "Returning from my journeyings, I must confess to a sense of \"let-down\" when I found many evidences of faulty perspective here in Washington. The faulty perspective consists in overemphasizing lesser problems and thereby underemphasizing the first and greatest problem.\n",
      "\n",
      "The overwhelming majority of our people have met the demands of this war with magnificent courage and understanding. They have accepted inconveniences; they have accepted hardships; they have accepted tragic sacrifices. And they are ready and eager to make whatever further contributions are needed to win the war as quickly as possible- if only they are given the chance to know what is required of them. \n",
      "\n"
     ]
    }
   ],
   "source": [
    "print(texts2[2],'\\n')"
   ]
  },
  {
   "cell_type": "code",
   "execution_count": null,
   "metadata": {},
   "outputs": [],
   "source": []
  }
 ],
 "metadata": {
  "kernelspec": {
   "display_name": ".py310env",
   "language": "python",
   "name": "python3"
  },
  "language_info": {
   "codemirror_mode": {
    "name": "ipython",
    "version": 3
   },
   "file_extension": ".py",
   "mimetype": "text/x-python",
   "name": "python",
   "nbconvert_exporter": "python",
   "pygments_lexer": "ipython3",
   "version": "3.10.12"
  }
 },
 "nbformat": 4,
 "nbformat_minor": 2
}
