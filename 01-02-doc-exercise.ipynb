{
 "cells": [
  {
   "cell_type": "code",
   "execution_count": 2,
   "metadata": {},
   "outputs": [],
   "source": [
    "from langchain.prompts import (\n",
    "    ChatPromptTemplate,\n",
    "    SystemMessagePromptTemplate,\n",
    "    HumanMessagePromptTemplate,\n",
    ")\n",
    "# from langchain_openai.chat_models import ChatOpenAI\n",
    "from langchain.document_loaders import WikipediaLoader\n",
    "\n"
   ]
  },
  {
   "cell_type": "code",
   "execution_count": 7,
   "metadata": {},
   "outputs": [],
   "source": [
    "# docs = WikipediaLoader(query=\"HUNTER X HUNTER\", load_max_docs=2).load()\n",
    "# len(docs)\n",
    "docs = WikipediaLoader(query=\"Claude Shannon\", load_max_docs=1).load()\n"
   ]
  },
  {
   "cell_type": "code",
   "execution_count": 8,
   "metadata": {},
   "outputs": [
    {
     "data": {
      "text/plain": [
       "{'title': 'Claude Shannon',\n",
       " 'summary': 'Claude Elwood Shannon (April 30, 1916 – February 24, 2001) was an American mathematician, electrical engineer, computer scientist and cryptographer known as the \"father of information theory\" and as the \"father of the Information Age\". Shannon was the first to describe the Boolean gates (electronic circuits) that are essential to all digital electronic circuits, and was one of the founding fathers of artificial intelligence. He is credited alongside George Boole for laying the foundations of the Information Age. \\nAt the University of Michigan, Shannon dual degreed, graduating with a Bachelor of Science in both electrical engineering and mathematics in 1936. A 21-year-old master\\'s degree student at the Massachusetts Institute of Technology (MIT) in electrical engineering, his thesis concerned switching circuit theory, demonstrating that electrical applications of Boolean algebra could construct any logical numerical relationship, thereby establishing the theory behind digital computing and digital circuits. The thesis has been claimed to be the most important master\\'s thesis of all time, as in 1985, Howard Gardner described it as \"possibly the most important, and also the most famous, master\\'s thesis of the century\", while Herman Goldstine described it as \"surely ... one of the most important master\\'s theses ever written ... It helped to change digital circuit design from an art to a science.\" He then graduated with a PhD in mathematics from MIT in 1940. \\nShannon contributed to the field of cryptanalysis for national defense of the United States during World War II, including his fundamental work on codebreaking and secure telecommunications, writing a paper which is considered one of the foundational pieces of modern cryptography, with his work described as \"a turning point, and marked the closure of classical cryptography and the beginning of modern cryptography.\" The work of Shannon is the foundation of secret-key cryptography, including the work of Horst Feistel, the Data Encryption Standard (DES), and much more. As a result, Shannon has been called the \"founding father of modern cryptography\". \\nHis mathematical theory of communication laid the foundations for the field of information theory, with his famous paper being called the \"Magna Carta of the Information Age\" by Scientific American, along with his work being described as being at \"the heart of today\\'s digital information technology\". Robert G. Gallager referred to the paper as a \"blueprint for the digital era\". Regarding the influence that Shannon had on the digital age, Solomon W. Golomb remarked \"It\\'s like saying how much influence the inventor of the alphabet has had on literature.\" Shannon\\'s theory is widely used and has been fundamental to the success of many scientific endeavors, such as the invention of the compact disc, the development of the Internet, the understanding of black holes and more, and is at the intersection of numerous important fields. \\nShannon made numerous contributions to the field of artificial intelligence, writing papers on programming a computer for chess, which have been immensely influential, and also his Theseus machine was the first electrical device to learn by trial and error, being one of the first examples of artificial intelligence. He also co-organized and participated in the Dartmouth workshop of 1956, considered the founding event of the field of artificial intelligence. \\nRodney Brooks declared that Shannon was the 20th century engineer who contributed the most to 21st century technologies. Shannon\\'s achievements are considered to be on par, in his field, with those of Albert Einstein and Sir Isaac Newton in theirs.',\n",
       " 'source': 'https://en.wikipedia.org/wiki/Claude_Shannon'}"
      ]
     },
     "execution_count": 8,
     "metadata": {},
     "output_type": "execute_result"
    }
   ],
   "source": [
    "\n",
    "docs[0].metadata  # meta-information of the Document\n"
   ]
  },
  {
   "cell_type": "code",
   "execution_count": 10,
   "metadata": {},
   "outputs": [
    {
     "data": {
      "text/plain": [
       "'Claude Elwood Shannon (April 30, 1916 – February 24, 2001) was an American mathematician, electrical engineer, computer scientist and cryptographer known as the \"father of information theory\" and as the \"father of the Information Age\". Shannon was the first to describe the Boolean gates (electronic circuits) that are essential to all digital electronic circuits, and was one of the founding fathers'"
      ]
     },
     "execution_count": 10,
     "metadata": {},
     "output_type": "execute_result"
    }
   ],
   "source": [
    "\n",
    "docs[0].page_content[:400]  # a content of the Document"
   ]
  },
  {
   "cell_type": "code",
   "execution_count": 11,
   "metadata": {},
   "outputs": [],
   "source": [
    "from langchain_google_genai import ChatGoogleGenerativeAI\n",
    "chat = ChatGoogleGenerativeAI(model=\"gemini-1.5-flash\",convert_system_message_to_human=True) #,temperature=0)"
   ]
  },
  {
   "cell_type": "code",
   "execution_count": 12,
   "metadata": {},
   "outputs": [],
   "source": [
    "human_prompt = HumanMessagePromptTemplate.from_template('Please tell me when he was born:\\n{document}')"
   ]
  },
  {
   "cell_type": "code",
   "execution_count": 13,
   "metadata": {},
   "outputs": [],
   "source": [
    "chat_prompt = ChatPromptTemplate.from_messages([human_prompt])"
   ]
  },
  {
   "cell_type": "code",
   "execution_count": 15,
   "metadata": {},
   "outputs": [
    {
     "name": "stderr",
     "output_type": "stream",
     "text": [
      "/home/hiroshisakuma/projects/.py310env/lib/python3.10/site-packages/langchain_google_genai/chat_models.py:352: UserWarning: Convert_system_message_to_human will be deprecated!\n",
      "  warnings.warn(\"Convert_system_message_to_human will be deprecated!\")\n"
     ]
    }
   ],
   "source": [
    "result = chat.invoke(chat_prompt.format_prompt(document=docs[0].page_content).to_messages())"
   ]
  },
  {
   "cell_type": "code",
   "execution_count": 17,
   "metadata": {},
   "outputs": [
    {
     "name": "stdout",
     "output_type": "stream",
     "text": [
      "The provided text states that Claude Elwood Shannon was born on **April 30, 1916**. \n",
      "\n"
     ]
    }
   ],
   "source": [
    "print(result.content)"
   ]
  },
  {
   "cell_type": "code",
   "execution_count": 21,
   "metadata": {},
   "outputs": [],
   "source": [
    "\n",
    "def answer_question_about(person_name,question):\n",
    "    \n",
    "    '''\n",
    "    Use the Wikipedia Document Loader to help answer questions about someone, insert it as additional helpful context.\n",
    "    '''\n",
    "    from langchain.prompts import ChatPromptTemplate\n",
    "    # from langchain.prompts import SystemMessagePromptTemplate\n",
    "    from langchain.prompts import HumanMessagePromptTemplate\n",
    "    from langchain.document_loaders import WikipediaLoader\n",
    "    \n",
    "    docs = WikipediaLoader(query=person_name, load_max_docs=1).load()\n",
    "    # docs[0].page_content[:400]\n",
    "    # docs[0].page_content\n",
    "    \n",
    "    from langchain_google_genai import ChatGoogleGenerativeAI\n",
    "    chat = ChatGoogleGenerativeAI(model=\"gemini-1.5-flash\") #,convert_system_message_to_human=True) #,temperature=0)\n",
    "    \n",
    "    # human_prompt = HumanMessagePromptTemplate.from_template('Please tell me when he was born:\\n{document}')\n",
    "    human_prompt = HumanMessagePromptTemplate.from_template('Please answer my question, {question}, with the following information:\\n{document}')\n",
    "    chat_prompt = ChatPromptTemplate.from_messages([human_prompt])\n",
    "    \n",
    "    result = chat.invoke(chat_prompt.format_prompt(question=question,document=docs[0].page_content).to_messages())\n",
    "    answer = result.content\n",
    "    \n",
    "    \n",
    "    return answer"
   ]
  },
  {
   "cell_type": "code",
   "execution_count": 22,
   "metadata": {},
   "outputs": [
    {
     "name": "stdout",
     "output_type": "stream",
     "text": [
      "The provided text states that Claude Elwood Shannon was born in a hospital in **Petoskey, Michigan**. \n",
      "\n"
     ]
    }
   ],
   "source": [
    "# print( answer_question_about(\"Claude Shannon\",\"When was he born?\") )\n",
    "print( answer_question_about(\"Claude Shannon\",\"Where was he born?\") )\n",
    "# Claude Elwood Shannon was born on April 30, 1916."
   ]
  }
 ],
 "metadata": {
  "kernelspec": {
   "display_name": ".py310env",
   "language": "python",
   "name": "python3"
  },
  "language_info": {
   "codemirror_mode": {
    "name": "ipython",
    "version": 3
   },
   "file_extension": ".py",
   "mimetype": "text/x-python",
   "name": "python",
   "nbconvert_exporter": "python",
   "pygments_lexer": "ipython3",
   "version": "3.10.12"
  }
 },
 "nbformat": 4,
 "nbformat_minor": 2
}
