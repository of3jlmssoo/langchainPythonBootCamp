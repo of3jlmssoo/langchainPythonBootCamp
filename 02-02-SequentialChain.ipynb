{
 "cells": [
  {
   "cell_type": "markdown",
   "id": "b95bacb6",
   "metadata": {},
   "source": [
    "1. 長文のemployee_reviewをサマリー\n",
    "2. 弱みを識別\n",
    "3. 弱みを克服するパーソナライズされたプランを作成\n",
    "の3つをSequentialChainで連続実行する"
   ]
  },
  {
   "cell_type": "code",
   "execution_count": 1,
   "id": "8a482e73-7d0c-407f-bd88-9f3c1c7eb559",
   "metadata": {},
   "outputs": [],
   "source": [
    "from langchain_google_genai import ChatGoogleGenerativeAI\n",
    "from langchain.prompts import ChatPromptTemplate\n",
    "from langchain.chains import SequentialChain, LLMChain"
   ]
  },
  {
   "cell_type": "code",
   "execution_count": 2,
   "id": "dda2db90-b54b-422e-baff-2bd96faeaaeb",
   "metadata": {},
   "outputs": [],
   "source": [
    "llm = ChatGoogleGenerativeAI(model=\"gemini-1.5-flash\") # type: ignore"
   ]
  },
  {
   "cell_type": "code",
   "execution_count": 6,
   "id": "c2db5816-b29d-4567-b6aa-12e0c74e9331",
   "metadata": {},
   "outputs": [],
   "source": [
    "template1 = \"Give a summary of this employee's performance review:\\n{review}\"\n",
    "prompt1 = ChatPromptTemplate.from_template(template1)\n",
    "chain_1 = LLMChain(llm=llm,\n",
    "                     prompt=prompt1,\n",
    "                     output_key=\"review_summary\")"
   ]
  },
  {
   "cell_type": "code",
   "execution_count": 4,
   "id": "2a6c1d04-1fe0-4386-8b3a-4535cbfaff43",
   "metadata": {},
   "outputs": [],
   "source": [
    "template2 = \"Identify key employee weaknesses in this review summary:\\n{review_summary}\"\n",
    "prompt2 = ChatPromptTemplate.from_template(template2)\n",
    "chain_2 = LLMChain(llm=llm,\n",
    "                     prompt=prompt2,\n",
    "                     output_key=\"weaknesses\")"
   ]
  },
  {
   "cell_type": "code",
   "execution_count": 5,
   "id": "8031844b-586e-44b5-ac74-23b3767a9413",
   "metadata": {},
   "outputs": [],
   "source": [
    "template3 = \"Create a personalized plan to help address and fix these weaknesses:\\n{weaknesses}\"\n",
    "prompt3 = ChatPromptTemplate.from_template(template3)\n",
    "chain_3 = LLMChain(llm=llm,\n",
    "                     prompt=prompt3,\n",
    "                     output_key=\"final_plan\")"
   ]
  },
  {
   "cell_type": "code",
   "execution_count": 7,
   "id": "9e93a32e-3199-447c-ab17-22585d80422d",
   "metadata": {},
   "outputs": [],
   "source": [
    "seq_chain = SequentialChain(chains=[chain_1,chain_2,chain_3],\n",
    "                            input_variables=['review'],\n",
    "                            output_variables=['review_summary','weaknesses','final_plan'],\n",
    "                            # input_variables=['review', 'review_summary','weaknesses','final_plan'],\n",
    "                            verbose=True)"
   ]
  },
  {
   "cell_type": "code",
   "execution_count": 8,
   "id": "0e6013f5-40c9-401b-9d45-98b52de1bb3f",
   "metadata": {},
   "outputs": [],
   "source": [
    "employee_review = '''\n",
    "Employee Information:\n",
    "Name: Joe Schmo\n",
    "Position: Software Engineer\n",
    "Date of Review: July 14, 2023\n",
    "\n",
    "Strengths:\n",
    "Joe is a highly skilled software engineer with a deep understanding of programming languages, algorithms, and software development best practices. His technical expertise shines through in his ability to efficiently solve complex problems and deliver high-quality code.\n",
    "\n",
    "One of Joe's greatest strengths is his collaborative nature. He actively engages with cross-functional teams, contributing valuable insights and seeking input from others. His open-mindedness and willingness to learn from colleagues make him a true team player.\n",
    "\n",
    "Joe consistently demonstrates initiative and self-motivation. He takes the lead in seeking out new projects and challenges, and his proactive attitude has led to significant improvements in existing processes and systems. His dedication to self-improvement and growth is commendable.\n",
    "\n",
    "Another notable strength is Joe's adaptability. He has shown great flexibility in handling changing project requirements and learning new technologies. This adaptability allows him to seamlessly transition between different projects and tasks, making him a valuable asset to the team.\n",
    "\n",
    "Joe's problem-solving skills are exceptional. He approaches issues with a logical mindset and consistently finds effective solutions, often thinking outside the box. His ability to break down complex problems into manageable parts is key to his success in resolving issues efficiently.\n",
    "\n",
    "Weaknesses:\n",
    "While Joe possesses numerous strengths, there are a few areas where he could benefit from improvement. One such area is time management. Occasionally, Joe struggles with effectively managing his time, resulting in missed deadlines or the need for additional support to complete tasks on time. Developing better prioritization and time management techniques would greatly enhance his efficiency.\n",
    "\n",
    "Another area for improvement is Joe's written communication skills. While he communicates well verbally, there have been instances where his written documentation lacked clarity, leading to confusion among team members. Focusing on enhancing his written communication abilities will help him effectively convey ideas and instructions.\n",
    "\n",
    "Additionally, Joe tends to take on too many responsibilities and hesitates to delegate tasks to others. This can result in an excessive workload and potential burnout. Encouraging him to delegate tasks appropriately will not only alleviate his own workload but also foster a more balanced and productive team environment.\n",
    "'''"
   ]
  },
  {
   "cell_type": "code",
   "execution_count": 9,
   "id": "406813b0-b79d-4056-8dbc-923e1986df41",
   "metadata": {},
   "outputs": [
    {
     "name": "stdout",
     "output_type": "stream",
     "text": [
      "\n",
      "\n",
      "\u001b[1m> Entering new SequentialChain chain...\u001b[0m\n",
      "\n",
      "\u001b[1m> Finished chain.\u001b[0m\n"
     ]
    }
   ],
   "source": [
    "# results = seq_chain(employee_review)\n",
    "results = seq_chain.invoke(employee_review)"
   ]
  },
  {
   "cell_type": "code",
   "execution_count": 10,
   "id": "be395801-2e84-4686-9203-3857f8b5934b",
   "metadata": {},
   "outputs": [
    {
     "data": {
      "text/plain": [
       "{'review': \"\\nEmployee Information:\\nName: Joe Schmo\\nPosition: Software Engineer\\nDate of Review: July 14, 2023\\n\\nStrengths:\\nJoe is a highly skilled software engineer with a deep understanding of programming languages, algorithms, and software development best practices. His technical expertise shines through in his ability to efficiently solve complex problems and deliver high-quality code.\\n\\nOne of Joe's greatest strengths is his collaborative nature. He actively engages with cross-functional teams, contributing valuable insights and seeking input from others. His open-mindedness and willingness to learn from colleagues make him a true team player.\\n\\nJoe consistently demonstrates initiative and self-motivation. He takes the lead in seeking out new projects and challenges, and his proactive attitude has led to significant improvements in existing processes and systems. His dedication to self-improvement and growth is commendable.\\n\\nAnother notable strength is Joe's adaptability. He has shown great flexibility in handling changing project requirements and learning new technologies. This adaptability allows him to seamlessly transition between different projects and tasks, making him a valuable asset to the team.\\n\\nJoe's problem-solving skills are exceptional. He approaches issues with a logical mindset and consistently finds effective solutions, often thinking outside the box. His ability to break down complex problems into manageable parts is key to his success in resolving issues efficiently.\\n\\nWeaknesses:\\nWhile Joe possesses numerous strengths, there are a few areas where he could benefit from improvement. One such area is time management. Occasionally, Joe struggles with effectively managing his time, resulting in missed deadlines or the need for additional support to complete tasks on time. Developing better prioritization and time management techniques would greatly enhance his efficiency.\\n\\nAnother area for improvement is Joe's written communication skills. While he communicates well verbally, there have been instances where his written documentation lacked clarity, leading to confusion among team members. Focusing on enhancing his written communication abilities will help him effectively convey ideas and instructions.\\n\\nAdditionally, Joe tends to take on too many responsibilities and hesitates to delegate tasks to others. This can result in an excessive workload and potential burnout. Encouraging him to delegate tasks appropriately will not only alleviate his own workload but also foster a more balanced and productive team environment.\\n\",\n",
       " 'review_summary': '## Joe Schmo Performance Review Summary (July 14, 2023)\\n\\nJoe is a highly skilled and valuable Software Engineer who consistently delivers high-quality work. His technical expertise, collaborative nature, initiative, adaptability, and problem-solving skills are all strengths that make him a valuable asset to the team. He is a proactive and dedicated team player who is eager to learn and improve. \\n\\nHowever, there are areas where Joe could benefit from improvement. His time management skills need development, as he occasionally struggles to meet deadlines. Additionally, his written communication could be clearer, and he should be encouraged to delegate tasks more effectively to avoid overloading himself and fostering a more balanced team environment. \\n\\nOverall, Joe is a strong performer with a positive attitude and a commitment to growth. By focusing on improving his time management, written communication, and delegation skills, he can further enhance his performance and become an even more valuable member of the team. \\n',\n",
       " 'weaknesses': 'Here are the key employee weaknesses identified in the review summary:\\n\\n* **Time Management:** Joe struggles to meet deadlines, indicating a need for improved time management skills.\\n* **Written Communication:** His written communication could be clearer, suggesting a lack of clarity or conciseness in his written work.\\n* **Delegation:**  Joe tends to overload himself with tasks, indicating a need to develop better delegation skills to distribute workload more effectively and foster a more balanced team environment. \\n',\n",
       " 'final_plan': '## Personalized Plan for Joe: Addressing Key Weaknesses\\n\\n**Goal:** To enhance Joe\\'s time management, written communication, and delegation skills for improved efficiency and team collaboration.\\n\\n**Phase 1: Self-Awareness and Assessment (2 weeks)**\\n\\n* **Reflect on Feedback:** Joe should review the performance review feedback and identify specific examples of his struggles with time management, written communication, and delegation.\\n* **Identify Triggers:** Analyze what situations or tasks trigger his tendency to overload himself, miss deadlines, or produce unclear communication.\\n* **Time Tracking:**  Joe should track his time spent on different tasks for a week to understand where his time is going and identify potential time-wasting activities.\\n* **Communication Review:** Joe should analyze his recent written communication (emails, reports, etc.) for clarity, conciseness, and effectiveness.\\n\\n**Phase 2: Skill Development (4 weeks)**\\n\\n* **Time Management Strategies:**\\n    * **Prioritization Techniques:** Learn and practice techniques like Eisenhower Matrix or ABC method to prioritize tasks based on urgency and importance.\\n    * **Time Blocking:** Schedule specific blocks of time for different tasks to maintain focus and avoid distractions.\\n    * **Task Breakdown:** Break down large tasks into smaller, manageable steps to feel less overwhelmed.\\n    * **Tools and Resources:** Explore and utilize time management tools like calendars, to-do list apps, and productivity software.\\n* **Written Communication Enhancement:**\\n    * **Clarity and Conciseness:** Practice writing concisely and using clear language to avoid ambiguity.\\n    * **Proofreading and Editing:** Develop a habit of thoroughly proofreading and editing written work before sending it out.\\n    * **Feedback Seeking:** Request feedback from colleagues or mentors on written communication for improvement.\\n* **Delegation Skills Development:**\\n    * **Identify Strengths:** Recognize the strengths of his team members and delegate tasks accordingly.\\n    * **Clear Communication:** Set clear expectations and provide adequate support when delegating tasks.\\n    * **Trust and Empowerment:** Build trust in his team members and empower them to take ownership of their responsibilities.\\n    * **Regular Check-ins:** Schedule regular check-ins with team members to monitor progress and provide support.\\n\\n**Phase 3: Implementation and Monitoring (Ongoing)**\\n\\n* **Action Plan:** Create a personalized action plan based on the identified areas for improvement and the learned skills.\\n* **Regular Check-ins:**  Schedule regular check-ins with his manager to discuss progress, challenges, and adjustments to the plan.\\n* **Feedback Loop:** Continuously seek feedback from colleagues and supervisors on his time management, communication, and delegation skills.\\n* **Continuous Learning:**  Stay up-to-date with the latest time management, communication, and leadership best practices.\\n\\n**Resources:**\\n\\n* **Books:** \"Getting Things Done\" by David Allen, \"The 7 Habits of Highly Effective People\" by Stephen Covey, \"Crucial Conversations\" by Kerry Patterson\\n* **Online Courses:** Coursera, Udemy, LinkedIn Learning\\n* **Workshops and Training:** Attend workshops or training programs focused on time management, communication, and delegation.\\n\\n**Support:**\\n\\n* **Manager:** The manager should provide ongoing support, guidance, and constructive feedback.\\n* **Mentor:** A mentor can offer valuable insights and advice based on their own experiences.\\n* **Team Members:** Encourage open communication and collaboration with team members for mutual support and feedback.\\n\\n**Success Measurement:**\\n\\n* Improved adherence to deadlines.\\n* Clearer and more concise written communication.\\n* Increased delegation of tasks and workload distribution.\\n* Improved team morale and collaboration.\\n\\nThis personalized plan provides a roadmap for Joe to address his identified weaknesses and become a more effective and efficient employee. By consistently working on these areas, he can significantly improve his performance and contribute more effectively to the team. \\n'}"
      ]
     },
     "execution_count": 10,
     "metadata": {},
     "output_type": "execute_result"
    }
   ],
   "source": [
    "results"
   ]
  },
  {
   "cell_type": "code",
   "execution_count": 11,
   "id": "2edc6866-769b-47ee-921d-ae40eb9891eb",
   "metadata": {},
   "outputs": [
    {
     "name": "stdout",
     "output_type": "stream",
     "text": [
      "## Personalized Plan for Joe: Addressing Key Weaknesses\n",
      "\n",
      "**Goal:** To enhance Joe's time management, written communication, and delegation skills for improved efficiency and team collaboration.\n",
      "\n",
      "**Phase 1: Self-Awareness and Assessment (2 weeks)**\n",
      "\n",
      "* **Reflect on Feedback:** Joe should review the performance review feedback and identify specific examples of his struggles with time management, written communication, and delegation.\n",
      "* **Identify Triggers:** Analyze what situations or tasks trigger his tendency to overload himself, miss deadlines, or produce unclear communication.\n",
      "* **Time Tracking:**  Joe should track his time spent on different tasks for a week to understand where his time is going and identify potential time-wasting activities.\n",
      "* **Communication Review:** Joe should analyze his recent written communication (emails, reports, etc.) for clarity, conciseness, and effectiveness.\n",
      "\n",
      "**Phase 2: Skill Development (4 weeks)**\n",
      "\n",
      "* **Time Management Strategies:**\n",
      "    * **Prioritization Techniques:** Learn and practice techniques like Eisenhower Matrix or ABC method to prioritize tasks based on urgency and importance.\n",
      "    * **Time Blocking:** Schedule specific blocks of time for different tasks to maintain focus and avoid distractions.\n",
      "    * **Task Breakdown:** Break down large tasks into smaller, manageable steps to feel less overwhelmed.\n",
      "    * **Tools and Resources:** Explore and utilize time management tools like calendars, to-do list apps, and productivity software.\n",
      "* **Written Communication Enhancement:**\n",
      "    * **Clarity and Conciseness:** Practice writing concisely and using clear language to avoid ambiguity.\n",
      "    * **Proofreading and Editing:** Develop a habit of thoroughly proofreading and editing written work before sending it out.\n",
      "    * **Feedback Seeking:** Request feedback from colleagues or mentors on written communication for improvement.\n",
      "* **Delegation Skills Development:**\n",
      "    * **Identify Strengths:** Recognize the strengths of his team members and delegate tasks accordingly.\n",
      "    * **Clear Communication:** Set clear expectations and provide adequate support when delegating tasks.\n",
      "    * **Trust and Empowerment:** Build trust in his team members and empower them to take ownership of their responsibilities.\n",
      "    * **Regular Check-ins:** Schedule regular check-ins with team members to monitor progress and provide support.\n",
      "\n",
      "**Phase 3: Implementation and Monitoring (Ongoing)**\n",
      "\n",
      "* **Action Plan:** Create a personalized action plan based on the identified areas for improvement and the learned skills.\n",
      "* **Regular Check-ins:**  Schedule regular check-ins with his manager to discuss progress, challenges, and adjustments to the plan.\n",
      "* **Feedback Loop:** Continuously seek feedback from colleagues and supervisors on his time management, communication, and delegation skills.\n",
      "* **Continuous Learning:**  Stay up-to-date with the latest time management, communication, and leadership best practices.\n",
      "\n",
      "**Resources:**\n",
      "\n",
      "* **Books:** \"Getting Things Done\" by David Allen, \"The 7 Habits of Highly Effective People\" by Stephen Covey, \"Crucial Conversations\" by Kerry Patterson\n",
      "* **Online Courses:** Coursera, Udemy, LinkedIn Learning\n",
      "* **Workshops and Training:** Attend workshops or training programs focused on time management, communication, and delegation.\n",
      "\n",
      "**Support:**\n",
      "\n",
      "* **Manager:** The manager should provide ongoing support, guidance, and constructive feedback.\n",
      "* **Mentor:** A mentor can offer valuable insights and advice based on their own experiences.\n",
      "* **Team Members:** Encourage open communication and collaboration with team members for mutual support and feedback.\n",
      "\n",
      "**Success Measurement:**\n",
      "\n",
      "* Improved adherence to deadlines.\n",
      "* Clearer and more concise written communication.\n",
      "* Increased delegation of tasks and workload distribution.\n",
      "* Improved team morale and collaboration.\n",
      "\n",
      "This personalized plan provides a roadmap for Joe to address his identified weaknesses and become a more effective and efficient employee. By consistently working on these areas, he can significantly improve his performance and contribute more effectively to the team. \n",
      "\n"
     ]
    }
   ],
   "source": [
    "print(results['final_plan'])"
   ]
  },
  {
   "cell_type": "code",
   "execution_count": 12,
   "id": "15760213-e3a3-443a-9fe7-17d14c438ac5",
   "metadata": {},
   "outputs": [
    {
     "name": "stdout",
     "output_type": "stream",
     "text": [
      "## Joe Schmo Performance Review Summary (July 14, 2023)\n",
      "\n",
      "Joe is a highly skilled and valuable Software Engineer who consistently delivers high-quality work. His technical expertise, collaborative nature, initiative, adaptability, and problem-solving skills are all strengths that make him a valuable asset to the team. He is a proactive and dedicated team player who is eager to learn and improve. \n",
      "\n",
      "However, there are areas where Joe could benefit from improvement. His time management skills need development, as he occasionally struggles to meet deadlines. Additionally, his written communication could be clearer, and he should be encouraged to delegate tasks more effectively to avoid overloading himself and fostering a more balanced team environment. \n",
      "\n",
      "Overall, Joe is a strong performer with a positive attitude and a commitment to growth. By focusing on improving his time management, written communication, and delegation skills, he can further enhance his performance and become an even more valuable member of the team. \n",
      "\n"
     ]
    }
   ],
   "source": [
    "print(results['review_summary'])"
   ]
  },
  {
   "cell_type": "code",
   "execution_count": 14,
   "id": "ee7c8869",
   "metadata": {},
   "outputs": [
    {
     "name": "stdout",
     "output_type": "stream",
     "text": [
      "Here are the key employee weaknesses identified in the review summary:\n",
      "\n",
      "* **Time Management:** Joe struggles to meet deadlines, indicating a need for improved time management skills.\n",
      "* **Written Communication:** His written communication could be clearer, suggesting a lack of clarity or conciseness in his written work.\n",
      "* **Delegation:**  Joe tends to overload himself with tasks, indicating a need to develop better delegation skills to distribute workload more effectively and foster a more balanced team environment. \n",
      "\n"
     ]
    }
   ],
   "source": [
    "print(results['weaknesses'])"
   ]
  },
  {
   "cell_type": "code",
   "execution_count": null,
   "id": "c76e3f49",
   "metadata": {},
   "outputs": [],
   "source": []
  }
 ],
 "metadata": {
  "kernelspec": {
   "display_name": "Python 3 (ipykernel)",
   "language": "python",
   "name": "python3"
  },
  "language_info": {
   "codemirror_mode": {
    "name": "ipython",
    "version": 3
   },
   "file_extension": ".py",
   "mimetype": "text/x-python",
   "name": "python",
   "nbconvert_exporter": "python",
   "pygments_lexer": "ipython3",
   "version": "3.10.12"
  }
 },
 "nbformat": 4,
 "nbformat_minor": 5
}
