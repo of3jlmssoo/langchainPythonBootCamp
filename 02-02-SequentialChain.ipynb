{
 "cells": [
  {
   "cell_type": "code",
   "execution_count": 2,
   "id": "8a482e73-7d0c-407f-bd88-9f3c1c7eb559",
   "metadata": {},
   "outputs": [],
   "source": [
    "from langchain_google_genai import ChatGoogleGenerativeAI\n",
    "from langchain.prompts import ChatPromptTemplate\n",
    "from langchain.chains import SequentialChain, LLMChain"
   ]
  },
  {
   "cell_type": "code",
   "execution_count": 3,
   "id": "dda2db90-b54b-422e-baff-2bd96faeaaeb",
   "metadata": {},
   "outputs": [],
   "source": [
    "llm = ChatGoogleGenerativeAI(model=\"gemini-1.5-flash\") # type: ignore"
   ]
  },
  {
   "cell_type": "code",
   "execution_count": 22,
   "id": "c2db5816-b29d-4567-b6aa-12e0c74e9331",
   "metadata": {},
   "outputs": [],
   "source": [
    "template1 = \"Give a summary of this employee's performance review:\\n{review}\"\n",
    "prompt1 = ChatPromptTemplate.from_template(template1)\n",
    "chain_1 = LLMChain(llm=llm,\n",
    "                     prompt=prompt1,\n",
    "                     output_key=\"review_summary\")"
   ]
  },
  {
   "cell_type": "code",
   "execution_count": 23,
   "id": "2a6c1d04-1fe0-4386-8b3a-4535cbfaff43",
   "metadata": {},
   "outputs": [],
   "source": [
    "template2 = \"Identify key employee weaknesses in this review summary:\\n{review_summary}\"\n",
    "prompt2 = ChatPromptTemplate.from_template(template2)\n",
    "chain_2 = LLMChain(llm=llm,\n",
    "                     prompt=prompt2,\n",
    "                     output_key=\"weaknesses\")"
   ]
  },
  {
   "cell_type": "code",
   "execution_count": 24,
   "id": "8031844b-586e-44b5-ac74-23b3767a9413",
   "metadata": {},
   "outputs": [],
   "source": [
    "template3 = \"Create a personalized plan to help address and fix these weaknesses:\\n{weaknesses}\"\n",
    "prompt3 = ChatPromptTemplate.from_template(template3)\n",
    "chain_3 = LLMChain(llm=llm,\n",
    "                     prompt=prompt3,\n",
    "                     output_key=\"final_plan\")"
   ]
  },
  {
   "cell_type": "code",
   "execution_count": 25,
   "id": "9e93a32e-3199-447c-ab17-22585d80422d",
   "metadata": {},
   "outputs": [],
   "source": [
    "seq_chain = SequentialChain(chains=[chain_1,chain_2,chain_3],\n",
    "                            input_variables=['review'],\n",
    "                            output_variables=['review_summary','weaknesses','final_plan'],\n",
    "                            # input_variables=['review', 'review_summary','weaknesses','final_plan'],\n",
    "                            verbose=True)"
   ]
  },
  {
   "cell_type": "code",
   "execution_count": 27,
   "id": "0e6013f5-40c9-401b-9d45-98b52de1bb3f",
   "metadata": {},
   "outputs": [],
   "source": [
    "employee_review = '''\n",
    "Employee Information:\n",
    "Name: Joe Schmo\n",
    "Position: Software Engineer\n",
    "Date of Review: July 14, 2023\n",
    "\n",
    "Strengths:\n",
    "Joe is a highly skilled software engineer with a deep understanding of programming languages, algorithms, and software development best practices. His technical expertise shines through in his ability to efficiently solve complex problems and deliver high-quality code.\n",
    "\n",
    "One of Joe's greatest strengths is his collaborative nature. He actively engages with cross-functional teams, contributing valuable insights and seeking input from others. His open-mindedness and willingness to learn from colleagues make him a true team player.\n",
    "\n",
    "Joe consistently demonstrates initiative and self-motivation. He takes the lead in seeking out new projects and challenges, and his proactive attitude has led to significant improvements in existing processes and systems. His dedication to self-improvement and growth is commendable.\n",
    "\n",
    "Another notable strength is Joe's adaptability. He has shown great flexibility in handling changing project requirements and learning new technologies. This adaptability allows him to seamlessly transition between different projects and tasks, making him a valuable asset to the team.\n",
    "\n",
    "Joe's problem-solving skills are exceptional. He approaches issues with a logical mindset and consistently finds effective solutions, often thinking outside the box. His ability to break down complex problems into manageable parts is key to his success in resolving issues efficiently.\n",
    "\n",
    "Weaknesses:\n",
    "While Joe possesses numerous strengths, there are a few areas where he could benefit from improvement. One such area is time management. Occasionally, Joe struggles with effectively managing his time, resulting in missed deadlines or the need for additional support to complete tasks on time. Developing better prioritization and time management techniques would greatly enhance his efficiency.\n",
    "\n",
    "Another area for improvement is Joe's written communication skills. While he communicates well verbally, there have been instances where his written documentation lacked clarity, leading to confusion among team members. Focusing on enhancing his written communication abilities will help him effectively convey ideas and instructions.\n",
    "\n",
    "Additionally, Joe tends to take on too many responsibilities and hesitates to delegate tasks to others. This can result in an excessive workload and potential burnout. Encouraging him to delegate tasks appropriately will not only alleviate his own workload but also foster a more balanced and productive team environment.\n",
    "'''"
   ]
  },
  {
   "cell_type": "code",
   "execution_count": 29,
   "id": "406813b0-b79d-4056-8dbc-923e1986df41",
   "metadata": {},
   "outputs": [
    {
     "name": "stdout",
     "output_type": "stream",
     "text": [
      "\n",
      "\n",
      "\u001b[1m> Entering new SequentialChain chain...\u001b[0m\n",
      "\n",
      "\u001b[1m> Finished chain.\u001b[0m\n"
     ]
    }
   ],
   "source": [
    "# results = seq_chain(employee_review)\n",
    "results = seq_chain.invoke(employee_review)"
   ]
  },
  {
   "cell_type": "code",
   "execution_count": 30,
   "id": "be395801-2e84-4686-9203-3857f8b5934b",
   "metadata": {},
   "outputs": [
    {
     "data": {
      "text/plain": [
       "{'review': \"\\nEmployee Information:\\nName: Joe Schmo\\nPosition: Software Engineer\\nDate of Review: July 14, 2023\\n\\nStrengths:\\nJoe is a highly skilled software engineer with a deep understanding of programming languages, algorithms, and software development best practices. His technical expertise shines through in his ability to efficiently solve complex problems and deliver high-quality code.\\n\\nOne of Joe's greatest strengths is his collaborative nature. He actively engages with cross-functional teams, contributing valuable insights and seeking input from others. His open-mindedness and willingness to learn from colleagues make him a true team player.\\n\\nJoe consistently demonstrates initiative and self-motivation. He takes the lead in seeking out new projects and challenges, and his proactive attitude has led to significant improvements in existing processes and systems. His dedication to self-improvement and growth is commendable.\\n\\nAnother notable strength is Joe's adaptability. He has shown great flexibility in handling changing project requirements and learning new technologies. This adaptability allows him to seamlessly transition between different projects and tasks, making him a valuable asset to the team.\\n\\nJoe's problem-solving skills are exceptional. He approaches issues with a logical mindset and consistently finds effective solutions, often thinking outside the box. His ability to break down complex problems into manageable parts is key to his success in resolving issues efficiently.\\n\\nWeaknesses:\\nWhile Joe possesses numerous strengths, there are a few areas where he could benefit from improvement. One such area is time management. Occasionally, Joe struggles with effectively managing his time, resulting in missed deadlines or the need for additional support to complete tasks on time. Developing better prioritization and time management techniques would greatly enhance his efficiency.\\n\\nAnother area for improvement is Joe's written communication skills. While he communicates well verbally, there have been instances where his written documentation lacked clarity, leading to confusion among team members. Focusing on enhancing his written communication abilities will help him effectively convey ideas and instructions.\\n\\nAdditionally, Joe tends to take on too many responsibilities and hesitates to delegate tasks to others. This can result in an excessive workload and potential burnout. Encouraging him to delegate tasks appropriately will not only alleviate his own workload but also foster a more balanced and productive team environment.\\n\",\n",
       " 'review_summary': \"## Joe Schmo's Performance Review Summary (July 14, 2023)\\n\\n**Overall, Joe is a highly valued Software Engineer with a strong technical foundation and collaborative spirit. He consistently delivers high-quality work and demonstrates initiative and adaptability. His problem-solving skills are exceptional.**\\n\\n**Strengths:**\\n\\n* **Technical Expertise:** Deep understanding of programming languages, algorithms, and best practices.\\n* **Collaboration:** Actively engages with teams, seeks input, and shares valuable insights.\\n* **Initiative & Self-Motivation:** Proactively seeks new challenges and drives process improvements.\\n* **Adaptability:** Flexibly handles changing requirements and readily learns new technologies.\\n* **Problem-Solving:** Approaches issues logically and finds creative solutions.\\n\\n**Areas for Improvement:**\\n\\n* **Time Management:** Improve prioritization and time management techniques to meet deadlines consistently.\\n* **Written Communication:** Enhance written communication clarity to avoid confusion amongst team members.\\n* **Delegation:**  Encourage delegation of tasks to balance workload and foster a more collaborative team environment. \\n\\n**Recommendation:** Joe should focus on developing his time management and written communication skills.  He should also be encouraged to delegate tasks to others to ensure a sustainable workload and promote team collaboration.\\n\",\n",
       " 'weaknesses': \"The performance review highlights the following key employee weaknesses:\\n\\n* **Time Management:** Joe struggles to consistently meet deadlines, indicating a lack of effective prioritization and time management skills.\\n* **Written Communication:** His written communication is unclear, leading to confusion among team members. This suggests a need for improvement in his ability to convey information concisely and accurately.\\n* **Delegation:** Joe doesn't delegate tasks effectively, potentially leading to an unsustainable workload and hindering team collaboration. This indicates a lack of trust in his colleagues and/or an unwillingness to empower others. \\n\\nThese weaknesses, while not severe, could impact Joe's overall performance and career growth. Addressing them through targeted training and coaching would be beneficial for both Joe and the team. \\n\",\n",
       " 'final_plan': \"## Personalized Plan for Joe: Addressing Weaknesses and Fostering Growth\\n\\n**Goal:**  Enhance Joe's time management, written communication, and delegation skills to improve overall performance and career growth.\\n\\n**Timeline:**  6 months\\n\\n**Phase 1: Assessment and Goal Setting (1 month)**\\n\\n* **Self-Reflection:** Encourage Joe to reflect on his current work habits and identify specific areas where he feels he could improve.  \\n* **Feedback Session:** Conduct a structured feedback session with Joe, discussing the performance review and discussing his self-reflection. \\n* **Goal Setting:**  Collaboratively set specific, measurable, achievable, relevant, and time-bound (SMART) goals for each weakness. \\n    * **Time Management:**  Reduce missed deadlines by 50% within 3 months.\\n    * **Written Communication:**  Receive positive feedback on written communication clarity from at least 80% of colleagues within 2 months.\\n    * **Delegation:**  Successfully delegate 2-3 tasks per week to team members within 1 month.\\n\\n**Phase 2: Skill Development and Training (3 months)**\\n\\n* **Time Management Training:**  Enroll Joe in a time management workshop or online course focusing on prioritization techniques, task management tools, and effective scheduling.\\n* **Written Communication Workshop:**  Provide Joe with access to resources and workshops on clear and concise writing, including grammar and style guides. Encourage him to practice writing summaries and reports.\\n* **Delegation Coaching:**  Provide Joe with individualized coaching sessions focused on building trust in colleagues, identifying appropriate tasks for delegation, and providing clear instructions and expectations.\\n* **Feedback Mechanisms:** Implement regular check-ins to monitor progress and provide feedback. Encourage Joe to seek feedback from colleagues on his communication and delegation efforts.\\n\\n**Phase 3: Continuous Improvement and Empowerment (2 months)**\\n\\n* **Mentorship:** Pair Joe with a senior team member who excels in time management, communication, and delegation. Encourage regular mentorship sessions for ongoing support and guidance.\\n* **Self-Assessment:**  Implement a system for Joe to regularly self-assess his progress in each area and identify ongoing challenges.\\n* **Performance Review:** Conduct a follow-up performance review after 6 months to evaluate progress and set new goals for continued development.\\n\\n**Resources:**\\n\\n* **Time Management Tools:**  Explore various time management apps and tools like Asana, Trello, or Google Calendar.\\n* **Writing Resources:**  Utilize online resources like Grammarly or Hemingway Editor for writing improvement.\\n* **Delegation Guides:**  Provide Joe with articles and guides on effective delegation techniques.\\n\\n**Key Success Factors:**\\n\\n* **Active Participation:** Encourage Joe's active participation in the process by providing him with ownership and responsibility for his development.\\n* **Open Communication:** Maintain open and constructive communication throughout the process to address challenges and celebrate successes.\\n* **Continuous Feedback:**  Provide regular feedback and support to ensure Joe feels encouraged and motivated to continue improving.\\n\\n**By implementing this personalized plan, Joe can effectively address his weaknesses, enhance his skills, and contribute more effectively to the team while fostering his career growth.** \\n\"}"
      ]
     },
     "execution_count": 30,
     "metadata": {},
     "output_type": "execute_result"
    }
   ],
   "source": [
    "results"
   ]
  },
  {
   "cell_type": "code",
   "execution_count": 31,
   "id": "2edc6866-769b-47ee-921d-ae40eb9891eb",
   "metadata": {},
   "outputs": [
    {
     "name": "stdout",
     "output_type": "stream",
     "text": [
      "## Personalized Plan for Joe: Addressing Weaknesses and Fostering Growth\n",
      "\n",
      "**Goal:**  Enhance Joe's time management, written communication, and delegation skills to improve overall performance and career growth.\n",
      "\n",
      "**Timeline:**  6 months\n",
      "\n",
      "**Phase 1: Assessment and Goal Setting (1 month)**\n",
      "\n",
      "* **Self-Reflection:** Encourage Joe to reflect on his current work habits and identify specific areas where he feels he could improve.  \n",
      "* **Feedback Session:** Conduct a structured feedback session with Joe, discussing the performance review and discussing his self-reflection. \n",
      "* **Goal Setting:**  Collaboratively set specific, measurable, achievable, relevant, and time-bound (SMART) goals for each weakness. \n",
      "    * **Time Management:**  Reduce missed deadlines by 50% within 3 months.\n",
      "    * **Written Communication:**  Receive positive feedback on written communication clarity from at least 80% of colleagues within 2 months.\n",
      "    * **Delegation:**  Successfully delegate 2-3 tasks per week to team members within 1 month.\n",
      "\n",
      "**Phase 2: Skill Development and Training (3 months)**\n",
      "\n",
      "* **Time Management Training:**  Enroll Joe in a time management workshop or online course focusing on prioritization techniques, task management tools, and effective scheduling.\n",
      "* **Written Communication Workshop:**  Provide Joe with access to resources and workshops on clear and concise writing, including grammar and style guides. Encourage him to practice writing summaries and reports.\n",
      "* **Delegation Coaching:**  Provide Joe with individualized coaching sessions focused on building trust in colleagues, identifying appropriate tasks for delegation, and providing clear instructions and expectations.\n",
      "* **Feedback Mechanisms:** Implement regular check-ins to monitor progress and provide feedback. Encourage Joe to seek feedback from colleagues on his communication and delegation efforts.\n",
      "\n",
      "**Phase 3: Continuous Improvement and Empowerment (2 months)**\n",
      "\n",
      "* **Mentorship:** Pair Joe with a senior team member who excels in time management, communication, and delegation. Encourage regular mentorship sessions for ongoing support and guidance.\n",
      "* **Self-Assessment:**  Implement a system for Joe to regularly self-assess his progress in each area and identify ongoing challenges.\n",
      "* **Performance Review:** Conduct a follow-up performance review after 6 months to evaluate progress and set new goals for continued development.\n",
      "\n",
      "**Resources:**\n",
      "\n",
      "* **Time Management Tools:**  Explore various time management apps and tools like Asana, Trello, or Google Calendar.\n",
      "* **Writing Resources:**  Utilize online resources like Grammarly or Hemingway Editor for writing improvement.\n",
      "* **Delegation Guides:**  Provide Joe with articles and guides on effective delegation techniques.\n",
      "\n",
      "**Key Success Factors:**\n",
      "\n",
      "* **Active Participation:** Encourage Joe's active participation in the process by providing him with ownership and responsibility for his development.\n",
      "* **Open Communication:** Maintain open and constructive communication throughout the process to address challenges and celebrate successes.\n",
      "* **Continuous Feedback:**  Provide regular feedback and support to ensure Joe feels encouraged and motivated to continue improving.\n",
      "\n",
      "**By implementing this personalized plan, Joe can effectively address his weaknesses, enhance his skills, and contribute more effectively to the team while fostering his career growth.** \n",
      "\n"
     ]
    }
   ],
   "source": [
    "print(results['final_plan'])"
   ]
  },
  {
   "cell_type": "code",
   "execution_count": null,
   "id": "15760213-e3a3-443a-9fe7-17d14c438ac5",
   "metadata": {},
   "outputs": [],
   "source": []
  }
 ],
 "metadata": {
  "kernelspec": {
   "display_name": "Python 3 (ipykernel)",
   "language": "python",
   "name": "python3"
  },
  "language_info": {
   "codemirror_mode": {
    "name": "ipython",
    "version": 3
   },
   "file_extension": ".py",
   "mimetype": "text/x-python",
   "name": "python",
   "nbconvert_exporter": "python",
   "pygments_lexer": "ipython3",
   "version": "3.10.12"
  }
 },
 "nbformat": 4,
 "nbformat_minor": 5
}
