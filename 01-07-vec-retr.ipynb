{
 "cells": [
  {
   "cell_type": "code",
   "execution_count": 3,
   "metadata": {},
   "outputs": [],
   "source": [
    "# Build a sample vectorDB\n",
    "from langchain.vectorstores import Chroma\n",
    "from langchain.document_loaders import WikipediaLoader\n",
    "# from langchain_openai import OpenAIEmbeddings\n",
    "from langchain.text_splitter import CharacterTextSplitter"
   ]
  },
  {
   "cell_type": "code",
   "execution_count": 4,
   "metadata": {},
   "outputs": [],
   "source": [
    "from langchain_google_genai import GoogleGenerativeAIEmbeddings\n",
    "\n",
    "gemini_embeddings = GoogleGenerativeAIEmbeddings(model=\"models/embedding-001\") # type: ignore"
   ]
  },
  {
   "cell_type": "code",
   "execution_count": 15,
   "metadata": {},
   "outputs": [],
   "source": [
    "persist_directory=\"./speech_embedding_db\" # connect to FDR\n",
    "vectordb = Chroma(persist_directory=persist_directory, embedding_function=gemini_embeddings)"
   ]
  },
  {
   "cell_type": "code",
   "execution_count": 6,
   "metadata": {},
   "outputs": [],
   "source": [
    "retriever = vectordb.as_retriever()"
   ]
  },
  {
   "cell_type": "code",
   "execution_count": 12,
   "metadata": {},
   "outputs": [],
   "source": [
    "results = retriever.get_relevant_documents('cost of food')"
   ]
  },
  {
   "cell_type": "code",
   "execution_count": 13,
   "metadata": {},
   "outputs": [
    {
     "data": {
      "text/plain": [
       "[Document(metadata={'source': '../langchain-course-main/June 2024 Update/01-Data-Connections/some_data/FDR_State_of_Union_1944.txt'}, page_content='If we analyze American history impartially, we cannot escape the fact that in our past we have not always forgotten individual and selfish and partisan interests in time of war—we have not always been united in purpose and direction. We cannot overlook the serious dissensions and the lack of unity in our war of the Revolution, in our War of 1812, or in our War Between the States, when the survival of the Union itself was at stake.\\n\\nIn the first World War we came closer to national unity than in any previous war. But that war lasted only a year and a half, and increasing signs of disunity began to appear during the final months of the conflict.\\n\\nIn this war, we have been compelled to learn how interdependent upon each other are all groups and sections of the population of America.\\n\\nIncreased food costs, for example, will bring new demands for wage increases from all war workers, which will in turn raise all prices of all things including those things which the farmers themselves have to buy. Increased wages or prices will each in turn produce the same results. They all have a particularly disastrous result on all fixed income groups.\\n\\nAnd I hope you will remember that all of us in this Government represent the fixed income group just as much as we represent business owners, workers, and farmers. This group of fixed income people includes: teachers, clergy, policemen, firemen, widows and minors on fixed incomes, wives and dependents of our soldiers and sailors, and old-age pensioners. They and their families add up to one-quarter of our one hundred and thirty million people. They have few or no high pressure representatives at the Capitol. In a period of gross inflation they would be the worst sufferers.\\n\\nIf ever there was a time to subordinate individual or group selfishness to the national good, that time is now. Disunity at home—bickerings, self-seeking partisanship, stoppages of work, inflation, business as usual, politics as usual, luxury as usual these are the influences which can undermine the morale of the brave men ready to die at the front for us here.'),\n",
       " Document(metadata={'source': '../langchain-course-main/June 2024 Update/01-Data-Connections/some_data/FDR_State_of_Union_1944.txt'}, page_content='If we analyze American history impartially, we cannot escape the fact that in our past we have not always forgotten individual and selfish and partisan interests in time of war—we have not always been united in purpose and direction. We cannot overlook the serious dissensions and the lack of unity in our war of the Revolution, in our War of 1812, or in our War Between the States, when the survival of the Union itself was at stake.\\n\\nIn the first World War we came closer to national unity than in any previous war. But that war lasted only a year and a half, and increasing signs of disunity began to appear during the final months of the conflict.\\n\\nIn this war, we have been compelled to learn how interdependent upon each other are all groups and sections of the population of America.\\n\\nIncreased food costs, for example, will bring new demands for wage increases from all war workers, which will in turn raise all prices of all things including those things which the farmers themselves have to buy. Increased wages or prices will each in turn produce the same results. They all have a particularly disastrous result on all fixed income groups.\\n\\nAnd I hope you will remember that all of us in this Government represent the fixed income group just as much as we represent business owners, workers, and farmers. This group of fixed income people includes: teachers, clergy, policemen, firemen, widows and minors on fixed incomes, wives and dependents of our soldiers and sailors, and old-age pensioners. They and their families add up to one-quarter of our one hundred and thirty million people. They have few or no high pressure representatives at the Capitol. In a period of gross inflation they would be the worst sufferers.\\n\\nIf ever there was a time to subordinate individual or group selfishness to the national good, that time is now. Disunity at home—bickerings, self-seeking partisanship, stoppages of work, inflation, business as usual, politics as usual, luxury as usual these are the influences which can undermine the morale of the brave men ready to die at the front for us here.'),\n",
       " Document(metadata={'source': '../langchain-course-main/June 2024 Update/01-Data-Connections/some_data/FDR_State_of_Union_1944.txt'}, page_content='That is the way to fight and win a war—all out—and not with half-an-eye on the battlefronts abroad and the other eye-and-a-half on personal, selfish, or political interests here at home.\\n\\nTherefore, in order to concentrate all our energies and resources on winning the war, and to maintain a fair and stable economy at home, I recommend that the Congress adopt:\\n\\n(1) A realistic tax law—which will tax all unreasonable profits, both individual and corporate, and reduce the ultimate cost of the war to our sons and daughters. The tax bill now under consideration by the Congress does not begin to meet this test.\\n\\n(2) A continuation of the law for the renegotiation of war contracts—which will prevent exorbitant profits and assure fair prices to the Government. For two long years I have pleaded with the Congress to take undue profits out of war.\\n\\n(3) A cost of food law—which will enable the Government (a) to place a reasonable floor under the prices the farmer may expect for his production; and (b) to place a ceiling on the prices a consumer will have to pay for the food he buys. This should apply to necessities only; and will require public funds to carry out. It will cost in appropriations about one percent of the present annual cost of the war.\\n\\n(4) Early reenactment of. the stabilization statute of October, 1942. This expires June 30, 1944, and if it is not extended well in advance, the country might just as well expect price chaos by summer.\\n\\n(5) A national service law- which, for the duration of the war, will prevent strikes, and, with certain appropriate exceptions, will make available for war production or for any other essential services every able-bodied adult in this Nation.\\n\\nThese five measures together form a just and equitable whole. I would not recommend a national service law unless the other laws were passed to keep down the cost of living, to share equitably the burdens of taxation, to hold the stabilization line, and to prevent undue profits.\\n\\nThe Federal Government already has the basic power to draft capital and property of all kinds for war purposes on a basis of just compensation.'),\n",
       " Document(metadata={'source': '../langchain-course-main/June 2024 Update/01-Data-Connections/some_data/FDR_State_of_Union_1944.txt'}, page_content='That is the way to fight and win a war—all out—and not with half-an-eye on the battlefronts abroad and the other eye-and-a-half on personal, selfish, or political interests here at home.\\n\\nTherefore, in order to concentrate all our energies and resources on winning the war, and to maintain a fair and stable economy at home, I recommend that the Congress adopt:\\n\\n(1) A realistic tax law—which will tax all unreasonable profits, both individual and corporate, and reduce the ultimate cost of the war to our sons and daughters. The tax bill now under consideration by the Congress does not begin to meet this test.\\n\\n(2) A continuation of the law for the renegotiation of war contracts—which will prevent exorbitant profits and assure fair prices to the Government. For two long years I have pleaded with the Congress to take undue profits out of war.\\n\\n(3) A cost of food law—which will enable the Government (a) to place a reasonable floor under the prices the farmer may expect for his production; and (b) to place a ceiling on the prices a consumer will have to pay for the food he buys. This should apply to necessities only; and will require public funds to carry out. It will cost in appropriations about one percent of the present annual cost of the war.\\n\\n(4) Early reenactment of. the stabilization statute of October, 1942. This expires June 30, 1944, and if it is not extended well in advance, the country might just as well expect price chaos by summer.\\n\\n(5) A national service law- which, for the duration of the war, will prevent strikes, and, with certain appropriate exceptions, will make available for war production or for any other essential services every able-bodied adult in this Nation.\\n\\nThese five measures together form a just and equitable whole. I would not recommend a national service law unless the other laws were passed to keep down the cost of living, to share equitably the burdens of taxation, to hold the stabilization line, and to prevent undue profits.\\n\\nThe Federal Government already has the basic power to draft capital and property of all kinds for war purposes on a basis of just compensation.')]"
      ]
     },
     "execution_count": 13,
     "metadata": {},
     "output_type": "execute_result"
    }
   ],
   "source": [
    "results"
   ]
  },
  {
   "cell_type": "code",
   "execution_count": 14,
   "metadata": {},
   "outputs": [
    {
     "name": "stdout",
     "output_type": "stream",
     "text": [
      "If we analyze American history impartially, we cannot escape the fact that in our past we have not always forgotten individual and selfish and partisan interests in time of war—we have not always been united in purpose and direction. We cannot overlook the serious dissensions and the lack of unity in our war of the Revolution, in our War of 1812, or in our War Between the States, when the survival of the Union itself was at stake.\n",
      "\n",
      "In the first World War we came closer to national unity than in any previous war. But that war lasted only a year and a half, and increasing signs of disunity began to appear during the final months of the conflict.\n",
      "\n",
      "In this war, we have been compelled to learn how interdependent upon each other are all groups and sections of the population of America.\n",
      "\n",
      "Increased food costs, for example, will bring new demands for wage increases from all war workers, which will in turn raise all prices of all things including those things which the farmers themselves have to buy. Increased wages or prices will each in turn produce the same results. They all have a particularly disastrous result on all fixed income groups.\n",
      "\n",
      "And I hope you will remember that all of us in this Government represent the fixed income group just as much as we represent business owners, workers, and farmers. This group of fixed income people includes: teachers, clergy, policemen, firemen, widows and minors on fixed incomes, wives and dependents of our soldiers and sailors, and old-age pensioners. They and their families add up to one-quarter of our one hundred and thirty million people. They have few or no high pressure representatives at the Capitol. In a period of gross inflation they would be the worst sufferers.\n",
      "\n",
      "If ever there was a time to subordinate individual or group selfishness to the national good, that time is now. Disunity at home—bickerings, self-seeking partisanship, stoppages of work, inflation, business as usual, politics as usual, luxury as usual these are the influences which can undermine the morale of the brave men ready to die at the front for us here.\n"
     ]
    }
   ],
   "source": [
    "print(results[0].page_content)"
   ]
  },
  {
   "cell_type": "code",
   "execution_count": 16,
   "metadata": {},
   "outputs": [],
   "source": [
    "# search_kwargs = {\"score_threshold\":0.8,\"k\":4}\n",
    "# docs = retriever.invoke(\"President\",search_kwargs=search_kwargs)"
   ]
  }
 ],
 "metadata": {
  "kernelspec": {
   "display_name": ".py310env",
   "language": "python",
   "name": "python3"
  },
  "language_info": {
   "codemirror_mode": {
    "name": "ipython",
    "version": 3
   },
   "file_extension": ".py",
   "mimetype": "text/x-python",
   "name": "python",
   "nbconvert_exporter": "python",
   "pygments_lexer": "ipython3",
   "version": "3.10.12"
  }
 },
 "nbformat": 4,
 "nbformat_minor": 2
}
